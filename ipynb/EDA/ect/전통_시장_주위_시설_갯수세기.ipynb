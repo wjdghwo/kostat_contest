{
 "cells": [
  {
   "cell_type": "markdown",
   "metadata": {
    "colab_type": "text",
    "id": "view-in-github"
   },
   "source": [
    "<a href=\"https://colab.research.google.com/github/fenzhantw/traditional_market/blob/main/%EC%A0%84%ED%86%B5_%EC%8B%9C%EC%9E%A5_%EC%A3%BC%EC%9C%84_%EC%8B%9C%EC%84%A4_%EA%B0%AF%EC%88%98%EC%84%B8%EA%B8%B0.ipynb\" target=\"_parent\"><img src=\"https://colab.research.google.com/assets/colab-badge.svg\" alt=\"Open In Colab\"/></a>"
   ]
  },
  {
   "cell_type": "code",
   "execution_count": 1,
   "metadata": {
    "ExecuteTime": {
     "end_time": "2021-07-15T02:21:54.741276Z",
     "start_time": "2021-07-15T02:21:53.448179Z"
    }
   },
   "outputs": [],
   "source": [
    "import pandas as pd"
   ]
  },
  {
   "cell_type": "code",
   "execution_count": 2,
   "metadata": {
    "ExecuteTime": {
     "end_time": "2021-07-15T02:21:54.789281Z",
     "start_time": "2021-07-15T02:21:54.760280Z"
    },
    "id": "llcal7fHs46j"
   },
   "outputs": [],
   "source": [
    "data = pd.read_csv('부산 대형 전통시장.csv',encoding='cp949')"
   ]
  },
  {
   "cell_type": "code",
   "execution_count": 3,
   "metadata": {
    "ExecuteTime": {
     "end_time": "2021-07-15T02:21:54.853286Z",
     "start_time": "2021-07-15T02:21:54.824283Z"
    },
    "colab": {
     "base_uri": "https://localhost:8080/",
     "height": 409
    },
    "id": "QUoONI3CuFRr",
    "outputId": "b950b4e8-8d5e-40ba-9d76-abdec332c353"
   },
   "outputs": [
    {
     "data": {
      "text/html": [
       "<div>\n",
       "<style scoped>\n",
       "    .dataframe tbody tr th:only-of-type {\n",
       "        vertical-align: middle;\n",
       "    }\n",
       "\n",
       "    .dataframe tbody tr th {\n",
       "        vertical-align: top;\n",
       "    }\n",
       "\n",
       "    .dataframe thead th {\n",
       "        text-align: right;\n",
       "    }\n",
       "</style>\n",
       "<table border=\"1\" class=\"dataframe\">\n",
       "  <thead>\n",
       "    <tr style=\"text-align: right;\">\n",
       "      <th></th>\n",
       "      <th>시장명</th>\n",
       "      <th>시장유형</th>\n",
       "      <th>소재지도로명주소</th>\n",
       "      <th>소재지지번주소</th>\n",
       "      <th>시장개설주기</th>\n",
       "      <th>위도</th>\n",
       "      <th>경도</th>\n",
       "      <th>점포수</th>\n",
       "      <th>취급품목</th>\n",
       "      <th>공중화장실보유여부</th>\n",
       "      <th>주차장보유여부</th>\n",
       "      <th>개설연도</th>\n",
       "    </tr>\n",
       "  </thead>\n",
       "  <tbody>\n",
       "    <tr>\n",
       "      <th>0</th>\n",
       "      <td>괴정골목시장</td>\n",
       "      <td>상설장</td>\n",
       "      <td>부산광역시 사하구 사하로198번길 37(괴정동) 외</td>\n",
       "      <td>부산광역시 사하구 괴정동 435-8</td>\n",
       "      <td>매일</td>\n",
       "      <td>35.100170</td>\n",
       "      <td>128.995575</td>\n",
       "      <td>145</td>\n",
       "      <td>정육점, 쌀집, 생선, 축산, 의류, 분식, 야채, 떡, 과일, 참기름, 철물, 중...</td>\n",
       "      <td>N</td>\n",
       "      <td>N</td>\n",
       "      <td>49</td>\n",
       "    </tr>\n",
       "    <tr>\n",
       "      <th>1</th>\n",
       "      <td>국제시장</td>\n",
       "      <td>상설장</td>\n",
       "      <td>부산광역시 중구 중구로 42</td>\n",
       "      <td>부산광역시 중구 신창동4가 40-5</td>\n",
       "      <td>매일</td>\n",
       "      <td>35.101541</td>\n",
       "      <td>129.028072</td>\n",
       "      <td>580</td>\n",
       "      <td>주단 침구 문구 등</td>\n",
       "      <td>Y</td>\n",
       "      <td>Y</td>\n",
       "      <td>74</td>\n",
       "    </tr>\n",
       "    <tr>\n",
       "      <th>2</th>\n",
       "      <td>기장시장</td>\n",
       "      <td>상설장</td>\n",
       "      <td>부산광역시 기장군 기장읍 읍내로 104번길 16</td>\n",
       "      <td>부산광역시 기장군 기장읍 대라리 72-1</td>\n",
       "      <td>부산광역시 기장군 기장읍 대라리 72-1번지</td>\n",
       "      <td>35.243695</td>\n",
       "      <td>129.214867</td>\n",
       "      <td>149</td>\n",
       "      <td>수산물, 농산물</td>\n",
       "      <td>Y</td>\n",
       "      <td>Y</td>\n",
       "      <td>78</td>\n",
       "    </tr>\n",
       "    <tr>\n",
       "      <th>3</th>\n",
       "      <td>남항시장</td>\n",
       "      <td>상설장</td>\n",
       "      <td>부산광역시 영도구 절영로49번길 73-5</td>\n",
       "      <td>부산광역시 영도구 영선동2가 64-6</td>\n",
       "      <td>매일</td>\n",
       "      <td>35.088908</td>\n",
       "      <td>129.042262</td>\n",
       "      <td>272</td>\n",
       "      <td>농축산물, 수산물, 의류, 공산품 등 생필품 위주</td>\n",
       "      <td>Y</td>\n",
       "      <td>Y</td>\n",
       "      <td>62</td>\n",
       "    </tr>\n",
       "    <tr>\n",
       "      <th>4</th>\n",
       "      <td>복이 있는 덕포시장</td>\n",
       "      <td>상설장</td>\n",
       "      <td>부산광역시 사상구 사상로293번길 12(덕포1동)</td>\n",
       "      <td>부산광역시 사상구 덕포동 421-13</td>\n",
       "      <td>매일</td>\n",
       "      <td>35.171282</td>\n",
       "      <td>128.982255</td>\n",
       "      <td>190</td>\n",
       "      <td>잡화</td>\n",
       "      <td>N</td>\n",
       "      <td>N</td>\n",
       "      <td>41</td>\n",
       "    </tr>\n",
       "  </tbody>\n",
       "</table>\n",
       "</div>"
      ],
      "text/plain": [
       "          시장명 시장유형                      소재지도로명주소                 소재지지번주소  \\\n",
       "0      괴정골목시장  상설장  부산광역시 사하구 사하로198번길 37(괴정동) 외     부산광역시 사하구 괴정동 435-8   \n",
       "1        국제시장  상설장               부산광역시 중구 중구로 42     부산광역시 중구 신창동4가 40-5   \n",
       "2        기장시장  상설장    부산광역시 기장군 기장읍 읍내로 104번길 16  부산광역시 기장군 기장읍 대라리 72-1   \n",
       "3        남항시장  상설장        부산광역시 영도구 절영로49번길 73-5    부산광역시 영도구 영선동2가 64-6   \n",
       "4  복이 있는 덕포시장  상설장   부산광역시 사상구 사상로293번길 12(덕포1동)    부산광역시 사상구 덕포동 421-13   \n",
       "\n",
       "                     시장개설주기         위도          경도  점포수  \\\n",
       "0                        매일  35.100170  128.995575  145   \n",
       "1                        매일  35.101541  129.028072  580   \n",
       "2  부산광역시 기장군 기장읍 대라리 72-1번지  35.243695  129.214867  149   \n",
       "3                        매일  35.088908  129.042262  272   \n",
       "4                        매일  35.171282  128.982255  190   \n",
       "\n",
       "                                                취급품목 공중화장실보유여부 주차장보유여부  개설연도  \n",
       "0  정육점, 쌀집, 생선, 축산, 의류, 분식, 야채, 떡, 과일, 참기름, 철물, 중...         N       N    49  \n",
       "1                                         주단 침구 문구 등         Y       Y    74  \n",
       "2                                           수산물, 농산물         Y       Y    78  \n",
       "3                        농축산물, 수산물, 의류, 공산품 등 생필품 위주         Y       Y    62  \n",
       "4                                                 잡화         N       N    41  "
      ]
     },
     "execution_count": 3,
     "metadata": {},
     "output_type": "execute_result"
    }
   ],
   "source": [
    "data.head()"
   ]
  },
  {
   "cell_type": "code",
   "execution_count": 4,
   "metadata": {
    "ExecuteTime": {
     "end_time": "2021-07-15T02:21:54.901290Z",
     "start_time": "2021-07-15T02:21:54.889289Z"
    },
    "id": "wEjpR_6ouHo0"
   },
   "outputs": [],
   "source": [
    "data_copy = data[:]"
   ]
  },
  {
   "cell_type": "code",
   "execution_count": 5,
   "metadata": {
    "ExecuteTime": {
     "end_time": "2021-07-15T02:21:54.949292Z",
     "start_time": "2021-07-15T02:21:54.936293Z"
    },
    "id": "dQHKB4aNuOAe"
   },
   "outputs": [],
   "source": [
    "data_copy = data_copy[['시장명','위도','경도']]"
   ]
  },
  {
   "cell_type": "code",
   "execution_count": 6,
   "metadata": {
    "ExecuteTime": {
     "end_time": "2021-07-15T02:21:55.251316Z",
     "start_time": "2021-07-15T02:21:55.230315Z"
    },
    "colab": {
     "base_uri": "https://localhost:8080/",
     "height": 204
    },
    "id": "yCMWQ8zau3BP",
    "outputId": "baa5b41f-27d8-4dd5-82e6-6e1549319f33"
   },
   "outputs": [
    {
     "data": {
      "text/html": [
       "<div>\n",
       "<style scoped>\n",
       "    .dataframe tbody tr th:only-of-type {\n",
       "        vertical-align: middle;\n",
       "    }\n",
       "\n",
       "    .dataframe tbody tr th {\n",
       "        vertical-align: top;\n",
       "    }\n",
       "\n",
       "    .dataframe thead th {\n",
       "        text-align: right;\n",
       "    }\n",
       "</style>\n",
       "<table border=\"1\" class=\"dataframe\">\n",
       "  <thead>\n",
       "    <tr style=\"text-align: right;\">\n",
       "      <th></th>\n",
       "      <th>시장명</th>\n",
       "      <th>위도</th>\n",
       "      <th>경도</th>\n",
       "    </tr>\n",
       "  </thead>\n",
       "  <tbody>\n",
       "    <tr>\n",
       "      <th>0</th>\n",
       "      <td>괴정골목시장</td>\n",
       "      <td>35.100170</td>\n",
       "      <td>128.995575</td>\n",
       "    </tr>\n",
       "    <tr>\n",
       "      <th>1</th>\n",
       "      <td>국제시장</td>\n",
       "      <td>35.101541</td>\n",
       "      <td>129.028072</td>\n",
       "    </tr>\n",
       "    <tr>\n",
       "      <th>2</th>\n",
       "      <td>기장시장</td>\n",
       "      <td>35.243695</td>\n",
       "      <td>129.214867</td>\n",
       "    </tr>\n",
       "    <tr>\n",
       "      <th>3</th>\n",
       "      <td>남항시장</td>\n",
       "      <td>35.088908</td>\n",
       "      <td>129.042262</td>\n",
       "    </tr>\n",
       "    <tr>\n",
       "      <th>4</th>\n",
       "      <td>복이 있는 덕포시장</td>\n",
       "      <td>35.171282</td>\n",
       "      <td>128.982255</td>\n",
       "    </tr>\n",
       "  </tbody>\n",
       "</table>\n",
       "</div>"
      ],
      "text/plain": [
       "          시장명         위도          경도\n",
       "0      괴정골목시장  35.100170  128.995575\n",
       "1        국제시장  35.101541  129.028072\n",
       "2        기장시장  35.243695  129.214867\n",
       "3        남항시장  35.088908  129.042262\n",
       "4  복이 있는 덕포시장  35.171282  128.982255"
      ]
     },
     "execution_count": 6,
     "metadata": {},
     "output_type": "execute_result"
    }
   ],
   "source": [
    "data_copy.head()"
   ]
  },
  {
   "cell_type": "code",
   "execution_count": 7,
   "metadata": {
    "ExecuteTime": {
     "end_time": "2021-07-15T02:21:55.953369Z",
     "start_time": "2021-07-15T02:21:55.929369Z"
    },
    "colab": {
     "base_uri": "https://localhost:8080/"
    },
    "id": "HN4in8YO8dM1",
    "outputId": "9765e9df-c808-4886-bfe4-43d40fb675f6"
   },
   "outputs": [
    {
     "name": "stdout",
     "output_type": "stream",
     "text": [
      "<class 'pandas.core.frame.DataFrame'>\n",
      "RangeIndex: 20 entries, 0 to 19\n",
      "Data columns (total 3 columns):\n",
      " #   Column  Non-Null Count  Dtype  \n",
      "---  ------  --------------  -----  \n",
      " 0   시장명     20 non-null     object \n",
      " 1   위도      20 non-null     float64\n",
      " 2   경도      20 non-null     float64\n",
      "dtypes: float64(2), object(1)\n",
      "memory usage: 608.0+ bytes\n"
     ]
    }
   ],
   "source": [
    "data_copy.info()"
   ]
  },
  {
   "cell_type": "code",
   "execution_count": 8,
   "metadata": {
    "ExecuteTime": {
     "end_time": "2021-07-15T02:21:58.445558Z",
     "start_time": "2021-07-15T02:21:58.430558Z"
    },
    "id": "gED9fxhrvOlm"
   },
   "outputs": [],
   "source": [
    "data_copy=data_copy.dropna()"
   ]
  },
  {
   "cell_type": "code",
   "execution_count": 9,
   "metadata": {
    "ExecuteTime": {
     "end_time": "2021-07-15T02:21:58.651575Z",
     "start_time": "2021-07-15T02:21:58.631575Z"
    },
    "colab": {
     "base_uri": "https://localhost:8080/"
    },
    "id": "zIjNM2vMvaCn",
    "outputId": "28173315-8326-4c9f-99fe-3eac3f250f1e"
   },
   "outputs": [
    {
     "name": "stdout",
     "output_type": "stream",
     "text": [
      "<class 'pandas.core.frame.DataFrame'>\n",
      "Int64Index: 20 entries, 0 to 19\n",
      "Data columns (total 3 columns):\n",
      " #   Column  Non-Null Count  Dtype  \n",
      "---  ------  --------------  -----  \n",
      " 0   시장명     20 non-null     object \n",
      " 1   위도      20 non-null     float64\n",
      " 2   경도      20 non-null     float64\n",
      "dtypes: float64(2), object(1)\n",
      "memory usage: 640.0+ bytes\n"
     ]
    }
   ],
   "source": [
    "data_copy.info()"
   ]
  },
  {
   "cell_type": "code",
   "execution_count": 10,
   "metadata": {
    "ExecuteTime": {
     "end_time": "2021-07-15T02:21:58.987600Z",
     "start_time": "2021-07-15T02:21:58.959599Z"
    },
    "colab": {
     "base_uri": "https://localhost:8080/",
     "height": 80
    },
    "id": "sSKBAG4Tzci4",
    "outputId": "ec349213-f608-4b5c-9348-71b4a1fa4fd0"
   },
   "outputs": [
    {
     "data": {
      "text/html": [
       "<div>\n",
       "<style scoped>\n",
       "    .dataframe tbody tr th:only-of-type {\n",
       "        vertical-align: middle;\n",
       "    }\n",
       "\n",
       "    .dataframe tbody tr th {\n",
       "        vertical-align: top;\n",
       "    }\n",
       "\n",
       "    .dataframe thead th {\n",
       "        text-align: right;\n",
       "    }\n",
       "</style>\n",
       "<table border=\"1\" class=\"dataframe\">\n",
       "  <thead>\n",
       "    <tr style=\"text-align: right;\">\n",
       "      <th></th>\n",
       "      <th>시장명</th>\n",
       "      <th>위도</th>\n",
       "      <th>경도</th>\n",
       "    </tr>\n",
       "  </thead>\n",
       "  <tbody>\n",
       "    <tr>\n",
       "      <th>0</th>\n",
       "      <td>괴정골목시장</td>\n",
       "      <td>35.100170</td>\n",
       "      <td>128.995575</td>\n",
       "    </tr>\n",
       "    <tr>\n",
       "      <th>1</th>\n",
       "      <td>국제시장</td>\n",
       "      <td>35.101541</td>\n",
       "      <td>129.028072</td>\n",
       "    </tr>\n",
       "    <tr>\n",
       "      <th>2</th>\n",
       "      <td>기장시장</td>\n",
       "      <td>35.243695</td>\n",
       "      <td>129.214867</td>\n",
       "    </tr>\n",
       "    <tr>\n",
       "      <th>3</th>\n",
       "      <td>남항시장</td>\n",
       "      <td>35.088908</td>\n",
       "      <td>129.042262</td>\n",
       "    </tr>\n",
       "    <tr>\n",
       "      <th>4</th>\n",
       "      <td>복이 있는 덕포시장</td>\n",
       "      <td>35.171282</td>\n",
       "      <td>128.982255</td>\n",
       "    </tr>\n",
       "    <tr>\n",
       "      <th>5</th>\n",
       "      <td>동래시장</td>\n",
       "      <td>35.203809</td>\n",
       "      <td>129.085952</td>\n",
       "    </tr>\n",
       "    <tr>\n",
       "      <th>6</th>\n",
       "      <td>명지시장</td>\n",
       "      <td>35.112540</td>\n",
       "      <td>128.931597</td>\n",
       "    </tr>\n",
       "    <tr>\n",
       "      <th>7</th>\n",
       "      <td>못골골목시장</td>\n",
       "      <td>35.135860</td>\n",
       "      <td>129.089636</td>\n",
       "    </tr>\n",
       "    <tr>\n",
       "      <th>8</th>\n",
       "      <td>민락골목시장</td>\n",
       "      <td>35.157315</td>\n",
       "      <td>129.124372</td>\n",
       "    </tr>\n",
       "    <tr>\n",
       "      <th>9</th>\n",
       "      <td>부산진시장</td>\n",
       "      <td>35.136421</td>\n",
       "      <td>129.058838</td>\n",
       "    </tr>\n",
       "    <tr>\n",
       "      <th>10</th>\n",
       "      <td>부산평화시장</td>\n",
       "      <td>35.141698</td>\n",
       "      <td>129.060673</td>\n",
       "    </tr>\n",
       "    <tr>\n",
       "      <th>11</th>\n",
       "      <td>부전상가</td>\n",
       "      <td>35.160345</td>\n",
       "      <td>129.059569</td>\n",
       "    </tr>\n",
       "    <tr>\n",
       "      <th>12</th>\n",
       "      <td>부평깡통시장</td>\n",
       "      <td>35.101485</td>\n",
       "      <td>129.026220</td>\n",
       "    </tr>\n",
       "    <tr>\n",
       "      <th>13</th>\n",
       "      <td>서동전통골목시장</td>\n",
       "      <td>35.215573</td>\n",
       "      <td>129.102344</td>\n",
       "    </tr>\n",
       "    <tr>\n",
       "      <th>14</th>\n",
       "      <td>연일시장</td>\n",
       "      <td>35.185571</td>\n",
       "      <td>129.084849</td>\n",
       "    </tr>\n",
       "    <tr>\n",
       "      <th>15</th>\n",
       "      <td>자갈치시장</td>\n",
       "      <td>35.096639</td>\n",
       "      <td>129.030593</td>\n",
       "    </tr>\n",
       "    <tr>\n",
       "      <th>16</th>\n",
       "      <td>자유시장</td>\n",
       "      <td>35.140921</td>\n",
       "      <td>129.061096</td>\n",
       "    </tr>\n",
       "    <tr>\n",
       "      <th>17</th>\n",
       "      <td>정이있는 구포시장</td>\n",
       "      <td>35.208921</td>\n",
       "      <td>129.003509</td>\n",
       "    </tr>\n",
       "    <tr>\n",
       "      <th>18</th>\n",
       "      <td>충무동새벽시장</td>\n",
       "      <td>35.093295</td>\n",
       "      <td>129.024741</td>\n",
       "    </tr>\n",
       "    <tr>\n",
       "      <th>19</th>\n",
       "      <td>해운대시장</td>\n",
       "      <td>35.161403</td>\n",
       "      <td>129.162314</td>\n",
       "    </tr>\n",
       "  </tbody>\n",
       "</table>\n",
       "</div>"
      ],
      "text/plain": [
       "           시장명         위도          경도\n",
       "0       괴정골목시장  35.100170  128.995575\n",
       "1         국제시장  35.101541  129.028072\n",
       "2         기장시장  35.243695  129.214867\n",
       "3         남항시장  35.088908  129.042262\n",
       "4   복이 있는 덕포시장  35.171282  128.982255\n",
       "5         동래시장  35.203809  129.085952\n",
       "6         명지시장  35.112540  128.931597\n",
       "7       못골골목시장  35.135860  129.089636\n",
       "8       민락골목시장  35.157315  129.124372\n",
       "9        부산진시장  35.136421  129.058838\n",
       "10      부산평화시장  35.141698  129.060673\n",
       "11        부전상가  35.160345  129.059569\n",
       "12      부평깡통시장  35.101485  129.026220\n",
       "13    서동전통골목시장  35.215573  129.102344\n",
       "14        연일시장  35.185571  129.084849\n",
       "15       자갈치시장  35.096639  129.030593\n",
       "16        자유시장  35.140921  129.061096\n",
       "17   정이있는 구포시장  35.208921  129.003509\n",
       "18     충무동새벽시장  35.093295  129.024741\n",
       "19       해운대시장  35.161403  129.162314"
      ]
     },
     "execution_count": 10,
     "metadata": {},
     "output_type": "execute_result"
    }
   ],
   "source": [
    "data_test = data_copy\n",
    "data_test"
   ]
  },
  {
   "cell_type": "code",
   "execution_count": 11,
   "metadata": {
    "ExecuteTime": {
     "end_time": "2021-07-15T02:22:01.873818Z",
     "start_time": "2021-07-15T02:22:01.493789Z"
    },
    "id": "3eHvL5RBL602"
   },
   "outputs": [],
   "source": [
    "import requests\n",
    "\n",
    "def getCount(id, lat, lng, category):\n",
    "    url = \"https://dapi.kakao.com/v2/local/search/category.json?x=\" + lng + \"&y=\" + lat + \"&radius=1000&category_group_code=\"+category #radius는 미터단위\n",
    "    apikey = \"할당된 apikey를 사용하세요.\"\n",
    "    r = requests.get( url, headers={'Authorization' : 'KakaoAK ' + apikey })\n",
    "    return r.json()[\"meta\"][\"total_count\"]\n"
   ]
  },
  {
   "cell_type": "code",
   "execution_count": 12,
   "metadata": {
    "ExecuteTime": {
     "end_time": "2021-07-15T02:22:09.080232Z",
     "start_time": "2021-07-15T02:22:08.785211Z"
    }
   },
   "outputs": [
    {
     "ename": "NameError",
     "evalue": "name 'result' is not defined",
     "output_type": "error",
     "traceback": [
      "\u001b[1;31m---------------------------------------------------------------------------\u001b[0m",
      "\u001b[1;31mNameError\u001b[0m                                 Traceback (most recent call last)",
      "\u001b[1;32m<ipython-input-12-0ac921c19f1a>\u001b[0m in \u001b[0;36m<module>\u001b[1;34m\u001b[0m\n\u001b[1;32m----> 1\u001b[1;33m \u001b[0mresult\u001b[0m\u001b[1;33m\u001b[0m\u001b[1;33m\u001b[0m\u001b[0m\n\u001b[0m",
      "\u001b[1;31mNameError\u001b[0m: name 'result' is not defined"
     ]
    }
   ],
   "source": [
    "result"
   ]
  },
  {
   "cell_type": "code",
   "execution_count": 20,
   "metadata": {
    "id": "2t4rQomGU3hh"
   },
   "outputs": [],
   "source": [
    "result = [['시장명', '편의점', '주유소,충전소', '문화시설', '관광명소', '음식점', '카페']]\n",
    "category_code = ['CS2', 'OL7', 'CT1', 'AT4', 'FD6', 'CE7']\n",
    "# CS2\t편의점\n",
    "# OL7\t주유소, 충전소\n",
    "# CT1\t문화시설\n",
    "# AT4\t관광명소\n",
    "# FD6\t음식점\n",
    "# CE7\t카페\n",
    "for v in data_test.iterrows():\n",
    "    id = str(v[1]['시장명'])\n",
    "    lat = str(v[1]['위도'])\n",
    "    lng = str(v[1]['경도'])\n",
    "    item_result = [id]\n",
    "    for cate in category_code:\n",
    "        item_result.append(getCount(id, lat, lng, cate))\n",
    "    result.append(item_result)"
   ]
  },
  {
   "cell_type": "code",
   "execution_count": 21,
   "metadata": {
    "colab": {
     "base_uri": "https://localhost:8080/"
    },
    "id": "IkawItybelxs",
    "outputId": "1035c36e-8249-4ccd-c0ed-e61aa152247f"
   },
   "outputs": [
    {
     "name": "stdout",
     "output_type": "stream",
     "text": [
      "['시장명', '편의점', '주유소,충전소', '문화시설', '관광명소', '음식점', '카페']\n"
     ]
    }
   ],
   "source": [
    "print(result[0])"
   ]
  },
  {
   "cell_type": "code",
   "execution_count": 24,
   "metadata": {
    "colab": {
     "base_uri": "https://localhost:8080/",
     "height": 17
    },
    "id": "Cc345aWP2JeQ",
    "outputId": "23f5e73d-87e7-4552-be76-32baaa89b942"
   },
   "outputs": [],
   "source": [
    "import numpy as np\n",
    " \n",
    "#numpy array 생성\n",
    " \n",
    "arr = np.array(result)\n",
    "\n",
    "df = pd.DataFrame(arr)"
   ]
  },
  {
   "cell_type": "code",
   "execution_count": 25,
   "metadata": {},
   "outputs": [
    {
     "data": {
      "text/html": [
       "<div>\n",
       "<style scoped>\n",
       "    .dataframe tbody tr th:only-of-type {\n",
       "        vertical-align: middle;\n",
       "    }\n",
       "\n",
       "    .dataframe tbody tr th {\n",
       "        vertical-align: top;\n",
       "    }\n",
       "\n",
       "    .dataframe thead th {\n",
       "        text-align: right;\n",
       "    }\n",
       "</style>\n",
       "<table border=\"1\" class=\"dataframe\">\n",
       "  <thead>\n",
       "    <tr style=\"text-align: right;\">\n",
       "      <th></th>\n",
       "      <th>0</th>\n",
       "      <th>1</th>\n",
       "      <th>2</th>\n",
       "      <th>3</th>\n",
       "      <th>4</th>\n",
       "      <th>5</th>\n",
       "      <th>6</th>\n",
       "    </tr>\n",
       "  </thead>\n",
       "  <tbody>\n",
       "    <tr>\n",
       "      <th>0</th>\n",
       "      <td>시장명</td>\n",
       "      <td>편의점</td>\n",
       "      <td>주유소,충전소</td>\n",
       "      <td>문화시설</td>\n",
       "      <td>관광명소</td>\n",
       "      <td>음식점</td>\n",
       "      <td>카페</td>\n",
       "    </tr>\n",
       "    <tr>\n",
       "      <th>1</th>\n",
       "      <td>괴정골목시장</td>\n",
       "      <td>40</td>\n",
       "      <td>4</td>\n",
       "      <td>1</td>\n",
       "      <td>0</td>\n",
       "      <td>491</td>\n",
       "      <td>61</td>\n",
       "    </tr>\n",
       "    <tr>\n",
       "      <th>2</th>\n",
       "      <td>국제시장</td>\n",
       "      <td>106</td>\n",
       "      <td>1</td>\n",
       "      <td>44</td>\n",
       "      <td>44</td>\n",
       "      <td>2163</td>\n",
       "      <td>425</td>\n",
       "    </tr>\n",
       "    <tr>\n",
       "      <th>3</th>\n",
       "      <td>기장시장</td>\n",
       "      <td>39</td>\n",
       "      <td>6</td>\n",
       "      <td>3</td>\n",
       "      <td>7</td>\n",
       "      <td>555</td>\n",
       "      <td>63</td>\n",
       "    </tr>\n",
       "    <tr>\n",
       "      <th>4</th>\n",
       "      <td>남항시장</td>\n",
       "      <td>31</td>\n",
       "      <td>4</td>\n",
       "      <td>3</td>\n",
       "      <td>10</td>\n",
       "      <td>639</td>\n",
       "      <td>89</td>\n",
       "    </tr>\n",
       "    <tr>\n",
       "      <th>5</th>\n",
       "      <td>복이 있는 덕포시장</td>\n",
       "      <td>47</td>\n",
       "      <td>7</td>\n",
       "      <td>2</td>\n",
       "      <td>2</td>\n",
       "      <td>713</td>\n",
       "      <td>98</td>\n",
       "    </tr>\n",
       "    <tr>\n",
       "      <th>6</th>\n",
       "      <td>동래시장</td>\n",
       "      <td>42</td>\n",
       "      <td>5</td>\n",
       "      <td>13</td>\n",
       "      <td>6</td>\n",
       "      <td>972</td>\n",
       "      <td>162</td>\n",
       "    </tr>\n",
       "    <tr>\n",
       "      <th>7</th>\n",
       "      <td>명지시장</td>\n",
       "      <td>4</td>\n",
       "      <td>1</td>\n",
       "      <td>0</td>\n",
       "      <td>0</td>\n",
       "      <td>101</td>\n",
       "      <td>18</td>\n",
       "    </tr>\n",
       "    <tr>\n",
       "      <th>8</th>\n",
       "      <td>못골골목시장</td>\n",
       "      <td>61</td>\n",
       "      <td>5</td>\n",
       "      <td>21</td>\n",
       "      <td>1</td>\n",
       "      <td>830</td>\n",
       "      <td>171</td>\n",
       "    </tr>\n",
       "    <tr>\n",
       "      <th>9</th>\n",
       "      <td>민락골목시장</td>\n",
       "      <td>55</td>\n",
       "      <td>3</td>\n",
       "      <td>12</td>\n",
       "      <td>11</td>\n",
       "      <td>902</td>\n",
       "      <td>192</td>\n",
       "    </tr>\n",
       "    <tr>\n",
       "      <th>10</th>\n",
       "      <td>부산진시장</td>\n",
       "      <td>47</td>\n",
       "      <td>8</td>\n",
       "      <td>16</td>\n",
       "      <td>11</td>\n",
       "      <td>782</td>\n",
       "      <td>109</td>\n",
       "    </tr>\n",
       "    <tr>\n",
       "      <th>11</th>\n",
       "      <td>부산평화시장</td>\n",
       "      <td>75</td>\n",
       "      <td>7</td>\n",
       "      <td>24</td>\n",
       "      <td>11</td>\n",
       "      <td>1005</td>\n",
       "      <td>177</td>\n",
       "    </tr>\n",
       "    <tr>\n",
       "      <th>12</th>\n",
       "      <td>부전상가</td>\n",
       "      <td>126</td>\n",
       "      <td>2</td>\n",
       "      <td>23</td>\n",
       "      <td>18</td>\n",
       "      <td>2920</td>\n",
       "      <td>713</td>\n",
       "    </tr>\n",
       "    <tr>\n",
       "      <th>13</th>\n",
       "      <td>부평깡통시장</td>\n",
       "      <td>101</td>\n",
       "      <td>1</td>\n",
       "      <td>42</td>\n",
       "      <td>42</td>\n",
       "      <td>2087</td>\n",
       "      <td>398</td>\n",
       "    </tr>\n",
       "    <tr>\n",
       "      <th>14</th>\n",
       "      <td>서동전통골목시장</td>\n",
       "      <td>23</td>\n",
       "      <td>5</td>\n",
       "      <td>0</td>\n",
       "      <td>2</td>\n",
       "      <td>410</td>\n",
       "      <td>39</td>\n",
       "    </tr>\n",
       "    <tr>\n",
       "      <th>15</th>\n",
       "      <td>연일시장</td>\n",
       "      <td>77</td>\n",
       "      <td>5</td>\n",
       "      <td>3</td>\n",
       "      <td>1</td>\n",
       "      <td>1353</td>\n",
       "      <td>166</td>\n",
       "    </tr>\n",
       "    <tr>\n",
       "      <th>16</th>\n",
       "      <td>자갈치시장</td>\n",
       "      <td>84</td>\n",
       "      <td>3</td>\n",
       "      <td>36</td>\n",
       "      <td>46</td>\n",
       "      <td>1975</td>\n",
       "      <td>373</td>\n",
       "    </tr>\n",
       "    <tr>\n",
       "      <th>17</th>\n",
       "      <td>자유시장</td>\n",
       "      <td>74</td>\n",
       "      <td>7</td>\n",
       "      <td>25</td>\n",
       "      <td>12</td>\n",
       "      <td>1063</td>\n",
       "      <td>177</td>\n",
       "    </tr>\n",
       "    <tr>\n",
       "      <th>18</th>\n",
       "      <td>정이있는 구포시장</td>\n",
       "      <td>54</td>\n",
       "      <td>3</td>\n",
       "      <td>8</td>\n",
       "      <td>8</td>\n",
       "      <td>919</td>\n",
       "      <td>125</td>\n",
       "    </tr>\n",
       "    <tr>\n",
       "      <th>19</th>\n",
       "      <td>충무동새벽시장</td>\n",
       "      <td>54</td>\n",
       "      <td>2</td>\n",
       "      <td>14</td>\n",
       "      <td>35</td>\n",
       "      <td>1379</td>\n",
       "      <td>193</td>\n",
       "    </tr>\n",
       "    <tr>\n",
       "      <th>20</th>\n",
       "      <td>해운대시장</td>\n",
       "      <td>77</td>\n",
       "      <td>5</td>\n",
       "      <td>19</td>\n",
       "      <td>22</td>\n",
       "      <td>1040</td>\n",
       "      <td>193</td>\n",
       "    </tr>\n",
       "  </tbody>\n",
       "</table>\n",
       "</div>"
      ],
      "text/plain": [
       "             0    1        2     3     4     5    6\n",
       "0          시장명  편의점  주유소,충전소  문화시설  관광명소   음식점   카페\n",
       "1       괴정골목시장   40        4     1     0   491   61\n",
       "2         국제시장  106        1    44    44  2163  425\n",
       "3         기장시장   39        6     3     7   555   63\n",
       "4         남항시장   31        4     3    10   639   89\n",
       "5   복이 있는 덕포시장   47        7     2     2   713   98\n",
       "6         동래시장   42        5    13     6   972  162\n",
       "7         명지시장    4        1     0     0   101   18\n",
       "8       못골골목시장   61        5    21     1   830  171\n",
       "9       민락골목시장   55        3    12    11   902  192\n",
       "10       부산진시장   47        8    16    11   782  109\n",
       "11      부산평화시장   75        7    24    11  1005  177\n",
       "12        부전상가  126        2    23    18  2920  713\n",
       "13      부평깡통시장  101        1    42    42  2087  398\n",
       "14    서동전통골목시장   23        5     0     2   410   39\n",
       "15        연일시장   77        5     3     1  1353  166\n",
       "16       자갈치시장   84        3    36    46  1975  373\n",
       "17        자유시장   74        7    25    12  1063  177\n",
       "18   정이있는 구포시장   54        3     8     8   919  125\n",
       "19     충무동새벽시장   54        2    14    35  1379  193\n",
       "20       해운대시장   77        5    19    22  1040  193"
      ]
     },
     "execution_count": 25,
     "metadata": {},
     "output_type": "execute_result"
    }
   ],
   "source": [
    "df"
   ]
  }
 ],
 "metadata": {
  "colab": {
   "collapsed_sections": [],
   "include_colab_link": true,
   "name": "전통 시장 주위 시설  갯수세기",
   "provenance": []
  },
  "hide_input": false,
  "kernelspec": {
   "display_name": "Python 3",
   "language": "python",
   "name": "python3"
  },
  "language_info": {
   "codemirror_mode": {
    "name": "ipython",
    "version": 3
   },
   "file_extension": ".py",
   "mimetype": "text/x-python",
   "name": "python",
   "nbconvert_exporter": "python",
   "pygments_lexer": "ipython3",
   "version": "3.7.6"
  },
  "toc": {
   "base_numbering": 1,
   "nav_menu": {},
   "number_sections": true,
   "sideBar": true,
   "skip_h1_title": false,
   "title_cell": "Table of Contents",
   "title_sidebar": "Contents",
   "toc_cell": false,
   "toc_position": {},
   "toc_section_display": true,
   "toc_window_display": false
  },
  "varInspector": {
   "cols": {
    "lenName": 16,
    "lenType": 16,
    "lenVar": 40
   },
   "kernels_config": {
    "python": {
     "delete_cmd_postfix": "",
     "delete_cmd_prefix": "del ",
     "library": "var_list.py",
     "varRefreshCmd": "print(var_dic_list())"
    },
    "r": {
     "delete_cmd_postfix": ") ",
     "delete_cmd_prefix": "rm(",
     "library": "var_list.r",
     "varRefreshCmd": "cat(var_dic_list()) "
    }
   },
   "types_to_exclude": [
    "module",
    "function",
    "builtin_function_or_method",
    "instance",
    "_Feature"
   ],
   "window_display": false
  }
 },
 "nbformat": 4,
 "nbformat_minor": 1
}
