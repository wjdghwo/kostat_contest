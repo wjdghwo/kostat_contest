{
 "cells": [
  {
   "cell_type": "code",
   "execution_count": 1,
   "metadata": {
    "ExecuteTime": {
     "end_time": "2021-07-15T16:21:43.670632Z",
     "start_time": "2021-07-15T16:21:42.804568Z"
    }
   },
   "outputs": [],
   "source": [
    "import pandas as pd\n",
    "import numpy as np\n",
    "from tqdm import tqdm, tqdm_notebook"
   ]
  },
  {
   "cell_type": "code",
   "execution_count": 2,
   "metadata": {
    "ExecuteTime": {
     "end_time": "2021-07-15T16:21:44.102666Z",
     "start_time": "2021-07-15T16:21:43.673635Z"
    }
   },
   "outputs": [],
   "source": [
    "from selenium import webdriver\n",
    "from bs4 import BeautifulSoup\n",
    "import time"
   ]
  },
  {
   "cell_type": "code",
   "execution_count": 3,
   "metadata": {
    "ExecuteTime": {
     "end_time": "2021-07-15T16:21:48.129972Z",
     "start_time": "2021-07-15T16:21:44.106670Z"
    }
   },
   "outputs": [],
   "source": [
    "# 스타벅스코리아 홈페이지 접속\n",
    "browser = webdriver.Chrome('chromedriver.exe')\n",
    "url = 'https://www.starbucks.co.kr/store/store_map.do?disp=locale'\n",
    "browser.get(url)"
   ]
  },
  {
   "cell_type": "code",
   "execution_count": 4,
   "metadata": {
    "ExecuteTime": {
     "end_time": "2021-07-15T16:21:48.145973Z",
     "start_time": "2021-07-15T16:21:48.133973Z"
    }
   },
   "outputs": [],
   "source": [
    "# 도시별 xpath값 저장\n",
    "city_xpath = []\n",
    "for i in range(17):\n",
    "    text = f'//*[@id=\"container\"]/div/form/fieldset/div/section/article[1]/article/article[2]/div[1]/div[2]/ul/li[{i+1}]/a'\n",
    "    city_xpath.append(text)"
   ]
  },
  {
   "cell_type": "code",
   "execution_count": 5,
   "metadata": {
    "ExecuteTime": {
     "end_time": "2021-07-15T16:21:48.410996Z",
     "start_time": "2021-07-15T16:21:48.150976Z"
    }
   },
   "outputs": [],
   "source": [
    "# 도시별 이름 저장\n",
    "html = browser.page_source\n",
    "soup = BeautifulSoup(html, 'html.parser')\n",
    "city  = soup.select('ul.sido_arae_box')[0].text\n",
    "city_name = []\n",
    "leng = 2\n",
    "for i in range(0,34,2):\n",
    "    city_name_temp = city[i:leng]\n",
    "    city_name.append(city_name_temp)\n",
    "    leng+=2"
   ]
  },
  {
   "cell_type": "code",
   "execution_count": 6,
   "metadata": {
    "ExecuteTime": {
     "end_time": "2021-07-15T16:25:35.234195Z",
     "start_time": "2021-07-15T16:21:48.414995Z"
    }
   },
   "outputs": [
    {
     "name": "stderr",
     "output_type": "stream",
     "text": [
      "100%|██████████████████████████████████████████████████████████████████████████████████| 17/17 [03:46<00:00, 13.33s/it]\n"
     ]
    }
   ],
   "source": [
    "starbucks_info=pd.DataFrame()\n",
    "\n",
    "### 서울~제주 가져오기\n",
    "for i in tqdm(range(len(city_name))):\n",
    "    time.sleep(5)\n",
    "    # 해당 지역 클릭\n",
    "    browser.find_element_by_xpath(city_xpath[i]).click()\n",
    "    time.sleep(5)\n",
    "    # 세종시 부분 처리를 위한 if문\n",
    "    if(i<16):\n",
    "        # 전체 버튼 클릭\n",
    "        browser.find_element_by_link_text('전체').click()\n",
    "        time.sleep(3)    \n",
    "    # 스타벅스 서울시 매장 리스트 HTML 파싱\n",
    "    html = browser.page_source\n",
    "    soup = BeautifulSoup(html, 'html.parser')\n",
    "   \n",
    "    starbucks_soup_list = soup.select('li.quickResultLstCon')\n",
    "    \n",
    "    startbucks_list = []\n",
    "    \n",
    "    for item in starbucks_soup_list:\n",
    "        name = item.select('strong')[0].text.strip() # 매장명\n",
    "        lat = item['data-lat'].strip()\n",
    "        long = item['data-long'].strip()\n",
    "        store_type = item.select('i')[0].text.strip() \n",
    "        adress = str(item.select('p')[0]).split('<br/>')[0].split('>')[1]\n",
    "        tel = str(item.select('p')[0]).split('<br/>')[1].split('<')[0]\n",
    "        startbucks_list.append([name,lat,long,store_type,adress,tel])\n",
    "    \n",
    "    columns = ['매장명', '위도', '경도','매장타입','주소','전화번호']\n",
    "    startbucks_df =pd.DataFrame(startbucks_list,columns=columns)\n",
    "    \n",
    "    starbucks_info=pd.concat([starbucks_info,startbucks_df])\n",
    "    \n",
    "    if(i<16):\n",
    "        #지역 검색 클릭\n",
    "        browser.find_element_by_xpath('//*[@id=\"container\"]/div/form/fieldset/div/section/article[1]/article/header[2]/h3/a').click()\n",
    "browser.close()"
   ]
  },
  {
   "cell_type": "code",
   "execution_count": 7,
   "metadata": {
    "ExecuteTime": {
     "end_time": "2021-07-15T16:25:35.298200Z",
     "start_time": "2021-07-15T16:25:35.238197Z"
    }
   },
   "outputs": [
    {
     "data": {
      "text/html": [
       "<div>\n",
       "<style scoped>\n",
       "    .dataframe tbody tr th:only-of-type {\n",
       "        vertical-align: middle;\n",
       "    }\n",
       "\n",
       "    .dataframe tbody tr th {\n",
       "        vertical-align: top;\n",
       "    }\n",
       "\n",
       "    .dataframe thead th {\n",
       "        text-align: right;\n",
       "    }\n",
       "</style>\n",
       "<table border=\"1\" class=\"dataframe\">\n",
       "  <thead>\n",
       "    <tr style=\"text-align: right;\">\n",
       "      <th></th>\n",
       "      <th>매장명</th>\n",
       "      <th>위도</th>\n",
       "      <th>경도</th>\n",
       "      <th>매장타입</th>\n",
       "      <th>주소</th>\n",
       "      <th>전화번호</th>\n",
       "    </tr>\n",
       "  </thead>\n",
       "  <tbody>\n",
       "    <tr>\n",
       "      <th>0</th>\n",
       "      <td>역삼아레나빌딩</td>\n",
       "      <td>37.501087</td>\n",
       "      <td>127.043069</td>\n",
       "      <td>리저브 매장 2번</td>\n",
       "      <td>서울특별시 강남구 언주로 425 (역삼동)</td>\n",
       "      <td>1522-3232</td>\n",
       "    </tr>\n",
       "    <tr>\n",
       "      <th>1</th>\n",
       "      <td>논현역사거리</td>\n",
       "      <td>37.510178</td>\n",
       "      <td>127.022223</td>\n",
       "      <td>리저브 매장 2번</td>\n",
       "      <td>서울특별시 강남구 강남대로 538 (논현동)</td>\n",
       "      <td>1522-3232</td>\n",
       "    </tr>\n",
       "    <tr>\n",
       "      <th>2</th>\n",
       "      <td>신사역성일빌딩</td>\n",
       "      <td>37.514132</td>\n",
       "      <td>127.020563</td>\n",
       "      <td>리저브 매장 2번</td>\n",
       "      <td>서울특별시 강남구 강남대로 584 (논현동)</td>\n",
       "      <td>1522-3232</td>\n",
       "    </tr>\n",
       "    <tr>\n",
       "      <th>3</th>\n",
       "      <td>국기원사거리</td>\n",
       "      <td>37.499517</td>\n",
       "      <td>127.031495</td>\n",
       "      <td>리저브 매장 2번</td>\n",
       "      <td>서울특별시 강남구 테헤란로 125 (역삼동)</td>\n",
       "      <td>1522-3232</td>\n",
       "    </tr>\n",
       "    <tr>\n",
       "      <th>4</th>\n",
       "      <td>스탈릿대치R</td>\n",
       "      <td>37.494668</td>\n",
       "      <td>127.062583</td>\n",
       "      <td>리저브 매장 2번</td>\n",
       "      <td>서울특별시 강남구 남부순환로 2947 (대치동)</td>\n",
       "      <td>1522-3232</td>\n",
       "    </tr>\n",
       "    <tr>\n",
       "      <th>...</th>\n",
       "      <td>...</td>\n",
       "      <td>...</td>\n",
       "      <td>...</td>\n",
       "      <td>...</td>\n",
       "      <td>...</td>\n",
       "      <td>...</td>\n",
       "    </tr>\n",
       "    <tr>\n",
       "      <th>6</th>\n",
       "      <td>세종이마트</td>\n",
       "      <td>36.4712189</td>\n",
       "      <td>127.2509973</td>\n",
       "      <td>리저브 매장 2번</td>\n",
       "      <td>세종특별자치시 금송로 687(가람동 406) 이마트 세종점</td>\n",
       "      <td>1522-3232</td>\n",
       "    </tr>\n",
       "    <tr>\n",
       "      <th>7</th>\n",
       "      <td>세종청사</td>\n",
       "      <td>36.504565</td>\n",
       "      <td>127.270769</td>\n",
       "      <td>리저브 매장 2번</td>\n",
       "      <td>세종특별자치시  도움8로 81 (어진동)</td>\n",
       "      <td>1522-3232</td>\n",
       "    </tr>\n",
       "    <tr>\n",
       "      <th>8</th>\n",
       "      <td>세종아름</td>\n",
       "      <td>36.51188</td>\n",
       "      <td>127.24277</td>\n",
       "      <td>리저브 매장 2번</td>\n",
       "      <td>세종특별자치시 아름서1길 13-9 (아름동) 103,104,105,202,203호</td>\n",
       "      <td>1522-3232</td>\n",
       "    </tr>\n",
       "    <tr>\n",
       "      <th>9</th>\n",
       "      <td>세종소담</td>\n",
       "      <td>36.485755</td>\n",
       "      <td>127.300509</td>\n",
       "      <td>리저브 매장 2번</td>\n",
       "      <td>세종특별자치시 소담3로 8 (소담동) 1동  12호,13호,14호,15호,15A호,16호</td>\n",
       "      <td>1522-3232</td>\n",
       "    </tr>\n",
       "    <tr>\n",
       "      <th>10</th>\n",
       "      <td>세종충남대학교병원</td>\n",
       "      <td>36.51936</td>\n",
       "      <td>127.25828</td>\n",
       "      <td>리저브 매장 2번</td>\n",
       "      <td>세종특별자치시 보듬7로 20 (도담동) 헬스케어센터 1층</td>\n",
       "      <td>1522-3232</td>\n",
       "    </tr>\n",
       "  </tbody>\n",
       "</table>\n",
       "<p>1571 rows × 6 columns</p>\n",
       "</div>"
      ],
      "text/plain": [
       "          매장명          위도           경도       매장타입  \\\n",
       "0     역삼아레나빌딩   37.501087   127.043069  리저브 매장 2번   \n",
       "1      논현역사거리   37.510178   127.022223  리저브 매장 2번   \n",
       "2     신사역성일빌딩   37.514132   127.020563  리저브 매장 2번   \n",
       "3      국기원사거리   37.499517   127.031495  리저브 매장 2번   \n",
       "4      스탈릿대치R   37.494668   127.062583  리저브 매장 2번   \n",
       "..        ...         ...          ...        ...   \n",
       "6       세종이마트  36.4712189  127.2509973  리저브 매장 2번   \n",
       "7        세종청사   36.504565   127.270769  리저브 매장 2번   \n",
       "8        세종아름    36.51188    127.24277  리저브 매장 2번   \n",
       "9        세종소담   36.485755   127.300509  리저브 매장 2번   \n",
       "10  세종충남대학교병원    36.51936    127.25828  리저브 매장 2번   \n",
       "\n",
       "                                                   주소       전화번호  \n",
       "0                             서울특별시 강남구 언주로 425 (역삼동)  1522-3232  \n",
       "1                            서울특별시 강남구 강남대로 538 (논현동)  1522-3232  \n",
       "2                            서울특별시 강남구 강남대로 584 (논현동)  1522-3232  \n",
       "3                            서울특별시 강남구 테헤란로 125 (역삼동)  1522-3232  \n",
       "4                          서울특별시 강남구 남부순환로 2947 (대치동)  1522-3232  \n",
       "..                                                ...        ...  \n",
       "6                    세종특별자치시 금송로 687(가람동 406) 이마트 세종점  1522-3232  \n",
       "7                              세종특별자치시  도움8로 81 (어진동)  1522-3232  \n",
       "8       세종특별자치시 아름서1길 13-9 (아름동) 103,104,105,202,203호  1522-3232  \n",
       "9   세종특별자치시 소담3로 8 (소담동) 1동  12호,13호,14호,15호,15A호,16호  1522-3232  \n",
       "10                    세종특별자치시 보듬7로 20 (도담동) 헬스케어센터 1층  1522-3232  \n",
       "\n",
       "[1571 rows x 6 columns]"
      ]
     },
     "execution_count": 7,
     "metadata": {},
     "output_type": "execute_result"
    }
   ],
   "source": [
    "starbucks_info"
   ]
  },
  {
   "cell_type": "code",
   "execution_count": 8,
   "metadata": {
    "ExecuteTime": {
     "end_time": "2021-07-15T16:25:35.330203Z",
     "start_time": "2021-07-15T16:25:35.306203Z"
    }
   },
   "outputs": [],
   "source": [
    "starbucks_info=starbucks_info.reset_index(drop=True)"
   ]
  },
  {
   "cell_type": "code",
   "execution_count": 9,
   "metadata": {
    "ExecuteTime": {
     "end_time": "2021-07-15T16:25:35.346205Z",
     "start_time": "2021-07-15T16:25:35.335204Z"
    },
    "id": "llcal7fHs46j"
   },
   "outputs": [],
   "source": [
    "data_copy = starbucks_info.copy()"
   ]
  },
  {
   "cell_type": "code",
   "execution_count": 10,
   "metadata": {
    "ExecuteTime": {
     "end_time": "2021-07-15T16:25:35.362206Z",
     "start_time": "2021-07-15T16:25:35.351205Z"
    },
    "id": "dQHKB4aNuOAe"
   },
   "outputs": [],
   "source": [
    "data_copy = data_copy.drop(['주소','매장타입','전화번호'],axis=1)"
   ]
  },
  {
   "cell_type": "code",
   "execution_count": 11,
   "metadata": {
    "ExecuteTime": {
     "end_time": "2021-07-15T16:25:35.394208Z",
     "start_time": "2021-07-15T16:25:35.367206Z"
    },
    "colab": {
     "base_uri": "https://localhost:8080/",
     "height": 204
    },
    "id": "yCMWQ8zau3BP",
    "outputId": "be652437-4b56-44a2-8f11-77a5d06f74d7"
   },
   "outputs": [
    {
     "data": {
      "text/html": [
       "<div>\n",
       "<style scoped>\n",
       "    .dataframe tbody tr th:only-of-type {\n",
       "        vertical-align: middle;\n",
       "    }\n",
       "\n",
       "    .dataframe tbody tr th {\n",
       "        vertical-align: top;\n",
       "    }\n",
       "\n",
       "    .dataframe thead th {\n",
       "        text-align: right;\n",
       "    }\n",
       "</style>\n",
       "<table border=\"1\" class=\"dataframe\">\n",
       "  <thead>\n",
       "    <tr style=\"text-align: right;\">\n",
       "      <th></th>\n",
       "      <th>매장명</th>\n",
       "      <th>위도</th>\n",
       "      <th>경도</th>\n",
       "    </tr>\n",
       "  </thead>\n",
       "  <tbody>\n",
       "    <tr>\n",
       "      <th>0</th>\n",
       "      <td>역삼아레나빌딩</td>\n",
       "      <td>37.501087</td>\n",
       "      <td>127.043069</td>\n",
       "    </tr>\n",
       "    <tr>\n",
       "      <th>1</th>\n",
       "      <td>논현역사거리</td>\n",
       "      <td>37.510178</td>\n",
       "      <td>127.022223</td>\n",
       "    </tr>\n",
       "    <tr>\n",
       "      <th>2</th>\n",
       "      <td>신사역성일빌딩</td>\n",
       "      <td>37.514132</td>\n",
       "      <td>127.020563</td>\n",
       "    </tr>\n",
       "    <tr>\n",
       "      <th>3</th>\n",
       "      <td>국기원사거리</td>\n",
       "      <td>37.499517</td>\n",
       "      <td>127.031495</td>\n",
       "    </tr>\n",
       "    <tr>\n",
       "      <th>4</th>\n",
       "      <td>스탈릿대치R</td>\n",
       "      <td>37.494668</td>\n",
       "      <td>127.062583</td>\n",
       "    </tr>\n",
       "  </tbody>\n",
       "</table>\n",
       "</div>"
      ],
      "text/plain": [
       "       매장명         위도          경도\n",
       "0  역삼아레나빌딩  37.501087  127.043069\n",
       "1   논현역사거리  37.510178  127.022223\n",
       "2  신사역성일빌딩  37.514132  127.020563\n",
       "3   국기원사거리  37.499517  127.031495\n",
       "4   스탈릿대치R  37.494668  127.062583"
      ]
     },
     "execution_count": 11,
     "metadata": {},
     "output_type": "execute_result"
    }
   ],
   "source": [
    "data_copy.head()"
   ]
  },
  {
   "cell_type": "code",
   "execution_count": 12,
   "metadata": {
    "ExecuteTime": {
     "end_time": "2021-07-15T16:25:35.441212Z",
     "start_time": "2021-07-15T16:25:35.399209Z"
    },
    "colab": {
     "base_uri": "https://localhost:8080/"
    },
    "id": "HN4in8YO8dM1",
    "outputId": "37eedd77-79a4-4daf-db62-df352ba2b030"
   },
   "outputs": [
    {
     "name": "stdout",
     "output_type": "stream",
     "text": [
      "<class 'pandas.core.frame.DataFrame'>\n",
      "RangeIndex: 1571 entries, 0 to 1570\n",
      "Data columns (total 3 columns):\n",
      " #   Column  Non-Null Count  Dtype \n",
      "---  ------  --------------  ----- \n",
      " 0   매장명     1571 non-null   object\n",
      " 1   위도      1571 non-null   object\n",
      " 2   경도      1571 non-null   object\n",
      "dtypes: object(3)\n",
      "memory usage: 36.9+ KB\n"
     ]
    }
   ],
   "source": [
    "data_copy.info()"
   ]
  },
  {
   "cell_type": "code",
   "execution_count": 13,
   "metadata": {
    "ExecuteTime": {
     "end_time": "2021-07-15T16:25:35.472220Z",
     "start_time": "2021-07-15T16:25:35.444215Z"
    },
    "id": "gED9fxhrvOlm"
   },
   "outputs": [],
   "source": [
    "data_copy=data_copy.dropna()"
   ]
  },
  {
   "cell_type": "code",
   "execution_count": 14,
   "metadata": {
    "ExecuteTime": {
     "end_time": "2021-07-15T16:25:35.503218Z",
     "start_time": "2021-07-15T16:25:35.476216Z"
    },
    "colab": {
     "base_uri": "https://localhost:8080/"
    },
    "id": "zIjNM2vMvaCn",
    "outputId": "54f9b45a-ddd4-4715-ff9e-f596d1e09e15"
   },
   "outputs": [
    {
     "name": "stdout",
     "output_type": "stream",
     "text": [
      "<class 'pandas.core.frame.DataFrame'>\n",
      "Int64Index: 1571 entries, 0 to 1570\n",
      "Data columns (total 3 columns):\n",
      " #   Column  Non-Null Count  Dtype \n",
      "---  ------  --------------  ----- \n",
      " 0   매장명     1571 non-null   object\n",
      " 1   위도      1571 non-null   object\n",
      " 2   경도      1571 non-null   object\n",
      "dtypes: object(3)\n",
      "memory usage: 49.1+ KB\n"
     ]
    }
   ],
   "source": [
    "data_copy.info()"
   ]
  },
  {
   "cell_type": "code",
   "execution_count": 15,
   "metadata": {
    "ExecuteTime": {
     "end_time": "2021-07-15T16:25:35.518219Z",
     "start_time": "2021-07-15T16:25:35.507218Z"
    }
   },
   "outputs": [],
   "source": [
    "data_copy['위도']=data_copy['위도'].astype(float)\n",
    "data_copy['경도']=data_copy['경도'].astype(float)"
   ]
  },
  {
   "cell_type": "code",
   "execution_count": 16,
   "metadata": {
    "ExecuteTime": {
     "end_time": "2021-07-15T16:25:35.802240Z",
     "start_time": "2021-07-15T16:25:35.524219Z"
    },
    "id": "3eHvL5RBL602"
   },
   "outputs": [],
   "source": [
    "import requests\n",
    "\n",
    "def getCount(id, lat, lng, category):\n",
    "    #radius는 미터단위 여기선 1km 반경 이내 값을 도출\n",
    "    url = \"https://dapi.kakao.com/v2/local/search/category.json?x=\" + lng + \"&y=\" + lat + \"&radius=1000&category_group_code=\"+category \n",
    "    apikey = \"5e5acc55c8584f36abffe26633c82550\"\n",
    "    r = requests.get( url, headers={'Authorization' : 'KakaoAK ' + apikey })\n",
    "    return r.json()[\"meta\"][\"total_count\"]"
   ]
  },
  {
   "cell_type": "code",
   "execution_count": 17,
   "metadata": {
    "ExecuteTime": {
     "end_time": "2021-07-15T17:19:43.497189Z",
     "start_time": "2021-07-15T16:25:35.809242Z"
    },
    "id": "2t4rQomGU3hh"
   },
   "outputs": [
    {
     "name": "stderr",
     "output_type": "stream",
     "text": [
      "100%|██████████████████████████████████████████████████████████████████████████████| 1571/1571 [54:07<00:00,  2.07s/it]\n"
     ]
    }
   ],
   "source": [
    "result = [['매장명', '대형마트', '편의점', '어린이집,유치원', '학교', '학원',\n",
    "          '주차장', '주유소,충전소', '지하철역', '은행', '문화시설', '중개업소',\n",
    "          '공공기관', '관광명소', '숙박', '음식점', '카페', '병원', '약국']]\n",
    "category_code = ['MT1','CS2', 'PS3', 'SC4','AC5',\n",
    "                 'PK6','OL7','SW8','BK9','CT1','AG2',\n",
    "                'PO3','AT4','AD5','FD6','CE7','HP8','PM9']\n",
    "\n",
    "# MT1 대형마트\n",
    "# CS2 편의점\n",
    "# PS3 어린이집, 유치원\n",
    "# SC4 학교\n",
    "# AC5 학원\n",
    "# PK6 주차장\n",
    "# OL7 주유소, 충전소\n",
    "# SW8 지하철역\n",
    "# BK9 은행\n",
    "# CT1 문화시설\n",
    "# AG2 중개업소\n",
    "# PO3 공공기관\n",
    "# AT4 관광명소\n",
    "# AD5 숙박\n",
    "# FD6 음식점\n",
    "# CE7 카페\n",
    "# HP8 병원\n",
    "# PM9 약국\n",
    "\n",
    "for v in tqdm(data_copy.iterrows(), total=data_copy.shape[0]):\n",
    "    id = str(v[1]['매장명'])\n",
    "    lat = str(v[1]['위도'])\n",
    "    lng = str(v[1]['경도'])\n",
    "    item_result = [id]\n",
    "    for cate in category_code:\n",
    "        item_result.append(getCount(id, lat, lng, cate))\n",
    "    result.append(item_result)"
   ]
  },
  {
   "cell_type": "code",
   "execution_count": 18,
   "metadata": {
    "ExecuteTime": {
     "end_time": "2021-07-15T17:19:43.513189Z",
     "start_time": "2021-07-15T17:19:43.500188Z"
    },
    "colab": {
     "base_uri": "https://localhost:8080/"
    },
    "id": "IkawItybelxs",
    "outputId": "f0b02120-52d9-4d37-ac2d-5be2c52a57ea"
   },
   "outputs": [
    {
     "name": "stdout",
     "output_type": "stream",
     "text": [
      "['매장명', '대형마트', '편의점', '어린이집,유치원', '학교', '학원', '주차장', '주유소,충전소', '지하철역', '은행', '문화시설', '중개업소', '공공기관', '관광명소', '숙박', '음식점', '카페', '병원', '약국']\n"
     ]
    }
   ],
   "source": [
    "print(result[0])"
   ]
  },
  {
   "cell_type": "code",
   "execution_count": 19,
   "metadata": {
    "ExecuteTime": {
     "end_time": "2021-07-15T17:19:43.561196Z",
     "start_time": "2021-07-15T17:19:43.516191Z"
    },
    "colab": {
     "base_uri": "https://localhost:8080/",
     "height": 17
    },
    "id": "Cc345aWP2JeQ",
    "outputId": "1c49cdf7-1d1b-43c8-d598-cce81cc6f49c"
   },
   "outputs": [],
   "source": [
    "arr = np.array(result)\n",
    "df = pd.DataFrame(arr)"
   ]
  },
  {
   "cell_type": "code",
   "execution_count": 20,
   "metadata": {
    "ExecuteTime": {
     "end_time": "2021-07-15T17:19:43.593195Z",
     "start_time": "2021-07-15T17:19:43.564195Z"
    }
   },
   "outputs": [
    {
     "data": {
      "text/html": [
       "<div>\n",
       "<style scoped>\n",
       "    .dataframe tbody tr th:only-of-type {\n",
       "        vertical-align: middle;\n",
       "    }\n",
       "\n",
       "    .dataframe tbody tr th {\n",
       "        vertical-align: top;\n",
       "    }\n",
       "\n",
       "    .dataframe thead th {\n",
       "        text-align: right;\n",
       "    }\n",
       "</style>\n",
       "<table border=\"1\" class=\"dataframe\">\n",
       "  <thead>\n",
       "    <tr style=\"text-align: right;\">\n",
       "      <th></th>\n",
       "      <th>0</th>\n",
       "      <th>1</th>\n",
       "      <th>2</th>\n",
       "      <th>3</th>\n",
       "      <th>4</th>\n",
       "      <th>5</th>\n",
       "      <th>6</th>\n",
       "      <th>7</th>\n",
       "      <th>8</th>\n",
       "      <th>9</th>\n",
       "      <th>10</th>\n",
       "      <th>11</th>\n",
       "      <th>12</th>\n",
       "      <th>13</th>\n",
       "      <th>14</th>\n",
       "      <th>15</th>\n",
       "      <th>16</th>\n",
       "      <th>17</th>\n",
       "      <th>18</th>\n",
       "    </tr>\n",
       "  </thead>\n",
       "  <tbody>\n",
       "    <tr>\n",
       "      <th>0</th>\n",
       "      <td>매장명</td>\n",
       "      <td>대형마트</td>\n",
       "      <td>편의점</td>\n",
       "      <td>어린이집,유치원</td>\n",
       "      <td>학교</td>\n",
       "      <td>학원</td>\n",
       "      <td>주차장</td>\n",
       "      <td>주유소,충전소</td>\n",
       "      <td>지하철역</td>\n",
       "      <td>은행</td>\n",
       "      <td>문화시설</td>\n",
       "      <td>중개업소</td>\n",
       "      <td>공공기관</td>\n",
       "      <td>관광명소</td>\n",
       "      <td>숙박</td>\n",
       "      <td>음식점</td>\n",
       "      <td>카페</td>\n",
       "      <td>병원</td>\n",
       "      <td>약국</td>\n",
       "    </tr>\n",
       "    <tr>\n",
       "      <th>1</th>\n",
       "      <td>역삼아레나빌딩</td>\n",
       "      <td>3</td>\n",
       "      <td>179</td>\n",
       "      <td>23</td>\n",
       "      <td>5</td>\n",
       "      <td>572</td>\n",
       "      <td>220</td>\n",
       "      <td>5</td>\n",
       "      <td>3</td>\n",
       "      <td>186</td>\n",
       "      <td>26</td>\n",
       "      <td>596</td>\n",
       "      <td>7</td>\n",
       "      <td>0</td>\n",
       "      <td>84</td>\n",
       "      <td>2182</td>\n",
       "      <td>580</td>\n",
       "      <td>312</td>\n",
       "      <td>78</td>\n",
       "    </tr>\n",
       "    <tr>\n",
       "      <th>2</th>\n",
       "      <td>논현역사거리</td>\n",
       "      <td>5</td>\n",
       "      <td>145</td>\n",
       "      <td>27</td>\n",
       "      <td>3</td>\n",
       "      <td>353</td>\n",
       "      <td>219</td>\n",
       "      <td>5</td>\n",
       "      <td>6</td>\n",
       "      <td>117</td>\n",
       "      <td>25</td>\n",
       "      <td>360</td>\n",
       "      <td>11</td>\n",
       "      <td>2</td>\n",
       "      <td>52</td>\n",
       "      <td>2190</td>\n",
       "      <td>540</td>\n",
       "      <td>599</td>\n",
       "      <td>80</td>\n",
       "    </tr>\n",
       "    <tr>\n",
       "      <th>3</th>\n",
       "      <td>신사역성일빌딩</td>\n",
       "      <td>4</td>\n",
       "      <td>112</td>\n",
       "      <td>25</td>\n",
       "      <td>3</td>\n",
       "      <td>340</td>\n",
       "      <td>185</td>\n",
       "      <td>5</td>\n",
       "      <td>3</td>\n",
       "      <td>104</td>\n",
       "      <td>37</td>\n",
       "      <td>333</td>\n",
       "      <td>8</td>\n",
       "      <td>4</td>\n",
       "      <td>34</td>\n",
       "      <td>1945</td>\n",
       "      <td>523</td>\n",
       "      <td>432</td>\n",
       "      <td>62</td>\n",
       "    </tr>\n",
       "    <tr>\n",
       "      <th>4</th>\n",
       "      <td>국기원사거리</td>\n",
       "      <td>6</td>\n",
       "      <td>212</td>\n",
       "      <td>21</td>\n",
       "      <td>4</td>\n",
       "      <td>745</td>\n",
       "      <td>336</td>\n",
       "      <td>4</td>\n",
       "      <td>5</td>\n",
       "      <td>204</td>\n",
       "      <td>37</td>\n",
       "      <td>618</td>\n",
       "      <td>9</td>\n",
       "      <td>3</td>\n",
       "      <td>105</td>\n",
       "      <td>3048</td>\n",
       "      <td>840</td>\n",
       "      <td>754</td>\n",
       "      <td>125</td>\n",
       "    </tr>\n",
       "  </tbody>\n",
       "</table>\n",
       "</div>"
      ],
      "text/plain": [
       "        0     1    2         3   4    5    6        7     8    9     10    11  \\\n",
       "0      매장명  대형마트  편의점  어린이집,유치원  학교   학원  주차장  주유소,충전소  지하철역   은행  문화시설  중개업소   \n",
       "1  역삼아레나빌딩     3  179        23   5  572  220        5     3  186    26   596   \n",
       "2   논현역사거리     5  145        27   3  353  219        5     6  117    25   360   \n",
       "3  신사역성일빌딩     4  112        25   3  340  185        5     3  104    37   333   \n",
       "4   국기원사거리     6  212        21   4  745  336        4     5  204    37   618   \n",
       "\n",
       "     12    13   14    15   16   17   18  \n",
       "0  공공기관  관광명소   숙박   음식점   카페   병원   약국  \n",
       "1     7     0   84  2182  580  312   78  \n",
       "2    11     2   52  2190  540  599   80  \n",
       "3     8     4   34  1945  523  432   62  \n",
       "4     9     3  105  3048  840  754  125  "
      ]
     },
     "execution_count": 20,
     "metadata": {},
     "output_type": "execute_result"
    }
   ],
   "source": [
    "df.head()"
   ]
  },
  {
   "cell_type": "code",
   "execution_count": 21,
   "metadata": {
    "ExecuteTime": {
     "end_time": "2021-07-15T17:19:43.641199Z",
     "start_time": "2021-07-15T17:19:43.597198Z"
    }
   },
   "outputs": [],
   "source": [
    "df.to_csv('스타벅스 주변시설 갯수.csv') "
   ]
  },
  {
   "cell_type": "code",
   "execution_count": 22,
   "metadata": {
    "ExecuteTime": {
     "end_time": "2021-07-15T17:19:46.162390Z",
     "start_time": "2021-07-15T17:19:46.134387Z"
    }
   },
   "outputs": [],
   "source": [
    "starbucks_info.to_csv('스타벅스 매장 정보.csv') "
   ]
  },
  {
   "cell_type": "code",
   "execution_count": null,
   "metadata": {},
   "outputs": [],
   "source": [
    "star=pd.read_csv('스타벅스_주위환경.csv',encoding='CP949')"
   ]
  },
  {
   "cell_type": "code",
   "execution_count": null,
   "metadata": {},
   "outputs": [],
   "source": []
  },
  {
   "cell_type": "code",
   "execution_count": null,
   "metadata": {},
   "outputs": [],
   "source": []
  },
  {
   "cell_type": "code",
   "execution_count": null,
   "metadata": {},
   "outputs": [],
   "source": []
  },
  {
   "cell_type": "code",
   "execution_count": null,
   "metadata": {},
   "outputs": [],
   "source": []
  },
  {
   "cell_type": "code",
   "execution_count": null,
   "metadata": {},
   "outputs": [],
   "source": []
  },
  {
   "cell_type": "code",
   "execution_count": null,
   "metadata": {},
   "outputs": [],
   "source": []
  }
 ],
 "metadata": {
  "colab": {
   "collapsed_sections": [],
   "include_colab_link": true,
   "name": "전통 시장 주위 시설  갯수세기",
   "provenance": []
  },
  "hide_input": false,
  "kernelspec": {
   "display_name": "Python 3",
   "language": "python",
   "name": "python3"
  },
  "language_info": {
   "codemirror_mode": {
    "name": "ipython",
    "version": 3
   },
   "file_extension": ".py",
   "mimetype": "text/x-python",
   "name": "python",
   "nbconvert_exporter": "python",
   "pygments_lexer": "ipython3",
   "version": "3.7.6"
  },
  "toc": {
   "base_numbering": 1,
   "nav_menu": {},
   "number_sections": true,
   "sideBar": true,
   "skip_h1_title": false,
   "title_cell": "Table of Contents",
   "title_sidebar": "Contents",
   "toc_cell": false,
   "toc_position": {},
   "toc_section_display": true,
   "toc_window_display": false
  },
  "varInspector": {
   "cols": {
    "lenName": 16,
    "lenType": 16,
    "lenVar": 40
   },
   "kernels_config": {
    "python": {
     "delete_cmd_postfix": "",
     "delete_cmd_prefix": "del ",
     "library": "var_list.py",
     "varRefreshCmd": "print(var_dic_list())"
    },
    "r": {
     "delete_cmd_postfix": ") ",
     "delete_cmd_prefix": "rm(",
     "library": "var_list.r",
     "varRefreshCmd": "cat(var_dic_list()) "
    }
   },
   "types_to_exclude": [
    "module",
    "function",
    "builtin_function_or_method",
    "instance",
    "_Feature"
   ],
   "window_display": false
  }
 },
 "nbformat": 4,
 "nbformat_minor": 1
}
