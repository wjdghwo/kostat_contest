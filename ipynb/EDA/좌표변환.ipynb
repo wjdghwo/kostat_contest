{
 "cells": [
  {
   "cell_type": "code",
   "execution_count": 2,
   "metadata": {
    "colab": {
     "base_uri": "https://localhost:8080/"
    },
    "executionInfo": {
     "elapsed": 3198,
     "status": "ok",
     "timestamp": 1625648329041,
     "user": {
      "displayName": "최성욱",
      "photoUrl": "",
      "userId": "13743263358405601222"
     },
     "user_tz": -540
    },
    "id": "qTS_F8qPpfhP",
    "outputId": "7cf4d2cb-9c0f-4dfa-955a-72ec3829314a"
   },
   "outputs": [],
   "source": [
    "# !pip install pyproj"
   ]
  },
  {
   "cell_type": "code",
   "execution_count": 7,
   "metadata": {
    "executionInfo": {
     "elapsed": 300,
     "status": "ok",
     "timestamp": 1625648588996,
     "user": {
      "displayName": "최성욱",
      "photoUrl": "",
      "userId": "13743263358405601222"
     },
     "user_tz": -540
    },
    "id": "_1rDJZ2EKfG_"
   },
   "outputs": [],
   "source": [
    "from pyproj import Proj, transform\n",
    "from tqdm import tqdm\n",
    "\n",
    "import numpy as np\n",
    "import pandas as pd"
   ]
  },
  {
   "cell_type": "markdown",
   "metadata": {},
   "source": [
    "## 좌표변환 (WGS84 to UTMK)"
   ]
  },
  {
   "cell_type": "code",
   "execution_count": 8,
   "metadata": {
    "executionInfo": {
     "elapsed": 956,
     "status": "ok",
     "timestamp": 1625648333507,
     "user": {
      "displayName": "최성욱",
      "photoUrl": "",
      "userId": "13743263358405601222"
     },
     "user_tz": -540
    },
    "id": "C7JJ7JtM9vF9"
   },
   "outputs": [],
   "source": [
    "check_go = pd.read_excel('../data/전통시장데이터_정리완료.xlsx')"
   ]
  },
  {
   "cell_type": "code",
   "execution_count": 9,
   "metadata": {
    "colab": {
     "base_uri": "https://localhost:8080/"
    },
    "executionInfo": {
     "elapsed": 463,
     "status": "ok",
     "timestamp": 1625648502685,
     "user": {
      "displayName": "최성욱",
      "photoUrl": "",
      "userId": "13743263358405601222"
     },
     "user_tz": -540
    },
    "id": "hlTShwgoM42_",
    "outputId": "3cf2d15e-aa93-4141-dd74-09a4dbe9f070"
   },
   "outputs": [
    {
     "name": "stderr",
     "output_type": "stream",
     "text": [
      "C:\\Users\\user\\miniconda3\\lib\\site-packages\\pyproj\\crs\\crs.py:131: FutureWarning: '+init=<authority>:<code>' syntax is deprecated. '<authority>:<code>' is the preferred initialization method. When making the change, be mindful of axis order changes: https://pyproj4.github.io/pyproj/stable/gotchas.html#axis-order-changes-in-proj-6\n",
      "  in_crs_string = _prepare_from_proj_string(in_crs_string)\n",
      "C:\\Users\\user\\miniconda3\\lib\\site-packages\\pyproj\\crs\\crs.py:131: FutureWarning: '+init=<authority>:<code>' syntax is deprecated. '<authority>:<code>' is the preferred initialization method. When making the change, be mindful of axis order changes: https://pyproj4.github.io/pyproj/stable/gotchas.html#axis-order-changes-in-proj-6\n",
      "  in_crs_string = _prepare_from_proj_string(in_crs_string)\n"
     ]
    }
   ],
   "source": [
    "proj_UTMK = Proj(init='epsg:5178')\n",
    "proj_WGS84 = Proj(init = 'epsg:4326')"
   ]
  },
  {
   "cell_type": "code",
   "execution_count": 10,
   "metadata": {
    "colab": {
     "base_uri": "https://localhost:8080/"
    },
    "executionInfo": {
     "elapsed": 91458,
     "status": "ok",
     "timestamp": 1625648845468,
     "user": {
      "displayName": "최성욱",
      "photoUrl": "",
      "userId": "13743263358405601222"
     },
     "user_tz": -540
    },
    "id": "-0HvVItFM2_3",
    "outputId": "f47bc0b9-7b3e-4702-c644-e49acee6889c"
   },
   "outputs": [
    {
     "name": "stderr",
     "output_type": "stream",
     "text": [
      "  0%|          | 0/1850 [00:00<?, ?it/s]<ipython-input-10-4a840eb9d74c>:2: DeprecationWarning: This function is deprecated. See: https://pyproj4.github.io/pyproj/stable/gotchas.html#upgrading-to-pyproj-2-from-pyproj-1\n",
      "  x1, y1 = transform(proj_WGS84, proj_UTMK, check_go['경도'][i], check_go['위도'][i])\n",
      "<ipython-input-10-4a840eb9d74c>:3: SettingWithCopyWarning: \n",
      "A value is trying to be set on a copy of a slice from a DataFrame\n",
      "\n",
      "See the caveats in the documentation: https://pandas.pydata.org/pandas-docs/stable/user_guide/indexing.html#returning-a-view-versus-a-copy\n",
      "  check_go['경도'][i], check_go['위도'][i] = x1, y1\n",
      "100%|██████████| 1850/1850 [00:35<00:00, 51.51it/s]\n"
     ]
    }
   ],
   "source": [
    "for i in tqdm(range(len(check_go))) :\n",
    "    x1, y1 = transform(proj_WGS84, proj_UTMK, check_go['경도'][i], check_go['위도'][i])\n",
    "    check_go['경도'][i], check_go['위도'][i] = x1, y1\n",
    "\n",
    "check_go.drop(['Unnamed: 0'], axis = 1, inplace = True)"
   ]
  },
  {
   "cell_type": "code",
   "execution_count": 11,
   "metadata": {},
   "outputs": [
    {
     "data": {
      "text/html": [
       "<div>\n",
       "<style scoped>\n",
       "    .dataframe tbody tr th:only-of-type {\n",
       "        vertical-align: middle;\n",
       "    }\n",
       "\n",
       "    .dataframe tbody tr th {\n",
       "        vertical-align: top;\n",
       "    }\n",
       "\n",
       "    .dataframe thead th {\n",
       "        text-align: right;\n",
       "    }\n",
       "</style>\n",
       "<table border=\"1\" class=\"dataframe\">\n",
       "  <thead>\n",
       "    <tr style=\"text-align: right;\">\n",
       "      <th></th>\n",
       "      <th>시장명</th>\n",
       "      <th>위도</th>\n",
       "      <th>경도</th>\n",
       "      <th>시도명</th>\n",
       "      <th>시군구명</th>\n",
       "      <th>5일장</th>\n",
       "      <th>복합장</th>\n",
       "      <th>상설장</th>\n",
       "      <th>점포수</th>\n",
       "      <th>공중화장실보유여부</th>\n",
       "      <th>...</th>\n",
       "      <th>농산물이 주요품목</th>\n",
       "      <th>시구 미성년자</th>\n",
       "      <th>시구 젊은청년</th>\n",
       "      <th>시구 소득인구</th>\n",
       "      <th>시구 노년인구</th>\n",
       "      <th>동별 미성년자</th>\n",
       "      <th>동별 젊은청년</th>\n",
       "      <th>동별 소득인구</th>\n",
       "      <th>동별 노년인구</th>\n",
       "      <th>버스정류장</th>\n",
       "    </tr>\n",
       "  </thead>\n",
       "  <tbody>\n",
       "    <tr>\n",
       "      <th>0</th>\n",
       "      <td>양촌시장</td>\n",
       "      <td>1.793208e+06</td>\n",
       "      <td>976286.760773</td>\n",
       "      <td>충청남도</td>\n",
       "      <td>논산시</td>\n",
       "      <td>1</td>\n",
       "      <td>0</td>\n",
       "      <td>0</td>\n",
       "      <td>0</td>\n",
       "      <td>1</td>\n",
       "      <td>...</td>\n",
       "      <td>0</td>\n",
       "      <td>17038</td>\n",
       "      <td>16330</td>\n",
       "      <td>52212</td>\n",
       "      <td>31095</td>\n",
       "      <td>791</td>\n",
       "      <td>726</td>\n",
       "      <td>2528</td>\n",
       "      <td>2172</td>\n",
       "      <td>10</td>\n",
       "    </tr>\n",
       "    <tr>\n",
       "      <th>1</th>\n",
       "      <td>덕풍전통시장</td>\n",
       "      <td>1.948871e+06</td>\n",
       "      <td>973943.302140</td>\n",
       "      <td>경기도</td>\n",
       "      <td>하남시</td>\n",
       "      <td>0</td>\n",
       "      <td>1</td>\n",
       "      <td>0</td>\n",
       "      <td>185</td>\n",
       "      <td>1</td>\n",
       "      <td>...</td>\n",
       "      <td>1</td>\n",
       "      <td>55333</td>\n",
       "      <td>58190</td>\n",
       "      <td>142356</td>\n",
       "      <td>37573</td>\n",
       "      <td>4718</td>\n",
       "      <td>4543</td>\n",
       "      <td>12594</td>\n",
       "      <td>3864</td>\n",
       "      <td>54</td>\n",
       "    </tr>\n",
       "  </tbody>\n",
       "</table>\n",
       "<p>2 rows × 36 columns</p>\n",
       "</div>"
      ],
      "text/plain": [
       "      시장명            위도             경도   시도명 시군구명  5일장  복합장  상설장  점포수  \\\n",
       "0    양촌시장  1.793208e+06  976286.760773  충청남도  논산시    1    0    0    0   \n",
       "1  덕풍전통시장  1.948871e+06  973943.302140   경기도  하남시    0    1    0  185   \n",
       "\n",
       "   공중화장실보유여부  ...  농산물이 주요품목  시구 미성년자  시구 젊은청년  시구 소득인구  시구 노년인구  동별 미성년자  \\\n",
       "0          1  ...          0    17038    16330    52212    31095      791   \n",
       "1          1  ...          1    55333    58190   142356    37573     4718   \n",
       "\n",
       "   동별 젊은청년  동별 소득인구  동별 노년인구  버스정류장  \n",
       "0      726     2528     2172     10  \n",
       "1     4543    12594     3864     54  \n",
       "\n",
       "[2 rows x 36 columns]"
      ]
     },
     "execution_count": 11,
     "metadata": {},
     "output_type": "execute_result"
    }
   ],
   "source": [
    "check_go.head(2)"
   ]
  },
  {
   "cell_type": "code",
   "execution_count": 12,
   "metadata": {
    "executionInfo": {
     "elapsed": 2240,
     "status": "ok",
     "timestamp": 1625648991628,
     "user": {
      "displayName": "최성욱",
      "photoUrl": "",
      "userId": "13743263358405601222"
     },
     "user_tz": -540
    },
    "id": "MG4lQWqoOmgd"
   },
   "outputs": [],
   "source": [
    "check_go.to_excel('../data/전통시장데이터_정리완료_좌표변환.xlsx', index = False)"
   ]
  },
  {
   "cell_type": "markdown",
   "metadata": {},
   "source": [
    "## 좌표변환 (UTMK tot WGS84)"
   ]
  },
  {
   "cell_type": "code",
   "execution_count": 6,
   "metadata": {
    "id": "YiUo9JtZqWGA"
   },
   "outputs": [],
   "source": [
    "data = pd.read_excel('../data/성연령별유동인구(202012).xlsx')"
   ]
  },
  {
   "cell_type": "code",
   "execution_count": 12,
   "metadata": {
    "colab": {
     "base_uri": "https://localhost:8080/"
    },
    "executionInfo": {
     "elapsed": 16,
     "status": "ok",
     "timestamp": 1625645204338,
     "user": {
      "displayName": "최성욱",
      "photoUrl": "",
      "userId": "13743263358405601222"
     },
     "user_tz": -540
    },
    "id": "va0yeQaFqjBZ",
    "outputId": "71073db4-a172-4c9c-a2c8-cd85d71a6231"
   },
   "outputs": [
    {
     "name": "stderr",
     "output_type": "stream",
     "text": [
      "C:\\Users\\user\\miniconda3\\lib\\site-packages\\pyproj\\crs\\crs.py:131: FutureWarning: '+init=<authority>:<code>' syntax is deprecated. '<authority>:<code>' is the preferred initialization method. When making the change, be mindful of axis order changes: https://pyproj4.github.io/pyproj/stable/gotchas.html#axis-order-changes-in-proj-6\n",
      "  in_crs_string = _prepare_from_proj_string(in_crs_string)\n",
      "C:\\Users\\user\\miniconda3\\lib\\site-packages\\pyproj\\crs\\crs.py:131: FutureWarning: '+init=<authority>:<code>' syntax is deprecated. '<authority>:<code>' is the preferred initialization method. When making the change, be mindful of axis order changes: https://pyproj4.github.io/pyproj/stable/gotchas.html#axis-order-changes-in-proj-6\n",
      "  in_crs_string = _prepare_from_proj_string(in_crs_string)\n"
     ]
    }
   ],
   "source": [
    "proj_UTMK = Proj(init = 'epsg:5178')\n",
    "proj_WGS84 = Proj(init = 'epsg:4326')"
   ]
  },
  {
   "cell_type": "code",
   "execution_count": 28,
   "metadata": {
    "id": "V6SwGwQ-K2xV"
   },
   "outputs": [
    {
     "name": "stderr",
     "output_type": "stream",
     "text": [
      "C:\\Users\\user\\miniconda3\\lib\\site-packages\\pandas\\core\\frame.py:4906: SettingWithCopyWarning: \n",
      "A value is trying to be set on a copy of a slice from a DataFrame\n",
      "\n",
      "See the caveats in the documentation: https://pandas.pydata.org/pandas-docs/stable/user_guide/indexing.html#returning-a-view-versus-a-copy\n",
      "  return super().drop(\n"
     ]
    },
    {
     "data": {
      "text/html": [
       "<div>\n",
       "<style scoped>\n",
       "    .dataframe tbody tr th:only-of-type {\n",
       "        vertical-align: middle;\n",
       "    }\n",
       "\n",
       "    .dataframe tbody tr th {\n",
       "        vertical-align: top;\n",
       "    }\n",
       "\n",
       "    .dataframe thead th {\n",
       "        text-align: right;\n",
       "    }\n",
       "</style>\n",
       "<table border=\"1\" class=\"dataframe\">\n",
       "  <thead>\n",
       "    <tr style=\"text-align: right;\">\n",
       "      <th></th>\n",
       "      <th>X_COORD</th>\n",
       "      <th>Y_COORD</th>\n",
       "    </tr>\n",
       "  </thead>\n",
       "  <tbody>\n",
       "    <tr>\n",
       "      <th>0</th>\n",
       "      <td>953883.991787</td>\n",
       "      <td>1955879.147389</td>\n",
       "    </tr>\n",
       "    <tr>\n",
       "      <th>1</th>\n",
       "      <td>956583.991787</td>\n",
       "      <td>1951679.147389</td>\n",
       "    </tr>\n",
       "    <tr>\n",
       "      <th>2</th>\n",
       "      <td>955533.991787</td>\n",
       "      <td>1947229.147389</td>\n",
       "    </tr>\n",
       "    <tr>\n",
       "      <th>3</th>\n",
       "      <td>959583.991787</td>\n",
       "      <td>1950479.147389</td>\n",
       "    </tr>\n",
       "    <tr>\n",
       "      <th>4</th>\n",
       "      <td>963983.991787</td>\n",
       "      <td>1949679.147389</td>\n",
       "    </tr>\n",
       "  </tbody>\n",
       "</table>\n",
       "</div>"
      ],
      "text/plain": [
       "         X_COORD         Y_COORD\n",
       "0  953883.991787  1955879.147389\n",
       "1  956583.991787  1951679.147389\n",
       "2  955533.991787  1947229.147389\n",
       "3  959583.991787  1950479.147389\n",
       "4  963983.991787  1949679.147389"
      ]
     },
     "execution_count": 28,
     "metadata": {},
     "output_type": "execute_result"
    }
   ],
   "source": [
    "check_df = data[['X_COORD', 'Y_COORD']]\n",
    "check_df.drop([0], axis = 0, inplace = True)\n",
    "check_df.reset_index(drop = True, inplace = True)\n",
    "check_df.head()"
   ]
  },
  {
   "cell_type": "code",
   "execution_count": 29,
   "metadata": {
    "id": "PwXRCZzLAcbH"
   },
   "outputs": [],
   "source": [
    "def transform_utmk_to_w84(df) :\n",
    "    return pd.Series(transform(proj_UTMK, proj_WGS84, df['X_COORD'], df['Y_COORD']), index = ['X_COORD', 'Y_COORD'])\n",
    "\n",
    "check_df[['X_COORD', 'Y_COORD']] = check_df.apply(transform_utmk_to_w84, axis = 1)"
   ]
  },
  {
   "cell_type": "code",
   "execution_count": 31,
   "metadata": {
    "id": "VPEMnIi089e8"
   },
   "outputs": [
    {
     "data": {
      "text/html": [
       "<div>\n",
       "<style scoped>\n",
       "    .dataframe tbody tr th:only-of-type {\n",
       "        vertical-align: middle;\n",
       "    }\n",
       "\n",
       "    .dataframe tbody tr th {\n",
       "        vertical-align: top;\n",
       "    }\n",
       "\n",
       "    .dataframe thead th {\n",
       "        text-align: right;\n",
       "    }\n",
       "</style>\n",
       "<table border=\"1\" class=\"dataframe\">\n",
       "  <thead>\n",
       "    <tr style=\"text-align: right;\">\n",
       "      <th></th>\n",
       "      <th>X_COORD</th>\n",
       "      <th>Y_COORD</th>\n",
       "    </tr>\n",
       "  </thead>\n",
       "  <tbody>\n",
       "    <tr>\n",
       "      <th>0</th>\n",
       "      <td>126.975401</td>\n",
       "      <td>37.603923</td>\n",
       "    </tr>\n",
       "    <tr>\n",
       "      <th>1</th>\n",
       "      <td>127.006237</td>\n",
       "      <td>37.566199</td>\n",
       "    </tr>\n",
       "    <tr>\n",
       "      <th>2</th>\n",
       "      <td>126.994618</td>\n",
       "      <td>37.526040</td>\n",
       "    </tr>\n",
       "    <tr>\n",
       "      <th>3</th>\n",
       "      <td>127.040273</td>\n",
       "      <td>37.555520</td>\n",
       "    </tr>\n",
       "    <tr>\n",
       "      <th>4</th>\n",
       "      <td>127.090127</td>\n",
       "      <td>37.548492</td>\n",
       "    </tr>\n",
       "  </tbody>\n",
       "</table>\n",
       "</div>"
      ],
      "text/plain": [
       "      X_COORD    Y_COORD\n",
       "0  126.975401  37.603923\n",
       "1  127.006237  37.566199\n",
       "2  126.994618  37.526040\n",
       "3  127.040273  37.555520\n",
       "4  127.090127  37.548492"
      ]
     },
     "execution_count": 31,
     "metadata": {},
     "output_type": "execute_result"
    }
   ],
   "source": [
    "check_df.head()"
   ]
  }
 ],
 "metadata": {
  "colab": {
   "authorship_tag": "ABX9TyO93xe12sh+t2s9uI+egRGd",
   "collapsed_sections": [],
   "name": "좌표변환.ipynb",
   "provenance": []
  },
  "hide_input": false,
  "kernelspec": {
   "display_name": "Python 3",
   "language": "python",
   "name": "python3"
  },
  "language_info": {
   "codemirror_mode": {
    "name": "ipython",
    "version": 3
   },
   "file_extension": ".py",
   "mimetype": "text/x-python",
   "name": "python",
   "nbconvert_exporter": "python",
   "pygments_lexer": "ipython3",
   "version": "3.9.5"
  },
  "toc": {
   "base_numbering": 1,
   "nav_menu": {},
   "number_sections": true,
   "sideBar": true,
   "skip_h1_title": false,
   "title_cell": "Table of Contents",
   "title_sidebar": "Contents",
   "toc_cell": false,
   "toc_position": {},
   "toc_section_display": true,
   "toc_window_display": false
  },
  "varInspector": {
   "cols": {
    "lenName": 16,
    "lenType": 16,
    "lenVar": 40
   },
   "kernels_config": {
    "python": {
     "delete_cmd_postfix": "",
     "delete_cmd_prefix": "del ",
     "library": "var_list.py",
     "varRefreshCmd": "print(var_dic_list())"
    },
    "r": {
     "delete_cmd_postfix": ") ",
     "delete_cmd_prefix": "rm(",
     "library": "var_list.r",
     "varRefreshCmd": "cat(var_dic_list()) "
    }
   },
   "types_to_exclude": [
    "module",
    "function",
    "builtin_function_or_method",
    "instance",
    "_Feature"
   ],
   "window_display": false
  }
 },
 "nbformat": 4,
 "nbformat_minor": 1
}
