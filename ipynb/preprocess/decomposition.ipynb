{
  "cells": [
    {
      "cell_type": "code",
      "execution_count": null,
      "metadata": {
        "id": "HmsqM_2Q8fFu"
      },
      "outputs": [],
      "source": [
        "# !pip install prince"
      ]
    },
    {
      "cell_type": "code",
      "execution_count": null,
      "metadata": {
        "id": "AmKjIqid8fFx"
      },
      "outputs": [],
      "source": [
        "import numpy as np \n",
        "import pandas as pd\n",
        "import matplotlib.pyplot as plt\n",
        "plt.style.use('fivethirtyeight')\n",
        "\n",
        "# 차원축소\n",
        "from sklearn.preprocessing import *\n",
        "from sklearn.decomposition import PCA\n",
        "import prince\n"
      ]
    },
    {
      "cell_type": "code",
      "execution_count": null,
      "metadata": {
        "id": "hw33eDBC8fFz"
      },
      "outputs": [],
      "source": [
        "df = pd.read_excel('../data/preprocess_data.xlsx')"
      ]
    },
    {
      "cell_type": "code",
      "execution_count": null,
      "metadata": {
        "id": "UL4LYxNn8fFz"
      },
      "outputs": [],
      "source": [
        "categorical_variable = ['5일장', '복합장', '상설장','공중화장실보유여부', '주차장보유여부','농산물이 주요품목']\n",
        "df_number = df.drop(categorical_variable, axis = 1)\n",
        "scaled_data = StandardScaler().fit_transform(np.log1p(df_number))\n",
        "data_scale_log=pd.DataFrame(data=scaled_data, columns=df_number.columns)"
      ]
    },
    {
      "cell_type": "markdown",
      "metadata": {
        "id": "KJjM6mf_8fF0"
      },
      "source": [
        "## 차원축소"
      ]
    },
    {
      "cell_type": "markdown",
      "metadata": {
        "id": "V8w8ySTg8fF2"
      },
      "source": [
        "- 시장특성, 주변시설특성, 소비자특성으로 나뉘어 차원축소를 진행한다.\n",
        "- 연속형 변수는 PCA, 명목형 변수는 MCA기법으로 차원축소를 진행한다.\n",
        "- 이때 설명력은 90%로 한다.\n",
        "- 유동인구 데이터의 경우, \"통계청\"을 방문하여 \"공개불가 데이터\"를 활용하여 진행하여 PPT와 다소 차이가 있을 수 있다."
      ]
    },
    {
      "cell_type": "code",
      "execution_count": null,
      "metadata": {
        "id": "VGLRQ6_Z8fF2"
      },
      "outputs": [],
      "source": [
        "categorical = ['5일장', '복합장', '상설장','공중화장실보유여부', '주차장보유여부','농산물이 주요품목']\n",
        "continuous = ['점포수','운영기간', '대형마트', '주차장', '대중교통', '학교', '편의점', '주유소,충전소', \n",
        "              '문화시설', '관광명소', '음식점', '카페', '공시지가', '행정동 인구', '행정시구 인구', \n",
        "              '시도별 소득월액', '시구 미성년자', '시구 젊은청년', '시구 소득인구', '시구 노년인구',\n",
        "              '동별 미성년자', '동별 젊은청년', '동별 소득인구','동별 노년인구']\n",
        "\n",
        "df_categorical = df[categorical] \n",
        "df_continuous = df[continuous] "
      ]
    },
    {
      "cell_type": "markdown",
      "metadata": {
        "id": "XH9BagHI8fF3"
      },
      "source": [
        "### 시장특성"
      ]
    },
    {
      "cell_type": "markdown",
      "metadata": {
        "id": "7ym2xpod8fF4"
      },
      "source": [
        "다음 분석으로부터 다음의 결과를 도출 할 수 있다.  \n",
        "시장특성의 연속형 변수의 경우, 통계청 데이터인 유동인구 데이터가 본 과정에서는 누락되어 있어 다소 차이가 있다."
      ]
    },
    {
      "cell_type": "markdown",
      "metadata": {
        "id": "XzXGKFhA8fF5"
      },
      "source": [
        "연속형 변수 \n",
        "- 1번 주성분\n",
        "    - 점포수가 많고 공시지가가 높으며 운영기간이 짧음\n",
        "    - 규모가 있는 신설시장\n",
        "- 2번 주성분\n",
        "    - 점포수가 적고, 운영기간도 짧음\n",
        "    - 규모가 작은 신설시장\n",
        "- 3번 주성분: \n",
        "    - 점포수가 많고, 공시지가가 낮으며, 운영기간이 짧음 \n",
        "    - 도시 외각 지역의 규모가 큰 신설시장\n",
        "\n",
        "명목형 변수\n",
        "- 1번 성분\n",
        "    - 5일장과 복합장이고 주차장을 보유한 시장\n",
        "    - 주차장을 보유한 5일장, 복합장\n",
        "- 2번 성분\n",
        "    - 복합장 성분이 큼\n",
        "    - 복합장 시장\n",
        "- 3번 성분\n",
        "    - 농산물이 주요 품목이고 공중화장실과 주차장이 없음\n",
        "    - 편의시설이 없는 농산물 시장\n",
        "- 4번 성분\n",
        "    - 주차장은 없으나 공중화장실을 보유함.\n",
        "    - 주차장은 없지만 화장실을 보유한 시장    \n"
      ]
    },
    {
      "cell_type": "markdown",
      "metadata": {
        "id": "QEy7SytW8fF6"
      },
      "source": [
        "#### 시장특성 - 연속형 변수\n",
        "\n"
      ]
    },
    {
      "cell_type": "code",
      "execution_count": null,
      "metadata": {
        "id": "iS7L2KHx8fF6",
        "outputId": "1157933e-e808-4efa-82d8-87a3970b1ca7"
      },
      "outputs": [
        {
          "name": "stdout",
          "output_type": "stream",
          "text": [
            "주성분의 개수: 3\n"
          ]
        }
      ],
      "source": [
        "market_feature = ['점포수', '운영기간', '공시지가']\n",
        "\n",
        "pca = PCA(n_components=0.9)\n",
        "market_scale_data = data_scale_log[market_feature]\n",
        "pca.fit(market_scale_data)\n",
        "pca_market = pd.DataFrame((pca.transform(market_scale_data)))\n",
        "\n",
        "num_of_principal = pca_market.shape[1] \n",
        "print('주성분의 개수:', num_of_principal)"
      ]
    },
    {
      "cell_type": "code",
      "execution_count": null,
      "metadata": {
        "id": "W4JyqhJh8fF7",
        "outputId": "07f9fd20-3606-4eb7-b552-81d73f59f2f7"
      },
      "outputs": [
        {
          "name": "stdout",
          "output_type": "stream",
          "text": [
            "주성분의 설명력\n",
            "제 1주성분 : 0.47233351493546794\n",
            "제 2주성분 : 0.29324421240316306\n",
            "제 3주성분 : 0.23442227266136903\n"
          ]
        },
        {
          "data": {
            "text/html": [
              "<div>\n",
              "<style scoped>\n",
              "    .dataframe tbody tr th:only-of-type {\n",
              "        vertical-align: middle;\n",
              "    }\n",
              "\n",
              "    .dataframe tbody tr th {\n",
              "        vertical-align: top;\n",
              "    }\n",
              "\n",
              "    .dataframe thead th {\n",
              "        text-align: right;\n",
              "    }\n",
              "</style>\n",
              "<table border=\"1\" class=\"dataframe\">\n",
              "  <thead>\n",
              "    <tr style=\"text-align: right;\">\n",
              "      <th></th>\n",
              "      <th>점포수</th>\n",
              "      <th>운영기간</th>\n",
              "      <th>공시지가</th>\n",
              "    </tr>\n",
              "  </thead>\n",
              "  <tbody>\n",
              "    <tr>\n",
              "      <th>0</th>\n",
              "      <td>0.571409</td>\n",
              "      <td>-0.509901</td>\n",
              "      <td>0.643034</td>\n",
              "    </tr>\n",
              "    <tr>\n",
              "      <th>1</th>\n",
              "      <td>-0.600783</td>\n",
              "      <td>-0.793687</td>\n",
              "      <td>-0.095500</td>\n",
              "    </tr>\n",
              "    <tr>\n",
              "      <th>2</th>\n",
              "      <td>0.559064</td>\n",
              "      <td>-0.331754</td>\n",
              "      <td>-0.759860</td>\n",
              "    </tr>\n",
              "  </tbody>\n",
              "</table>\n",
              "</div>"
            ],
            "text/plain": [
              "        점포수      운영기간      공시지가\n",
              "0  0.571409 -0.509901  0.643034\n",
              "1 -0.600783 -0.793687 -0.095500\n",
              "2  0.559064 -0.331754 -0.759860"
            ]
          },
          "execution_count": 57,
          "metadata": {},
          "output_type": "execute_result"
        }
      ],
      "source": [
        "print('주성분의 설명력')\n",
        "for i in range(num_of_principal) :\n",
        "    print(f\"제 {i+1}주성분 :\", pca.explained_variance_ratio_[i])\n",
        "    \n",
        "pd.DataFrame(data=pca.components_,columns=market_scale_data.columns)"
      ]
    },
    {
      "cell_type": "markdown",
      "metadata": {
        "id": "sjWIne9d8fF8"
      },
      "source": [
        "#### 시장특성 - 명목형 변수"
      ]
    },
    {
      "cell_type": "code",
      "execution_count": null,
      "metadata": {
        "id": "sRQKznT38fF9",
        "outputId": "e83fa8c2-cd63-450f-f9ba-71c8187a36d2"
      },
      "outputs": [
        {
          "name": "stdout",
          "output_type": "stream",
          "text": [
            "mca의 설명력 0.385 0.346 0.191 0.078\n"
          ]
        },
        {
          "data": {
            "text/html": [
              "<div>\n",
              "<style scoped>\n",
              "    .dataframe tbody tr th:only-of-type {\n",
              "        vertical-align: middle;\n",
              "    }\n",
              "\n",
              "    .dataframe tbody tr th {\n",
              "        vertical-align: top;\n",
              "    }\n",
              "\n",
              "    .dataframe thead th {\n",
              "        text-align: right;\n",
              "    }\n",
              "</style>\n",
              "<table border=\"1\" class=\"dataframe\">\n",
              "  <thead>\n",
              "    <tr style=\"text-align: right;\">\n",
              "      <th></th>\n",
              "      <th>0</th>\n",
              "      <th>1</th>\n",
              "      <th>2</th>\n",
              "      <th>3</th>\n",
              "    </tr>\n",
              "  </thead>\n",
              "  <tbody>\n",
              "    <tr>\n",
              "      <th>5일장</th>\n",
              "      <td>1.683236</td>\n",
              "      <td>-1.439126</td>\n",
              "      <td>-0.089836</td>\n",
              "      <td>0.335414</td>\n",
              "    </tr>\n",
              "    <tr>\n",
              "      <th>복합장</th>\n",
              "      <td>1.298242</td>\n",
              "      <td>2.355810</td>\n",
              "      <td>0.009018</td>\n",
              "      <td>0.391115</td>\n",
              "    </tr>\n",
              "    <tr>\n",
              "      <th>상설장</th>\n",
              "      <td>-0.731257</td>\n",
              "      <td>-0.075435</td>\n",
              "      <td>-0.051919</td>\n",
              "      <td>0.182308</td>\n",
              "    </tr>\n",
              "    <tr>\n",
              "      <th>공중화장실보유여부</th>\n",
              "      <td>0.012938</td>\n",
              "      <td>0.000428</td>\n",
              "      <td>-0.205284</td>\n",
              "      <td>0.148783</td>\n",
              "    </tr>\n",
              "    <tr>\n",
              "      <th>주차장보유여부</th>\n",
              "      <td>0.140530</td>\n",
              "      <td>0.054964</td>\n",
              "      <td>-0.311220</td>\n",
              "      <td>-0.419484</td>\n",
              "    </tr>\n",
              "    <tr>\n",
              "      <th>농산물이 주요품목</th>\n",
              "      <td>0.060906</td>\n",
              "      <td>-0.029310</td>\n",
              "      <td>0.903976</td>\n",
              "      <td>-0.122447</td>\n",
              "    </tr>\n",
              "  </tbody>\n",
              "</table>\n",
              "</div>"
            ],
            "text/plain": [
              "                  0         1         2         3\n",
              "5일장        1.683236 -1.439126 -0.089836  0.335414\n",
              "복합장        1.298242  2.355810  0.009018  0.391115\n",
              "상설장       -0.731257 -0.075435 -0.051919  0.182308\n",
              "공중화장실보유여부  0.012938  0.000428 -0.205284  0.148783\n",
              "주차장보유여부    0.140530  0.054964 -0.311220 -0.419484\n",
              "농산물이 주요품목  0.060906 -0.029310  0.903976 -0.122447"
            ]
          },
          "execution_count": 45,
          "metadata": {},
          "output_type": "execute_result"
        }
      ],
      "source": [
        "mca = prince.MCA(n_components=4)\n",
        "mca = mca.fit(df_categorical)\n",
        "\n",
        "mca_eigen = mca.eigenvalues_\n",
        "mca_score = np.array(mca_eigen)/sum(mca_eigen)\n",
        "print('mca의 설명력', round(mca_score[0], 3), round(mca_score[1], 3), round(mca_score[2], 3), round(mca_score[3], 3))\n",
        "\n",
        "mca.column_coordinates(df_categorical)"
      ]
    },
    {
      "cell_type": "code",
      "execution_count": null,
      "metadata": {
        "id": "_HCGDvTi8fF9"
      },
      "outputs": [],
      "source": [
        "df_mca = mca.transform(df_categorical)"
      ]
    },
    {
      "cell_type": "markdown",
      "metadata": {
        "id": "USROGZn78fF9"
      },
      "source": [
        "### 주변시설 특성"
      ]
    },
    {
      "cell_type": "markdown",
      "metadata": {
        "id": "xSCLTd1U8fF-"
      },
      "source": [
        "다음의 분석으로 부터, 다음의 결과를 이끌어 낼 수 있었다.\n",
        "\n",
        "- 1번 주성분\n",
        "    - 전체적으로 주성분 값이 낮음\n",
        "    - 주변시설이 낙후된 시장\n",
        "- 2번 주성분\n",
        "    - 관광명소와 문화시설이 주위에 많고 대형마트가 없다.\n",
        "    - 대형마트가 없는 관광지구시장\n",
        "- 3번 주성분\n",
        "    - 주변에 주유소,충전소가 많고 관광명소와 대형마트가 없다.\n",
        "    - 주유소,충전소가 많고 대형마트가 없는 비관광지구시장\n",
        "- 4번 주성분\n",
        "    - 주변에 대중교통 시설이 많고 주유소, 충전소가 없다.\n",
        "    - 대중교통 이용이 편리한 시장\n",
        "- 5번 주성분\n",
        "    - 주변에 학교가 많고, 대중교통 시설, 관광명소, 주유소,충전소가 많다.\n",
        "    - 학교 주변 시장\n",
        "- 6번 주성분\n",
        "    - 문화시설이 많고 학교와 관광명소가 없다.\n",
        "    - 학교, 관광명소와 떨어진 문화시설 주변시장\n",
        "\n"
      ]
    },
    {
      "cell_type": "code",
      "execution_count": null,
      "metadata": {
        "id": "dd_Aap5y8fF-",
        "outputId": "f72eda8e-612a-4056-e826-1f2518974567"
      },
      "outputs": [
        {
          "name": "stdout",
          "output_type": "stream",
          "text": [
            "주성분의 개수: 6\n"
          ]
        }
      ],
      "source": [
        "infra_feature = ['대형마트', '주차장', '대중교통', '학교', '편의점', '주유소,충전소', '문화시설', '관광명소', '음식점', '카페']\n",
        "\n",
        "pca = PCA(n_components=0.9)\n",
        "infra_scale_data = data_scale_log[infra_feature]\n",
        "pca.fit(infra_scale_data)\n",
        "pca_infra = pd.DataFrame((pca.transform(infra_scale_data)))\n",
        "\n",
        "num_of_principal = pca_infra.shape[1] \n",
        "print('주성분의 개수:', num_of_principal)"
      ]
    },
    {
      "cell_type": "code",
      "execution_count": null,
      "metadata": {
        "id": "AwtjaV_h8fF_",
        "outputId": "3c717ca8-1626-4567-988d-57956f148112"
      },
      "outputs": [
        {
          "name": "stdout",
          "output_type": "stream",
          "text": [
            "주성분의 설명력\n",
            "제 1주성분 : 0.5473909408982282\n",
            "제 2주성분 : 0.12678620063118606\n",
            "제 3주성분 : 0.08752356527033571\n",
            "제 4주성분 : 0.07193393151090556\n",
            "제 5주성분 : 0.061816178917672895\n",
            "제 6주성분 : 0.05044514288822882\n"
          ]
        },
        {
          "data": {
            "text/html": [
              "<div>\n",
              "<style scoped>\n",
              "    .dataframe tbody tr th:only-of-type {\n",
              "        vertical-align: middle;\n",
              "    }\n",
              "\n",
              "    .dataframe tbody tr th {\n",
              "        vertical-align: top;\n",
              "    }\n",
              "\n",
              "    .dataframe thead th {\n",
              "        text-align: right;\n",
              "    }\n",
              "</style>\n",
              "<table border=\"1\" class=\"dataframe\">\n",
              "  <thead>\n",
              "    <tr style=\"text-align: right;\">\n",
              "      <th></th>\n",
              "      <th>대형마트</th>\n",
              "      <th>주차장</th>\n",
              "      <th>대중교통</th>\n",
              "      <th>학교</th>\n",
              "      <th>편의점</th>\n",
              "      <th>주유소,충전소</th>\n",
              "      <th>문화시설</th>\n",
              "      <th>관광명소</th>\n",
              "      <th>음식점</th>\n",
              "      <th>카페</th>\n",
              "    </tr>\n",
              "  </thead>\n",
              "  <tbody>\n",
              "    <tr>\n",
              "      <th>0</th>\n",
              "      <td>-0.135772</td>\n",
              "      <td>-0.391140</td>\n",
              "      <td>-0.270441</td>\n",
              "      <td>-0.311242</td>\n",
              "      <td>-0.405498</td>\n",
              "      <td>-0.219924</td>\n",
              "      <td>-0.316904</td>\n",
              "      <td>-0.078581</td>\n",
              "      <td>-0.412513</td>\n",
              "      <td>-0.411096</td>\n",
              "    </tr>\n",
              "    <tr>\n",
              "      <th>1</th>\n",
              "      <td>-0.446316</td>\n",
              "      <td>0.085210</td>\n",
              "      <td>-0.103628</td>\n",
              "      <td>-0.147402</td>\n",
              "      <td>-0.069199</td>\n",
              "      <td>-0.259577</td>\n",
              "      <td>0.393021</td>\n",
              "      <td>0.727432</td>\n",
              "      <td>-0.045401</td>\n",
              "      <td>0.056763</td>\n",
              "    </tr>\n",
              "    <tr>\n",
              "      <th>2</th>\n",
              "      <td>-0.799174</td>\n",
              "      <td>0.063263</td>\n",
              "      <td>0.085194</td>\n",
              "      <td>-0.106591</td>\n",
              "      <td>0.025141</td>\n",
              "      <td>0.477572</td>\n",
              "      <td>-0.004546</td>\n",
              "      <td>-0.331379</td>\n",
              "      <td>0.012303</td>\n",
              "      <td>0.002621</td>\n",
              "    </tr>\n",
              "    <tr>\n",
              "      <th>3</th>\n",
              "      <td>-0.260760</td>\n",
              "      <td>-0.055035</td>\n",
              "      <td>0.563255</td>\n",
              "      <td>0.091492</td>\n",
              "      <td>0.066676</td>\n",
              "      <td>-0.714085</td>\n",
              "      <td>-0.032848</td>\n",
              "      <td>-0.288121</td>\n",
              "      <td>0.034147</td>\n",
              "      <td>0.061052</td>\n",
              "    </tr>\n",
              "    <tr>\n",
              "      <th>4</th>\n",
              "      <td>-0.173906</td>\n",
              "      <td>0.183115</td>\n",
              "      <td>-0.740874</td>\n",
              "      <td>0.353674</td>\n",
              "      <td>0.091295</td>\n",
              "      <td>-0.341189</td>\n",
              "      <td>0.106724</td>\n",
              "      <td>-0.331635</td>\n",
              "      <td>0.105784</td>\n",
              "      <td>0.070277</td>\n",
              "    </tr>\n",
              "    <tr>\n",
              "      <th>5</th>\n",
              "      <td>0.180533</td>\n",
              "      <td>0.159544</td>\n",
              "      <td>-0.088408</td>\n",
              "      <td>-0.789286</td>\n",
              "      <td>0.045872</td>\n",
              "      <td>-0.113828</td>\n",
              "      <td>0.401126</td>\n",
              "      <td>-0.334990</td>\n",
              "      <td>0.108016</td>\n",
              "      <td>0.106381</td>\n",
              "    </tr>\n",
              "  </tbody>\n",
              "</table>\n",
              "</div>"
            ],
            "text/plain": [
              "       대형마트       주차장      대중교통        학교       편의점   주유소,충전소      문화시설  \\\n",
              "0 -0.135772 -0.391140 -0.270441 -0.311242 -0.405498 -0.219924 -0.316904   \n",
              "1 -0.446316  0.085210 -0.103628 -0.147402 -0.069199 -0.259577  0.393021   \n",
              "2 -0.799174  0.063263  0.085194 -0.106591  0.025141  0.477572 -0.004546   \n",
              "3 -0.260760 -0.055035  0.563255  0.091492  0.066676 -0.714085 -0.032848   \n",
              "4 -0.173906  0.183115 -0.740874  0.353674  0.091295 -0.341189  0.106724   \n",
              "5  0.180533  0.159544 -0.088408 -0.789286  0.045872 -0.113828  0.401126   \n",
              "\n",
              "       관광명소       음식점        카페  \n",
              "0 -0.078581 -0.412513 -0.411096  \n",
              "1  0.727432 -0.045401  0.056763  \n",
              "2 -0.331379  0.012303  0.002621  \n",
              "3 -0.288121  0.034147  0.061052  \n",
              "4 -0.331635  0.105784  0.070277  \n",
              "5 -0.334990  0.108016  0.106381  "
            ]
          },
          "execution_count": 61,
          "metadata": {},
          "output_type": "execute_result"
        }
      ],
      "source": [
        "print('주성분의 설명력')\n",
        "for i in range(num_of_principal) :\n",
        "    print(f\"제 {i+1}주성분 :\", pca.explained_variance_ratio_[i])\n",
        "    \n",
        "pd.DataFrame(data=pca.components_,columns=infra_scale_data.columns)"
      ]
    },
    {
      "cell_type": "markdown",
      "metadata": {
        "id": "aCYChqHC8fF_"
      },
      "source": [
        "### 소비자 특성"
      ]
    },
    {
      "cell_type": "markdown",
      "metadata": {
        "id": "ZLXfzql78fF_"
      },
      "source": [
        "다음의 분석으로 부터, 다음의 결과를 이끌어 낼 수 있었다.\n",
        "\n",
        "- 1번 주성분\n",
        "    - 전반적으로 인구 수치가 음의값을 가진다.\n",
        "    - 외각 지역의 시장\n",
        "- 2번 주성분\n",
        "    - 행정 시구인구와 행정동 인구가 반비례관계를 띈다.\n",
        "    - 주거지에서 벗어난 시장"
      ]
    },
    {
      "cell_type": "code",
      "execution_count": null,
      "metadata": {
        "id": "1wQclikB8fGA",
        "outputId": "47702e59-b2fd-4d80-c025-dc65010caaf9"
      },
      "outputs": [
        {
          "name": "stdout",
          "output_type": "stream",
          "text": [
            "주성분의 개수: 2\n"
          ]
        }
      ],
      "source": [
        "consumer_feature = ['행정동 인구', '행정시구 인구', '시도별 소득월액', '시구 미성년자',\n",
        "       '시구 젊은청년', '시구 소득인구', '시구 노년인구', '동별 미성년자', '동별 젊은청년', '동별 소득인구', '동별 노년인구']\n",
        "\n",
        "pca = PCA(n_components=0.9)\n",
        "consumer_scale_data = data_scale_log[consumer_feature]\n",
        "pca.fit(consumer_scale_data)\n",
        "pca_consumer = pd.DataFrame((pca.transform(consumer_scale_data)))\n",
        "\n",
        "num_of_principal = pca_consumer.shape[1] \n",
        "print('주성분의 개수:', num_of_principal)"
      ]
    },
    {
      "cell_type": "code",
      "execution_count": null,
      "metadata": {
        "id": "vLKlGuHy8fGA",
        "outputId": "e6e6cdeb-b4bf-4f46-8c78-768d8a8570f0"
      },
      "outputs": [
        {
          "name": "stdout",
          "output_type": "stream",
          "text": [
            "주성분의 설명력\n",
            "제 1주성분 : 0.6506768510549017\n",
            "제 2주성분 : 0.2567898487125134\n"
          ]
        },
        {
          "data": {
            "text/html": [
              "<div>\n",
              "<style scoped>\n",
              "    .dataframe tbody tr th:only-of-type {\n",
              "        vertical-align: middle;\n",
              "    }\n",
              "\n",
              "    .dataframe tbody tr th {\n",
              "        vertical-align: top;\n",
              "    }\n",
              "\n",
              "    .dataframe thead th {\n",
              "        text-align: right;\n",
              "    }\n",
              "</style>\n",
              "<table border=\"1\" class=\"dataframe\">\n",
              "  <thead>\n",
              "    <tr style=\"text-align: right;\">\n",
              "      <th></th>\n",
              "      <th>0</th>\n",
              "      <th>1</th>\n",
              "    </tr>\n",
              "  </thead>\n",
              "  <tbody>\n",
              "    <tr>\n",
              "      <th>행정동 인구</th>\n",
              "      <td>-0.306672</td>\n",
              "      <td>-0.338148</td>\n",
              "    </tr>\n",
              "    <tr>\n",
              "      <th>행정시구 인구</th>\n",
              "      <td>-0.323070</td>\n",
              "      <td>0.294338</td>\n",
              "    </tr>\n",
              "    <tr>\n",
              "      <th>시도별 소득월액</th>\n",
              "      <td>-0.254740</td>\n",
              "      <td>0.093304</td>\n",
              "    </tr>\n",
              "    <tr>\n",
              "      <th>시구 미성년자</th>\n",
              "      <td>-0.314333</td>\n",
              "      <td>0.298060</td>\n",
              "    </tr>\n",
              "    <tr>\n",
              "      <th>시구 젊은청년</th>\n",
              "      <td>-0.325548</td>\n",
              "      <td>0.282307</td>\n",
              "    </tr>\n",
              "    <tr>\n",
              "      <th>시구 소득인구</th>\n",
              "      <td>-0.323949</td>\n",
              "      <td>0.290569</td>\n",
              "    </tr>\n",
              "    <tr>\n",
              "      <th>시구 노년인구</th>\n",
              "      <td>-0.296912</td>\n",
              "      <td>0.296372</td>\n",
              "    </tr>\n",
              "    <tr>\n",
              "      <th>동별 미성년자</th>\n",
              "      <td>-0.277539</td>\n",
              "      <td>-0.367000</td>\n",
              "    </tr>\n",
              "    <tr>\n",
              "      <th>동별 젊은청년</th>\n",
              "      <td>-0.320794</td>\n",
              "      <td>-0.275098</td>\n",
              "    </tr>\n",
              "    <tr>\n",
              "      <th>동별 소득인구</th>\n",
              "      <td>-0.309084</td>\n",
              "      <td>-0.329438</td>\n",
              "    </tr>\n",
              "    <tr>\n",
              "      <th>동별 노년인구</th>\n",
              "      <td>-0.251655</td>\n",
              "      <td>-0.361405</td>\n",
              "    </tr>\n",
              "  </tbody>\n",
              "</table>\n",
              "</div>"
            ],
            "text/plain": [
              "                 0         1\n",
              "행정동 인구   -0.306672 -0.338148\n",
              "행정시구 인구  -0.323070  0.294338\n",
              "시도별 소득월액 -0.254740  0.093304\n",
              "시구 미성년자  -0.314333  0.298060\n",
              "시구 젊은청년  -0.325548  0.282307\n",
              "시구 소득인구  -0.323949  0.290569\n",
              "시구 노년인구  -0.296912  0.296372\n",
              "동별 미성년자  -0.277539 -0.367000\n",
              "동별 젊은청년  -0.320794 -0.275098\n",
              "동별 소득인구  -0.309084 -0.329438\n",
              "동별 노년인구  -0.251655 -0.361405"
            ]
          },
          "execution_count": 64,
          "metadata": {},
          "output_type": "execute_result"
        }
      ],
      "source": [
        "print('주성분의 설명력')\n",
        "for i in range(num_of_principal) :\n",
        "    print(f\"제 {i+1}주성분 :\", pca.explained_variance_ratio_[i])\n",
        "    \n",
        "pd.DataFrame(data=pca.components_,columns=consumer_scale_data.columns).T"
      ]
    },
    {
      "cell_type": "markdown",
      "metadata": {
        "id": "CzTwm1g08fGB"
      },
      "source": [
        "## 차원축소 결과"
      ]
    },
    {
      "cell_type": "code",
      "execution_count": null,
      "metadata": {
        "id": "f5Fl-WjJ8fGB"
      },
      "outputs": [],
      "source": [
        "pca_mca=pd.concat([pca_market,df_mca,pca_infra,pca_consumer],axis=1)\n"
      ]
    },
    {
      "cell_type": "code",
      "execution_count": null,
      "metadata": {
        "id": "a3oCTvYT8fGB",
        "outputId": "e492436c-623b-4272-a2a3-b448c8baf6c8"
      },
      "outputs": [
        {
          "data": {
            "text/html": [
              "<div>\n",
              "<style scoped>\n",
              "    .dataframe tbody tr th:only-of-type {\n",
              "        vertical-align: middle;\n",
              "    }\n",
              "\n",
              "    .dataframe tbody tr th {\n",
              "        vertical-align: top;\n",
              "    }\n",
              "\n",
              "    .dataframe thead th {\n",
              "        text-align: right;\n",
              "    }\n",
              "</style>\n",
              "<table border=\"1\" class=\"dataframe\">\n",
              "  <thead>\n",
              "    <tr style=\"text-align: right;\">\n",
              "      <th></th>\n",
              "      <th>규모가 있는 신설시장</th>\n",
              "      <th>규모가 작은 신설시장</th>\n",
              "      <th>도시 외각 지역의 규모가 큰 신설시장</th>\n",
              "      <th>주차장을 보유한 5일장, 복합장</th>\n",
              "      <th>복합장 시장</th>\n",
              "      <th>편의시설이 없는 농산물 시장</th>\n",
              "      <th>화장실만 보유한 시장</th>\n",
              "      <th>주변 시설이 낙후된 시장</th>\n",
              "      <th>대형마트가 없는 관광지구 시장</th>\n",
              "      <th>주유소,충전소가 많은 대형마트가 없는 비관광지구 시장</th>\n",
              "      <th>대중교통 이용이 편리한 시장</th>\n",
              "      <th>학교 주변 시장</th>\n",
              "      <th>학교, 관광명소와 떨어진 문화시설 주변 시장</th>\n",
              "      <th>외각지역의 시장</th>\n",
              "      <th>주거지에서 벗어난 시장</th>\n",
              "    </tr>\n",
              "  </thead>\n",
              "  <tbody>\n",
              "    <tr>\n",
              "      <th>0</th>\n",
              "      <td>1.776822</td>\n",
              "      <td>0.071416</td>\n",
              "      <td>0.166723</td>\n",
              "      <td>0.650700</td>\n",
              "      <td>1.081693</td>\n",
              "      <td>0.242413</td>\n",
              "      <td>-0.001944</td>\n",
              "      <td>-1.547419</td>\n",
              "      <td>-0.824616</td>\n",
              "      <td>0.196019</td>\n",
              "      <td>0.584936</td>\n",
              "      <td>-0.218246</td>\n",
              "      <td>0.205494</td>\n",
              "      <td>-2.771738</td>\n",
              "      <td>-0.509847</td>\n",
              "    </tr>\n",
              "    <tr>\n",
              "      <th>1</th>\n",
              "      <td>-0.667371</td>\n",
              "      <td>-0.993128</td>\n",
              "      <td>-0.577693</td>\n",
              "      <td>-0.331406</td>\n",
              "      <td>-0.012136</td>\n",
              "      <td>-0.463376</td>\n",
              "      <td>-0.112696</td>\n",
              "      <td>-0.303675</td>\n",
              "      <td>0.907540</td>\n",
              "      <td>-0.655388</td>\n",
              "      <td>0.067741</td>\n",
              "      <td>0.061151</td>\n",
              "      <td>0.949341</td>\n",
              "      <td>1.289843</td>\n",
              "      <td>-3.086018</td>\n",
              "    </tr>\n",
              "    <tr>\n",
              "      <th>2</th>\n",
              "      <td>-1.018561</td>\n",
              "      <td>-0.187543</td>\n",
              "      <td>-0.284827</td>\n",
              "      <td>1.500597</td>\n",
              "      <td>-1.333727</td>\n",
              "      <td>0.995525</td>\n",
              "      <td>0.407282</td>\n",
              "      <td>2.439395</td>\n",
              "      <td>-0.807369</td>\n",
              "      <td>0.644863</td>\n",
              "      <td>0.208599</td>\n",
              "      <td>-0.610732</td>\n",
              "      <td>0.333015</td>\n",
              "      <td>0.170042</td>\n",
              "      <td>-1.296120</td>\n",
              "    </tr>\n",
              "    <tr>\n",
              "      <th>3</th>\n",
              "      <td>-2.057687</td>\n",
              "      <td>0.793231</td>\n",
              "      <td>0.338318</td>\n",
              "      <td>1.500597</td>\n",
              "      <td>-1.333727</td>\n",
              "      <td>0.995525</td>\n",
              "      <td>0.407282</td>\n",
              "      <td>4.073832</td>\n",
              "      <td>-1.328353</td>\n",
              "      <td>0.958061</td>\n",
              "      <td>0.202246</td>\n",
              "      <td>-0.779758</td>\n",
              "      <td>0.942356</td>\n",
              "      <td>1.845876</td>\n",
              "      <td>1.632737</td>\n",
              "    </tr>\n",
              "    <tr>\n",
              "      <th>4</th>\n",
              "      <td>-1.519341</td>\n",
              "      <td>0.713279</td>\n",
              "      <td>-0.297835</td>\n",
              "      <td>1.500597</td>\n",
              "      <td>-1.333727</td>\n",
              "      <td>0.995525</td>\n",
              "      <td>0.407282</td>\n",
              "      <td>2.457932</td>\n",
              "      <td>-0.624651</td>\n",
              "      <td>-0.526818</td>\n",
              "      <td>0.023481</td>\n",
              "      <td>-0.325017</td>\n",
              "      <td>0.005182</td>\n",
              "      <td>0.577623</td>\n",
              "      <td>0.173966</td>\n",
              "    </tr>\n",
              "  </tbody>\n",
              "</table>\n",
              "</div>"
            ],
            "text/plain": [
              "   규모가 있는 신설시장  규모가 작은 신설시장  도시 외각 지역의 규모가 큰 신설시장  주차장을 보유한 5일장, 복합장  \\\n",
              "0     1.776822     0.071416              0.166723           0.650700   \n",
              "1    -0.667371    -0.993128             -0.577693          -0.331406   \n",
              "2    -1.018561    -0.187543             -0.284827           1.500597   \n",
              "3    -2.057687     0.793231              0.338318           1.500597   \n",
              "4    -1.519341     0.713279             -0.297835           1.500597   \n",
              "\n",
              "     복합장 시장  편의시설이 없는 농산물 시장  화장실만 보유한 시장  주변 시설이 낙후된 시장  대형마트가 없는 관광지구 시장  \\\n",
              "0  1.081693         0.242413    -0.001944      -1.547419         -0.824616   \n",
              "1 -0.012136        -0.463376    -0.112696      -0.303675          0.907540   \n",
              "2 -1.333727         0.995525     0.407282       2.439395         -0.807369   \n",
              "3 -1.333727         0.995525     0.407282       4.073832         -1.328353   \n",
              "4 -1.333727         0.995525     0.407282       2.457932         -0.624651   \n",
              "\n",
              "   주유소,충전소가 많은 대형마트가 없는 비관광지구 시장  대중교통 이용이 편리한 시장  학교 주변 시장  \\\n",
              "0                       0.196019         0.584936 -0.218246   \n",
              "1                      -0.655388         0.067741  0.061151   \n",
              "2                       0.644863         0.208599 -0.610732   \n",
              "3                       0.958061         0.202246 -0.779758   \n",
              "4                      -0.526818         0.023481 -0.325017   \n",
              "\n",
              "   학교, 관광명소와 떨어진 문화시설 주변 시장  외각지역의 시장  주거지에서 벗어난 시장  \n",
              "0                  0.205494 -2.771738     -0.509847  \n",
              "1                  0.949341  1.289843     -3.086018  \n",
              "2                  0.333015  0.170042     -1.296120  \n",
              "3                  0.942356  1.845876      1.632737  \n",
              "4                  0.005182  0.577623      0.173966  "
            ]
          },
          "execution_count": 81,
          "metadata": {},
          "output_type": "execute_result"
        }
      ],
      "source": [
        "pca_mca.columns=['규모가 있는 신설시장',\n",
        "'규모가 작은 신설시장',\n",
        "'도시 외각 지역의 규모가 큰 신설시장',\n",
        " \n",
        "'주차장을 보유한 5일장, 복합장',\n",
        "'복합장 시장',                 \n",
        "'편의시설이 없는 농산물 시장',\n",
        "'화장실만 보유한 시장',                 \n",
        "                 \n",
        "'주변 시설이 낙후된 시장',\n",
        "'대형마트가 없는 관광지구 시장',\n",
        "'주유소,충전소가 많은 대형마트가 없는 비관광지구 시장',\n",
        "'대중교통 이용이 편리한 시장',\n",
        "'학교 주변 시장',\n",
        "'학교, 관광명소와 떨어진 문화시설 주변 시장',\n",
        "\n",
        "'외각지역의 시장',\n",
        "'주거지에서 벗어난 시장']\n",
        "\n",
        "pca_mca.head()"
      ]
    },
    {
      "cell_type": "code",
      "execution_count": null,
      "metadata": {
        "id": "fjJ0w2lE8fGB"
      },
      "outputs": [],
      "source": [
        "pca_mca.to_excel('../data/pca_mca_data.xlsx', index = False)"
      ]
    },
    {
      "cell_type": "code",
      "execution_count": null,
      "metadata": {
        "id": "WADuPTWY8fGC"
      },
      "outputs": [],
      "source": [
        ""
      ]
    }
  ],
  "metadata": {
    "interpreter": {
      "hash": "337f1a600d345c50cd007a2461b073851b5ec4b77bc6c65adb33d085b42175ad"
    },
    "kernelspec": {
      "display_name": "Python 3.9.5 64-bit ('base': conda)",
      "language": "python",
      "name": "python3"
    },
    "language_info": {
      "codemirror_mode": {
        "name": "ipython",
        "version": 3
      },
      "file_extension": ".py",
      "mimetype": "text/x-python",
      "name": "python",
      "nbconvert_exporter": "python",
      "pygments_lexer": "ipython3",
      "version": "3.9.5"
    },
    "orig_nbformat": 4,
    "colab": {
      "name": "pca.ipynb",
      "provenance": []
    }
  },
  "nbformat": 4,
  "nbformat_minor": 0
}