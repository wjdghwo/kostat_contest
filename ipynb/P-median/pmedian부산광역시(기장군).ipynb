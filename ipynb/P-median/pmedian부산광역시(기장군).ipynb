{
 "cells": [
  {
   "cell_type": "code",
   "execution_count": 7,
   "metadata": {
    "ExecuteTime": {
     "end_time": "2021-07-24T10:59:39.628720Z",
     "start_time": "2021-07-24T10:59:39.605720Z"
    }
   },
   "outputs": [],
   "source": [
    "#!pip install folium\n",
    "#!pip install pyproj"
   ]
  },
  {
   "cell_type": "code",
   "execution_count": 8,
   "metadata": {
    "ExecuteTime": {
     "end_time": "2021-07-24T10:59:39.658723Z",
     "start_time": "2021-07-24T10:59:39.635722Z"
    }
   },
   "outputs": [],
   "source": [
    "import pandas as pd\n",
    "import folium\n",
    "import math\n",
    "\n",
    "from itertools import combinations\n",
    "from pyproj import Proj, transform\n",
    "from tqdm import tqdm\n",
    "\n",
    "import warnings\n",
    "warnings.filterwarnings('ignore')"
   ]
  },
  {
   "cell_type": "markdown",
   "metadata": {},
   "source": [
    "### 데이터 다운 및 전처리"
   ]
  },
  {
   "cell_type": "code",
   "execution_count": 10,
   "metadata": {
    "ExecuteTime": {
     "end_time": "2021-07-24T11:00:18.010182Z",
     "start_time": "2021-07-24T11:00:02.898066Z"
    }
   },
   "outputs": [
    {
     "data": {
      "text/html": [
       "<div>\n",
       "<style scoped>\n",
       "    .dataframe tbody tr th:only-of-type {\n",
       "        vertical-align: middle;\n",
       "    }\n",
       "\n",
       "    .dataframe tbody tr th {\n",
       "        vertical-align: top;\n",
       "    }\n",
       "\n",
       "    .dataframe thead th {\n",
       "        text-align: right;\n",
       "    }\n",
       "</style>\n",
       "<table border=\"1\" class=\"dataframe\">\n",
       "  <thead>\n",
       "    <tr style=\"text-align: right;\">\n",
       "      <th></th>\n",
       "      <th>이름</th>\n",
       "      <th>위도</th>\n",
       "      <th>경도</th>\n",
       "    </tr>\n",
       "  </thead>\n",
       "  <tbody>\n",
       "    <tr>\n",
       "      <th>0</th>\n",
       "      <td>장안읍 임랑리 아름마을</td>\n",
       "      <td>35.316338</td>\n",
       "      <td>129.259625</td>\n",
       "    </tr>\n",
       "    <tr>\n",
       "      <th>1</th>\n",
       "      <td>한신아파트 앞 주변 이면도로</td>\n",
       "      <td>35.248296</td>\n",
       "      <td>129.216662</td>\n",
       "    </tr>\n",
       "    <tr>\n",
       "      <th>2</th>\n",
       "      <td>이천마을 공영주차장</td>\n",
       "      <td>35.267603</td>\n",
       "      <td>129.236131</td>\n",
       "    </tr>\n",
       "    <tr>\n",
       "      <th>3</th>\n",
       "      <td>광장 11호</td>\n",
       "      <td>35.330460</td>\n",
       "      <td>129.191100</td>\n",
       "    </tr>\n",
       "    <tr>\n",
       "      <th>4</th>\n",
       "      <td>두명소공원</td>\n",
       "      <td>35.361791</td>\n",
       "      <td>129.146673</td>\n",
       "    </tr>\n",
       "  </tbody>\n",
       "</table>\n",
       "</div>"
      ],
      "text/plain": [
       "                이름         위도          경도\n",
       "0     장안읍 임랑리 아름마을  35.316338  129.259625\n",
       "1  한신아파트 앞 주변 이면도로  35.248296  129.216662\n",
       "2       이천마을 공영주차장  35.267603  129.236131\n",
       "3           광장 11호  35.330460  129.191100\n",
       "4            두명소공원  35.361791  129.146673"
      ]
     },
     "execution_count": 10,
     "metadata": {},
     "output_type": "execute_result"
    }
   ],
   "source": [
    "Busan = pd.read_excel('부산시예상좌표.xlsx')\n",
    "Busan=Busan[Busan['시군구']=='기장군']\n",
    "Busan = Busan[['대구분명칭', '위도', '경도']]\n",
    "Busan.columns = ['이름', '위도', '경도']\n",
    "Busan.head()"
   ]
  },
  {
   "cell_type": "code",
   "execution_count": 11,
   "metadata": {
    "ExecuteTime": {
     "end_time": "2021-07-24T11:00:18.138190Z",
     "start_time": "2021-07-24T11:00:18.077186Z"
    }
   },
   "outputs": [
    {
     "data": {
      "text/html": [
       "<div>\n",
       "<style scoped>\n",
       "    .dataframe tbody tr th:only-of-type {\n",
       "        vertical-align: middle;\n",
       "    }\n",
       "\n",
       "    .dataframe tbody tr th {\n",
       "        vertical-align: top;\n",
       "    }\n",
       "\n",
       "    .dataframe thead th {\n",
       "        text-align: right;\n",
       "    }\n",
       "</style>\n",
       "<table border=\"1\" class=\"dataframe\">\n",
       "  <thead>\n",
       "    <tr style=\"text-align: right;\">\n",
       "      <th></th>\n",
       "      <th>이름</th>\n",
       "      <th>위도</th>\n",
       "      <th>경도</th>\n",
       "    </tr>\n",
       "  </thead>\n",
       "  <tbody>\n",
       "    <tr>\n",
       "      <th>0</th>\n",
       "      <td>이마트24 기장공수점</td>\n",
       "      <td>35.183735</td>\n",
       "      <td>129.210503</td>\n",
       "    </tr>\n",
       "    <tr>\n",
       "      <th>1</th>\n",
       "      <td>이마트24 해동용궁사점</td>\n",
       "      <td>35.189304</td>\n",
       "      <td>129.221113</td>\n",
       "    </tr>\n",
       "    <tr>\n",
       "      <th>2</th>\n",
       "      <td>이마트24 송정휴먼시아점</td>\n",
       "      <td>35.190819</td>\n",
       "      <td>129.204996</td>\n",
       "    </tr>\n",
       "    <tr>\n",
       "      <th>3</th>\n",
       "      <td>세븐일레븐 동부산아울렛3호점</td>\n",
       "      <td>35.191556</td>\n",
       "      <td>129.212524</td>\n",
       "    </tr>\n",
       "    <tr>\n",
       "      <th>4</th>\n",
       "      <td>이마트24 기장스타테라스점</td>\n",
       "      <td>35.192019</td>\n",
       "      <td>129.217766</td>\n",
       "    </tr>\n",
       "  </tbody>\n",
       "</table>\n",
       "</div>"
      ],
      "text/plain": [
       "                이름         위도          경도\n",
       "0      이마트24 기장공수점  35.183735  129.210503\n",
       "1     이마트24 해동용궁사점  35.189304  129.221113\n",
       "2    이마트24 송정휴먼시아점  35.190819  129.204996\n",
       "3  세븐일레븐 동부산아울렛3호점  35.191556  129.212524\n",
       "4   이마트24 기장스타테라스점  35.192019  129.217766"
      ]
     },
     "execution_count": 11,
     "metadata": {},
     "output_type": "execute_result"
    }
   ],
   "source": [
    "market = pd.read_excel('부산_편의점.xlsx')\n",
    "market.head()"
   ]
  },
  {
   "cell_type": "markdown",
   "metadata": {},
   "source": [
    "### 위,경도 좌표변환"
   ]
  },
  {
   "cell_type": "code",
   "execution_count": 12,
   "metadata": {
    "ExecuteTime": {
     "end_time": "2021-07-24T11:00:18.202194Z",
     "start_time": "2021-07-24T11:00:18.188194Z"
    }
   },
   "outputs": [],
   "source": [
    "Busan.reset_index(drop=True, inplace=True)"
   ]
  },
  {
   "cell_type": "code",
   "execution_count": 13,
   "metadata": {
    "ExecuteTime": {
     "end_time": "2021-07-24T11:00:37.985145Z",
     "start_time": "2021-07-24T11:00:18.266201Z"
    }
   },
   "outputs": [],
   "source": [
    "proj_UTMK = Proj(init='epsg:5178')\n",
    "proj_WGS84 = Proj(init = 'epsg:4326')\n",
    "\n",
    "for i in  range(len(Busan)) :\n",
    "    x1, y1 = transform(proj_WGS84, proj_UTMK, Busan['경도'][i], Busan['위도'][i])\n",
    "    Busan['경도'][i], Busan['위도'][i] = x1, y1\n",
    "    \n",
    "for i in  range(len(market)) :\n",
    "    x1, y1 = transform(proj_WGS84, proj_UTMK, market['경도'][i], market['위도'][i])\n",
    "    market['경도'][i], market['위도'][i] = x1, y1  "
   ]
  },
  {
   "cell_type": "markdown",
   "metadata": {},
   "source": [
    "### F와 L사이의 최단거리 행열 만들기\n",
    "\n",
    "$F_i$ - Busan, 부산광역시 기장군 공영시설 좌표, m = 85\n",
    "\n",
    "$L_j$ - market, 부산광역시 편의점 좌표, n = 152\n",
    "\n",
    "$c_{ij}$ - $F_i$와 $L_j$의 최단거리"
   ]
  },
  {
   "cell_type": "code",
   "execution_count": 14,
   "metadata": {
    "ExecuteTime": {
     "end_time": "2021-07-24T11:00:38.065156Z",
     "start_time": "2021-07-24T11:00:38.057153Z"
    }
   },
   "outputs": [],
   "source": [
    "F_list = []\n",
    "L_list = []\n",
    "for i in range(len(Busan)) :\n",
    "    name = 'F_{}'.format(i)\n",
    "    F_list.append(name)\n",
    "for i in range(len(market)) :\n",
    "    name = 'L_{}'.format(i)\n",
    "    L_list.append(name)"
   ]
  },
  {
   "cell_type": "code",
   "execution_count": 15,
   "metadata": {
    "ExecuteTime": {
     "end_time": "2021-07-24T11:00:39.469258Z",
     "start_time": "2021-07-24T11:00:38.131157Z"
    }
   },
   "outputs": [],
   "source": [
    "length_df = pd.DataFrame(columns = F_list, index = L_list)\n",
    "for i in range(len(length_df)) :\n",
    "    for j, col in enumerate(length_df.columns) :\n",
    "        square_sum = ((Busan['위도'][j] - market['위도'][i]) ** 2) + ((Busan['경도'][j] - market['경도'][i]) ** 2)\n",
    "        distance = math.sqrt(square_sum)\n",
    "        length_df[col][i] = distance"
   ]
  },
  {
   "cell_type": "markdown",
   "metadata": {},
   "source": [
    "###  P-Median"
   ]
  },
  {
   "cell_type": "code",
   "execution_count": 16,
   "metadata": {
    "ExecuteTime": {
     "end_time": "2021-07-24T11:00:43.395558Z",
     "start_time": "2021-07-24T11:00:39.552269Z"
    }
   },
   "outputs": [],
   "source": [
    "char_list = []\n",
    "for p in range(3, 11) :\n",
    "    col_sum = list(length_df.sum(axis = 0))\n",
    "    col_sum_sort = sorted(col_sum)\n",
    "    min_value = col_sum_sort[:3]\n",
    "    \n",
    "    min_index = []\n",
    "    for value in min_value :\n",
    "        min_index.append(col_sum.index(value))\n",
    "    \n",
    "    col_sum_tuple = []\n",
    "    for i in range(len(col_sum)) :\n",
    "        tup = (i, col_sum[i])\n",
    "        col_sum_tuple.append(tup)\n",
    "    \n",
    "    col_sum_tuple.sort(key = lambda x: x[1])\n",
    "    col_sum_tuple = col_sum_tuple[:2*p]\n",
    "    \n",
    "    p_list_set = [col_sum_tuple[j:j+p] for j in range(p)]\n",
    "    \n",
    "    min_sum_list = []\n",
    "    for k in range(len(p_list_set)) :\n",
    "        tup_check = []\n",
    "        for tt in p_list_set[k] :\n",
    "            tup_check.append(f'F_{tt[0]}')\n",
    "        check_df = length_df[tup_check]\n",
    "        check_df['min'] = 0\n",
    "        for l in range(len(check_df)) :\n",
    "            check_df['min'][l] = min(check_df.iloc[l][:-1])\n",
    "        min_sum_value = sum(check_df['min'])\n",
    "        min_sum_list.append(min_sum_value)\n",
    "    \n",
    "    final_index = min_sum_list.index(min(min_sum_list))\n",
    "    final_set = p_list_set[final_index]\n",
    "    \n",
    "    final_set.sort(key = lambda x : x[0])\n",
    "    \n",
    "    final_idx = [tp[0] for tp in final_set]\n",
    "    final_Busan = Busan.iloc[final_idx, :]\n",
    "    \n",
    "    final_Busan.reset_index(drop = True, inplace = True)\n",
    "    char_list.append(char for char in final_Busan['이름'])"
   ]
  },
  {
   "cell_type": "code",
   "execution_count": 17,
   "metadata": {
    "ExecuteTime": {
     "end_time": "2021-07-24T11:00:43.523569Z",
     "start_time": "2021-07-24T11:00:43.510569Z"
    }
   },
   "outputs": [],
   "source": [
    "final_kk = []\n",
    "for ch in char_list :\n",
    "    final_kk += ch"
   ]
  },
  {
   "cell_type": "code",
   "execution_count": 18,
   "metadata": {
    "ExecuteTime": {
     "end_time": "2021-07-24T11:00:43.635575Z",
     "start_time": "2021-07-24T11:00:43.622576Z"
    },
    "scrolled": true
   },
   "outputs": [
    {
     "data": {
      "text/plain": [
       "한신아파트 앞 주변 이면도로        6\n",
       "일광해수욕장노상공영주차장          6\n",
       "일광이천생태공원               6\n",
       "이천마을 공영주차장             5\n",
       "일광해수욕장 주변              5\n",
       "동부근린공원 인근 노외 공영 주차장    4\n",
       "기장시장공영주차장              4\n",
       "일광면사무소주변               3\n",
       "동산그린타워 주변 이면도로         3\n",
       "동부근린공영주차장              3\n",
       "기장시장 공영주차장             3\n",
       "기장 제1공영주차장             2\n",
       "동부근린공원                 1\n",
       "교리근린공원                 1\n",
       "dtype: int64"
      ]
     },
     "execution_count": 18,
     "metadata": {},
     "output_type": "execute_result"
    }
   ],
   "source": [
    "pd.Series(final_kk).value_counts()"
   ]
  },
  {
   "cell_type": "code",
   "execution_count": 40,
   "metadata": {
    "ExecuteTime": {
     "end_time": "2021-07-24T11:02:34.672475Z",
     "start_time": "2021-07-24T11:02:34.657477Z"
    }
   },
   "outputs": [],
   "source": [
    "check_index = pd.Series(final_kk).value_counts().index[:3]"
   ]
  },
  {
   "cell_type": "code",
   "execution_count": 41,
   "metadata": {
    "ExecuteTime": {
     "end_time": "2021-07-24T11:02:34.876492Z",
     "start_time": "2021-07-24T11:02:34.864492Z"
    }
   },
   "outputs": [],
   "source": [
    "Busan_index = []\n",
    "for check in check_index :\n",
    "    for i in range(len(Busan)) :\n",
    "        if Busan['이름'][i] == check :\n",
    "            Busan_index.append(i)\n",
    "            break"
   ]
  },
  {
   "cell_type": "code",
   "execution_count": 42,
   "metadata": {
    "ExecuteTime": {
     "end_time": "2021-07-24T11:02:35.050508Z",
     "start_time": "2021-07-24T11:02:35.041504Z"
    }
   },
   "outputs": [
    {
     "data": {
      "text/plain": [
       "[1, 21, 66]"
      ]
     },
     "execution_count": 42,
     "metadata": {},
     "output_type": "execute_result"
    }
   ],
   "source": [
    "Busan_index"
   ]
  },
  {
   "cell_type": "code",
   "execution_count": 43,
   "metadata": {
    "ExecuteTime": {
     "end_time": "2021-07-24T11:02:35.240520Z",
     "start_time": "2021-07-24T11:02:35.213520Z"
    }
   },
   "outputs": [
    {
     "data": {
      "text/html": [
       "<div>\n",
       "<style scoped>\n",
       "    .dataframe tbody tr th:only-of-type {\n",
       "        vertical-align: middle;\n",
       "    }\n",
       "\n",
       "    .dataframe tbody tr th {\n",
       "        vertical-align: top;\n",
       "    }\n",
       "\n",
       "    .dataframe thead th {\n",
       "        text-align: right;\n",
       "    }\n",
       "</style>\n",
       "<table border=\"1\" class=\"dataframe\">\n",
       "  <thead>\n",
       "    <tr style=\"text-align: right;\">\n",
       "      <th></th>\n",
       "      <th>이름</th>\n",
       "      <th>위도</th>\n",
       "      <th>경도</th>\n",
       "    </tr>\n",
       "  </thead>\n",
       "  <tbody>\n",
       "    <tr>\n",
       "      <th>0</th>\n",
       "      <td>한신아파트 앞 주변 이면도로</td>\n",
       "      <td>1.695809e+06</td>\n",
       "      <td>1.156376e+06</td>\n",
       "    </tr>\n",
       "    <tr>\n",
       "      <th>1</th>\n",
       "      <td>일광해수욕장노상공영주차장</td>\n",
       "      <td>1.697304e+06</td>\n",
       "      <td>1.157844e+06</td>\n",
       "    </tr>\n",
       "    <tr>\n",
       "      <th>2</th>\n",
       "      <td>일광이천생태공원</td>\n",
       "      <td>1.698402e+06</td>\n",
       "      <td>1.157996e+06</td>\n",
       "    </tr>\n",
       "  </tbody>\n",
       "</table>\n",
       "</div>"
      ],
      "text/plain": [
       "                이름            위도            경도\n",
       "0  한신아파트 앞 주변 이면도로  1.695809e+06  1.156376e+06\n",
       "1    일광해수욕장노상공영주차장  1.697304e+06  1.157844e+06\n",
       "2         일광이천생태공원  1.698402e+06  1.157996e+06"
      ]
     },
     "execution_count": 43,
     "metadata": {},
     "output_type": "execute_result"
    }
   ],
   "source": [
    "Busan_sub = Busan.iloc[Busan_index, :]\n",
    "Busan_sub.reset_index(drop = True, inplace = True)\n",
    "Busan_sub"
   ]
  },
  {
   "cell_type": "markdown",
   "metadata": {},
   "source": [
    "### 시장데이터 및 최종공영시설 좌표 위경도 변환"
   ]
  },
  {
   "cell_type": "code",
   "execution_count": 44,
   "metadata": {
    "ExecuteTime": {
     "end_time": "2021-07-24T11:02:35.544543Z",
     "start_time": "2021-07-24T11:02:35.511540Z"
    }
   },
   "outputs": [],
   "source": [
    "Busan_sijang = pd.read_excel('부산시장.xlsx')\n",
    "Busan_sijang.drop(['Unnamed: 0'], axis = 1, inplace = True)"
   ]
  },
  {
   "cell_type": "code",
   "execution_count": 45,
   "metadata": {
    "ExecuteTime": {
     "end_time": "2021-07-24T11:02:35.686553Z",
     "start_time": "2021-07-24T11:02:35.675553Z"
    }
   },
   "outputs": [],
   "source": [
    "Busan_sijang = Busan_sijang[['시장명', '위도', '경도']]"
   ]
  },
  {
   "cell_type": "code",
   "execution_count": 46,
   "metadata": {
    "ExecuteTime": {
     "end_time": "2021-07-24T11:02:35.830565Z",
     "start_time": "2021-07-24T11:02:35.818567Z"
    }
   },
   "outputs": [],
   "source": [
    "Busan_sijang=Busan_sijang.iloc[:2,:]"
   ]
  },
  {
   "cell_type": "code",
   "execution_count": 47,
   "metadata": {
    "ExecuteTime": {
     "end_time": "2021-07-24T11:02:36.180594Z",
     "start_time": "2021-07-24T11:02:35.977577Z"
    }
   },
   "outputs": [
    {
     "name": "stderr",
     "output_type": "stream",
     "text": [
      "100%|████████████████████████████████████████████████████████████████████████████████████| 2/2 [00:00<00:00, 10.36it/s]\n"
     ]
    }
   ],
   "source": [
    "for i in  tqdm(range(len(Busan_sijang))) :\n",
    "    x1, y1 = transform(proj_UTMK, proj_WGS84, Busan_sijang['경도'][i], Busan_sijang['위도'][i])\n",
    "    Busan_sijang['경도'][i], Busan_sijang['위도'][i] = x1, y1"
   ]
  },
  {
   "cell_type": "code",
   "execution_count": 48,
   "metadata": {
    "ExecuteTime": {
     "end_time": "2021-07-24T11:02:36.609623Z",
     "start_time": "2021-07-24T11:02:36.311603Z"
    }
   },
   "outputs": [
    {
     "name": "stderr",
     "output_type": "stream",
     "text": [
      "100%|████████████████████████████████████████████████████████████████████████████████████| 3/3 [00:00<00:00, 10.56it/s]\n"
     ]
    }
   ],
   "source": [
    "for i in  tqdm(range(len(Busan_sub))) :\n",
    "    x1, y1 = transform(proj_UTMK, proj_WGS84, Busan_sub['경도'][i], Busan_sub['위도'][i])\n",
    "    Busan_sub['경도'][i], Busan_sub['위도'][i] = x1, y1"
   ]
  },
  {
   "cell_type": "code",
   "execution_count": 49,
   "metadata": {
    "ExecuteTime": {
     "end_time": "2021-07-24T11:02:36.768638Z",
     "start_time": "2021-07-24T11:02:36.755638Z"
    }
   },
   "outputs": [],
   "source": [
    "m = folium.Map(location = [35.18080954115435, 129.0750855720365], zoom_start = 10)"
   ]
  },
  {
   "cell_type": "code",
   "execution_count": 50,
   "metadata": {
    "ExecuteTime": {
     "end_time": "2021-07-24T11:02:36.912647Z",
     "start_time": "2021-07-24T11:02:36.899647Z"
    }
   },
   "outputs": [],
   "source": [
    "#m.save('map.html')\n",
    "# m"
   ]
  },
  {
   "cell_type": "code",
   "execution_count": 51,
   "metadata": {
    "ExecuteTime": {
     "end_time": "2021-07-24T11:02:37.056658Z",
     "start_time": "2021-07-24T11:02:37.043659Z"
    }
   },
   "outputs": [],
   "source": [
    "for i in range(len(Busan_sijang)) :\n",
    "    long = Busan_sijang['위도'][i]\n",
    "    lat = Busan_sijang['경도'][i]\n",
    "    name = Busan_sijang['시장명'][i]\n",
    "    folium.Marker(location = [long, lat],\n",
    "                  popup = name,\n",
    "                 icon = folium.Icon(color = 'yellow',\n",
    "                                    icon = 'star',\n",
    "                                    size = 0.1)).add_to(m)"
   ]
  },
  {
   "cell_type": "code",
   "execution_count": 52,
   "metadata": {
    "ExecuteTime": {
     "end_time": "2021-07-24T11:02:37.200669Z",
     "start_time": "2021-07-24T11:02:37.187670Z"
    },
    "scrolled": false
   },
   "outputs": [],
   "source": [
    "for i in range(len(Busan_sub)) :\n",
    "    long = Busan_sub['위도'][i]\n",
    "    lat = Busan_sub['경도'][i]\n",
    "    name = Busan_sub['이름'][i]\n",
    "    folium.Marker(location = [long, lat],\n",
    "                  popup = name,\n",
    "                 icon = folium.Icon(color = 'blue',\n",
    "                                    icon = 'flag',\n",
    "                                    size = 0.1)).add_to(m)"
   ]
  },
  {
   "cell_type": "code",
   "execution_count": 53,
   "metadata": {
    "ExecuteTime": {
     "end_time": "2021-07-24T11:02:37.358682Z",
     "start_time": "2021-07-24T11:02:37.329681Z"
    }
   },
   "outputs": [
    {
     "data": {
      "text/html": [
       "<div style=\"width:100%;\"><div style=\"position:relative;width:100%;height:0;padding-bottom:60%;\"><span style=\"color:#565656\">Make this Notebook Trusted to load map: File -> Trust Notebook</span><iframe src=\"about:blank\" style=\"position:absolute;width:100%;height:100%;left:0;top:0;border:none !important;\" data-html=%3C%21DOCTYPE%20html%3E%0A%3Chead%3E%20%20%20%20%0A%20%20%20%20%3Cmeta%20http-equiv%3D%22content-type%22%20content%3D%22text/html%3B%20charset%3DUTF-8%22%20/%3E%0A%20%20%20%20%0A%20%20%20%20%20%20%20%20%3Cscript%3E%0A%20%20%20%20%20%20%20%20%20%20%20%20L_NO_TOUCH%20%3D%20false%3B%0A%20%20%20%20%20%20%20%20%20%20%20%20L_DISABLE_3D%20%3D%20false%3B%0A%20%20%20%20%20%20%20%20%3C/script%3E%0A%20%20%20%20%0A%20%20%20%20%3Cstyle%3Ehtml%2C%20body%20%7Bwidth%3A%20100%25%3Bheight%3A%20100%25%3Bmargin%3A%200%3Bpadding%3A%200%3B%7D%3C/style%3E%0A%20%20%20%20%3Cstyle%3E%23map%20%7Bposition%3Aabsolute%3Btop%3A0%3Bbottom%3A0%3Bright%3A0%3Bleft%3A0%3B%7D%3C/style%3E%0A%20%20%20%20%3Cscript%20src%3D%22https%3A//cdn.jsdelivr.net/npm/leaflet%401.6.0/dist/leaflet.js%22%3E%3C/script%3E%0A%20%20%20%20%3Cscript%20src%3D%22https%3A//code.jquery.com/jquery-1.12.4.min.js%22%3E%3C/script%3E%0A%20%20%20%20%3Cscript%20src%3D%22https%3A//maxcdn.bootstrapcdn.com/bootstrap/3.2.0/js/bootstrap.min.js%22%3E%3C/script%3E%0A%20%20%20%20%3Cscript%20src%3D%22https%3A//cdnjs.cloudflare.com/ajax/libs/Leaflet.awesome-markers/2.0.2/leaflet.awesome-markers.js%22%3E%3C/script%3E%0A%20%20%20%20%3Clink%20rel%3D%22stylesheet%22%20href%3D%22https%3A//cdn.jsdelivr.net/npm/leaflet%401.6.0/dist/leaflet.css%22/%3E%0A%20%20%20%20%3Clink%20rel%3D%22stylesheet%22%20href%3D%22https%3A//maxcdn.bootstrapcdn.com/bootstrap/3.2.0/css/bootstrap.min.css%22/%3E%0A%20%20%20%20%3Clink%20rel%3D%22stylesheet%22%20href%3D%22https%3A//maxcdn.bootstrapcdn.com/bootstrap/3.2.0/css/bootstrap-theme.min.css%22/%3E%0A%20%20%20%20%3Clink%20rel%3D%22stylesheet%22%20href%3D%22https%3A//maxcdn.bootstrapcdn.com/font-awesome/4.6.3/css/font-awesome.min.css%22/%3E%0A%20%20%20%20%3Clink%20rel%3D%22stylesheet%22%20href%3D%22https%3A//cdnjs.cloudflare.com/ajax/libs/Leaflet.awesome-markers/2.0.2/leaflet.awesome-markers.css%22/%3E%0A%20%20%20%20%3Clink%20rel%3D%22stylesheet%22%20href%3D%22https%3A//cdn.jsdelivr.net/gh/python-visualization/folium/folium/templates/leaflet.awesome.rotate.min.css%22/%3E%0A%20%20%20%20%0A%20%20%20%20%20%20%20%20%20%20%20%20%3Cmeta%20name%3D%22viewport%22%20content%3D%22width%3Ddevice-width%2C%0A%20%20%20%20%20%20%20%20%20%20%20%20%20%20%20%20initial-scale%3D1.0%2C%20maximum-scale%3D1.0%2C%20user-scalable%3Dno%22%20/%3E%0A%20%20%20%20%20%20%20%20%20%20%20%20%3Cstyle%3E%0A%20%20%20%20%20%20%20%20%20%20%20%20%20%20%20%20%23map_60697b2043b94a3f9fa264bf5b89ea98%20%7B%0A%20%20%20%20%20%20%20%20%20%20%20%20%20%20%20%20%20%20%20%20position%3A%20relative%3B%0A%20%20%20%20%20%20%20%20%20%20%20%20%20%20%20%20%20%20%20%20width%3A%20100.0%25%3B%0A%20%20%20%20%20%20%20%20%20%20%20%20%20%20%20%20%20%20%20%20height%3A%20100.0%25%3B%0A%20%20%20%20%20%20%20%20%20%20%20%20%20%20%20%20%20%20%20%20left%3A%200.0%25%3B%0A%20%20%20%20%20%20%20%20%20%20%20%20%20%20%20%20%20%20%20%20top%3A%200.0%25%3B%0A%20%20%20%20%20%20%20%20%20%20%20%20%20%20%20%20%7D%0A%20%20%20%20%20%20%20%20%20%20%20%20%3C/style%3E%0A%20%20%20%20%20%20%20%20%0A%3C/head%3E%0A%3Cbody%3E%20%20%20%20%0A%20%20%20%20%0A%20%20%20%20%20%20%20%20%20%20%20%20%3Cdiv%20class%3D%22folium-map%22%20id%3D%22map_60697b2043b94a3f9fa264bf5b89ea98%22%20%3E%3C/div%3E%0A%20%20%20%20%20%20%20%20%0A%3C/body%3E%0A%3Cscript%3E%20%20%20%20%0A%20%20%20%20%0A%20%20%20%20%20%20%20%20%20%20%20%20var%20map_60697b2043b94a3f9fa264bf5b89ea98%20%3D%20L.map%28%0A%20%20%20%20%20%20%20%20%20%20%20%20%20%20%20%20%22map_60697b2043b94a3f9fa264bf5b89ea98%22%2C%0A%20%20%20%20%20%20%20%20%20%20%20%20%20%20%20%20%7B%0A%20%20%20%20%20%20%20%20%20%20%20%20%20%20%20%20%20%20%20%20center%3A%20%5B35.18080954115435%2C%20129.0750855720365%5D%2C%0A%20%20%20%20%20%20%20%20%20%20%20%20%20%20%20%20%20%20%20%20crs%3A%20L.CRS.EPSG3857%2C%0A%20%20%20%20%20%20%20%20%20%20%20%20%20%20%20%20%20%20%20%20zoom%3A%2010%2C%0A%20%20%20%20%20%20%20%20%20%20%20%20%20%20%20%20%20%20%20%20zoomControl%3A%20true%2C%0A%20%20%20%20%20%20%20%20%20%20%20%20%20%20%20%20%20%20%20%20preferCanvas%3A%20false%2C%0A%20%20%20%20%20%20%20%20%20%20%20%20%20%20%20%20%7D%0A%20%20%20%20%20%20%20%20%20%20%20%20%29%3B%0A%0A%20%20%20%20%20%20%20%20%20%20%20%20%0A%0A%20%20%20%20%20%20%20%20%0A%20%20%20%20%0A%20%20%20%20%20%20%20%20%20%20%20%20var%20tile_layer_083163a6d3fd4ca0bd9452e7b1b70db7%20%3D%20L.tileLayer%28%0A%20%20%20%20%20%20%20%20%20%20%20%20%20%20%20%20%22https%3A//%7Bs%7D.tile.openstreetmap.org/%7Bz%7D/%7Bx%7D/%7By%7D.png%22%2C%0A%20%20%20%20%20%20%20%20%20%20%20%20%20%20%20%20%7B%22attribution%22%3A%20%22Data%20by%20%5Cu0026copy%3B%20%5Cu003ca%20href%3D%5C%22http%3A//openstreetmap.org%5C%22%5Cu003eOpenStreetMap%5Cu003c/a%5Cu003e%2C%20under%20%5Cu003ca%20href%3D%5C%22http%3A//www.openstreetmap.org/copyright%5C%22%5Cu003eODbL%5Cu003c/a%5Cu003e.%22%2C%20%22detectRetina%22%3A%20false%2C%20%22maxNativeZoom%22%3A%2018%2C%20%22maxZoom%22%3A%2018%2C%20%22minZoom%22%3A%200%2C%20%22noWrap%22%3A%20false%2C%20%22opacity%22%3A%201%2C%20%22subdomains%22%3A%20%22abc%22%2C%20%22tms%22%3A%20false%7D%0A%20%20%20%20%20%20%20%20%20%20%20%20%29.addTo%28map_60697b2043b94a3f9fa264bf5b89ea98%29%3B%0A%20%20%20%20%20%20%20%20%0A%20%20%20%20%0A%20%20%20%20%20%20%20%20%20%20%20%20var%20marker_f319d7386b944cdbbd5ec7e1eea476e2%20%3D%20L.marker%28%0A%20%20%20%20%20%20%20%20%20%20%20%20%20%20%20%20%5B35.30472996404499%2C%20129.11160002566467%5D%2C%0A%20%20%20%20%20%20%20%20%20%20%20%20%20%20%20%20%7B%7D%0A%20%20%20%20%20%20%20%20%20%20%20%20%29.addTo%28map_60697b2043b94a3f9fa264bf5b89ea98%29%3B%0A%20%20%20%20%20%20%20%20%0A%20%20%20%20%0A%20%20%20%20%20%20%20%20%20%20%20%20var%20icon_a3474b2d9e26480abe967f1d6c46bf57%20%3D%20L.AwesomeMarkers.icon%28%0A%20%20%20%20%20%20%20%20%20%20%20%20%20%20%20%20%7B%22extraClasses%22%3A%20%22fa-rotate-0%22%2C%20%22icon%22%3A%20%22star%22%2C%20%22iconColor%22%3A%20%22white%22%2C%20%22markerColor%22%3A%20%22yellow%22%2C%20%22prefix%22%3A%20%22glyphicon%22%2C%20%22size%22%3A%200.1%7D%0A%20%20%20%20%20%20%20%20%20%20%20%20%29%3B%0A%20%20%20%20%20%20%20%20%20%20%20%20marker_f319d7386b944cdbbd5ec7e1eea476e2.setIcon%28icon_a3474b2d9e26480abe967f1d6c46bf57%29%3B%0A%20%20%20%20%20%20%20%20%0A%20%20%20%20%0A%20%20%20%20%20%20%20%20var%20popup_95d480d3fc8d487bb5e394bdf537e312%20%3D%20L.popup%28%7B%22maxWidth%22%3A%20%22100%25%22%7D%29%3B%0A%0A%20%20%20%20%20%20%20%20%0A%20%20%20%20%20%20%20%20%20%20%20%20var%20html_bf18793cea0a49aaae6af18f3f9ed667%20%3D%20%24%28%60%3Cdiv%20id%3D%22html_bf18793cea0a49aaae6af18f3f9ed667%22%20style%3D%22width%3A%20100.0%25%3B%20height%3A%20100.0%25%3B%22%3E%EC%86%A1%EC%A0%95%EC%8B%9C%EC%9E%A5%3C/div%3E%60%29%5B0%5D%3B%0A%20%20%20%20%20%20%20%20%20%20%20%20popup_95d480d3fc8d487bb5e394bdf537e312.setContent%28html_bf18793cea0a49aaae6af18f3f9ed667%29%3B%0A%20%20%20%20%20%20%20%20%0A%0A%20%20%20%20%20%20%20%20marker_f319d7386b944cdbbd5ec7e1eea476e2.bindPopup%28popup_95d480d3fc8d487bb5e394bdf537e312%29%0A%20%20%20%20%20%20%20%20%3B%0A%0A%20%20%20%20%20%20%20%20%0A%20%20%20%20%0A%20%20%20%20%0A%20%20%20%20%20%20%20%20%20%20%20%20var%20marker_19023c2455804b90998f23e356a8394f%20%3D%20L.marker%28%0A%20%20%20%20%20%20%20%20%20%20%20%20%20%20%20%20%5B35.30873996470888%2C%20129.24300002390552%5D%2C%0A%20%20%20%20%20%20%20%20%20%20%20%20%20%20%20%20%7B%7D%0A%20%20%20%20%20%20%20%20%20%20%20%20%29.addTo%28map_60697b2043b94a3f9fa264bf5b89ea98%29%3B%0A%20%20%20%20%20%20%20%20%0A%20%20%20%20%0A%20%20%20%20%20%20%20%20%20%20%20%20var%20icon_4ba8b9c31ed346bf80d0992065007446%20%3D%20L.AwesomeMarkers.icon%28%0A%20%20%20%20%20%20%20%20%20%20%20%20%20%20%20%20%7B%22extraClasses%22%3A%20%22fa-rotate-0%22%2C%20%22icon%22%3A%20%22star%22%2C%20%22iconColor%22%3A%20%22white%22%2C%20%22markerColor%22%3A%20%22yellow%22%2C%20%22prefix%22%3A%20%22glyphicon%22%2C%20%22size%22%3A%200.1%7D%0A%20%20%20%20%20%20%20%20%20%20%20%20%29%3B%0A%20%20%20%20%20%20%20%20%20%20%20%20marker_19023c2455804b90998f23e356a8394f.setIcon%28icon_4ba8b9c31ed346bf80d0992065007446%29%3B%0A%20%20%20%20%20%20%20%20%0A%20%20%20%20%0A%20%20%20%20%20%20%20%20var%20popup_68ff06f110924d909fbf656b61e64bbd%20%3D%20L.popup%28%7B%22maxWidth%22%3A%20%22100%25%22%7D%29%3B%0A%0A%20%20%20%20%20%20%20%20%0A%20%20%20%20%20%20%20%20%20%20%20%20var%20html_0aa8bc7a619944fe85dfa9fcb224fda1%20%3D%20%24%28%60%3Cdiv%20id%3D%22html_0aa8bc7a619944fe85dfa9fcb224fda1%22%20style%3D%22width%3A%20100.0%25%3B%20height%3A%20100.0%25%3B%22%3E%EC%A2%8C%EC%B2%9C%EC%8B%9C%EC%9E%A5%3C/div%3E%60%29%5B0%5D%3B%0A%20%20%20%20%20%20%20%20%20%20%20%20popup_68ff06f110924d909fbf656b61e64bbd.setContent%28html_0aa8bc7a619944fe85dfa9fcb224fda1%29%3B%0A%20%20%20%20%20%20%20%20%0A%0A%20%20%20%20%20%20%20%20marker_19023c2455804b90998f23e356a8394f.bindPopup%28popup_68ff06f110924d909fbf656b61e64bbd%29%0A%20%20%20%20%20%20%20%20%3B%0A%0A%20%20%20%20%20%20%20%20%0A%20%20%20%20%0A%20%20%20%20%0A%20%20%20%20%20%20%20%20%20%20%20%20var%20marker_460b5fe2c27e4797b907ac80a4cd24c4%20%3D%20L.marker%28%0A%20%20%20%20%20%20%20%20%20%20%20%20%20%20%20%20%5B35.248296022874015%2C%20129.2166618267931%5D%2C%0A%20%20%20%20%20%20%20%20%20%20%20%20%20%20%20%20%7B%7D%0A%20%20%20%20%20%20%20%20%20%20%20%20%29.addTo%28map_60697b2043b94a3f9fa264bf5b89ea98%29%3B%0A%20%20%20%20%20%20%20%20%0A%20%20%20%20%0A%20%20%20%20%20%20%20%20%20%20%20%20var%20icon_fdea200f05c547c98743e2b015c26230%20%3D%20L.AwesomeMarkers.icon%28%0A%20%20%20%20%20%20%20%20%20%20%20%20%20%20%20%20%7B%22extraClasses%22%3A%20%22fa-rotate-0%22%2C%20%22icon%22%3A%20%22flag%22%2C%20%22iconColor%22%3A%20%22white%22%2C%20%22markerColor%22%3A%20%22blue%22%2C%20%22prefix%22%3A%20%22glyphicon%22%2C%20%22size%22%3A%200.1%7D%0A%20%20%20%20%20%20%20%20%20%20%20%20%29%3B%0A%20%20%20%20%20%20%20%20%20%20%20%20marker_460b5fe2c27e4797b907ac80a4cd24c4.setIcon%28icon_fdea200f05c547c98743e2b015c26230%29%3B%0A%20%20%20%20%20%20%20%20%0A%20%20%20%20%0A%20%20%20%20%20%20%20%20var%20popup_0d42d93f6317436bbbf2de9be3674f48%20%3D%20L.popup%28%7B%22maxWidth%22%3A%20%22100%25%22%7D%29%3B%0A%0A%20%20%20%20%20%20%20%20%0A%20%20%20%20%20%20%20%20%20%20%20%20var%20html_68472c62b0174a209167c5eb6345bf8a%20%3D%20%24%28%60%3Cdiv%20id%3D%22html_68472c62b0174a209167c5eb6345bf8a%22%20style%3D%22width%3A%20100.0%25%3B%20height%3A%20100.0%25%3B%22%3E%ED%95%9C%EC%8B%A0%EC%95%84%ED%8C%8C%ED%8A%B8%20%EC%95%9E%20%EC%A3%BC%EB%B3%80%20%EC%9D%B4%EB%A9%B4%EB%8F%84%EB%A1%9C%3C/div%3E%60%29%5B0%5D%3B%0A%20%20%20%20%20%20%20%20%20%20%20%20popup_0d42d93f6317436bbbf2de9be3674f48.setContent%28html_68472c62b0174a209167c5eb6345bf8a%29%3B%0A%20%20%20%20%20%20%20%20%0A%0A%20%20%20%20%20%20%20%20marker_460b5fe2c27e4797b907ac80a4cd24c4.bindPopup%28popup_0d42d93f6317436bbbf2de9be3674f48%29%0A%20%20%20%20%20%20%20%20%3B%0A%0A%20%20%20%20%20%20%20%20%0A%20%20%20%20%0A%20%20%20%20%0A%20%20%20%20%20%20%20%20%20%20%20%20var%20marker_b6b67d87e5a04b1f8330a0bb7a8730f1%20%3D%20L.marker%28%0A%20%20%20%20%20%20%20%20%20%20%20%20%20%20%20%20%5B35.26153896287326%2C%20129.23308602682877%5D%2C%0A%20%20%20%20%20%20%20%20%20%20%20%20%20%20%20%20%7B%7D%0A%20%20%20%20%20%20%20%20%20%20%20%20%29.addTo%28map_60697b2043b94a3f9fa264bf5b89ea98%29%3B%0A%20%20%20%20%20%20%20%20%0A%20%20%20%20%0A%20%20%20%20%20%20%20%20%20%20%20%20var%20icon_a1357722cb4e4e50a679d68356e841a7%20%3D%20L.AwesomeMarkers.icon%28%0A%20%20%20%20%20%20%20%20%20%20%20%20%20%20%20%20%7B%22extraClasses%22%3A%20%22fa-rotate-0%22%2C%20%22icon%22%3A%20%22flag%22%2C%20%22iconColor%22%3A%20%22white%22%2C%20%22markerColor%22%3A%20%22blue%22%2C%20%22prefix%22%3A%20%22glyphicon%22%2C%20%22size%22%3A%200.1%7D%0A%20%20%20%20%20%20%20%20%20%20%20%20%29%3B%0A%20%20%20%20%20%20%20%20%20%20%20%20marker_b6b67d87e5a04b1f8330a0bb7a8730f1.setIcon%28icon_a1357722cb4e4e50a679d68356e841a7%29%3B%0A%20%20%20%20%20%20%20%20%0A%20%20%20%20%0A%20%20%20%20%20%20%20%20var%20popup_3379318389e54fd6a40c77c39119c3aa%20%3D%20L.popup%28%7B%22maxWidth%22%3A%20%22100%25%22%7D%29%3B%0A%0A%20%20%20%20%20%20%20%20%0A%20%20%20%20%20%20%20%20%20%20%20%20var%20html_de65705d91ac4917b6ca08e56ed9ad9e%20%3D%20%24%28%60%3Cdiv%20id%3D%22html_de65705d91ac4917b6ca08e56ed9ad9e%22%20style%3D%22width%3A%20100.0%25%3B%20height%3A%20100.0%25%3B%22%3E%EC%9D%BC%EA%B4%91%ED%95%B4%EC%88%98%EC%9A%95%EC%9E%A5%EB%85%B8%EC%83%81%EA%B3%B5%EC%98%81%EC%A3%BC%EC%B0%A8%EC%9E%A5%3C/div%3E%60%29%5B0%5D%3B%0A%20%20%20%20%20%20%20%20%20%20%20%20popup_3379318389e54fd6a40c77c39119c3aa.setContent%28html_de65705d91ac4917b6ca08e56ed9ad9e%29%3B%0A%20%20%20%20%20%20%20%20%0A%0A%20%20%20%20%20%20%20%20marker_b6b67d87e5a04b1f8330a0bb7a8730f1.bindPopup%28popup_3379318389e54fd6a40c77c39119c3aa%29%0A%20%20%20%20%20%20%20%20%3B%0A%0A%20%20%20%20%20%20%20%20%0A%20%20%20%20%0A%20%20%20%20%0A%20%20%20%20%20%20%20%20%20%20%20%20var%20marker_25172f9c3cb14fda9b3e351c44687754%20%3D%20L.marker%28%0A%20%20%20%20%20%20%20%20%20%20%20%20%20%20%20%20%5B35.27140816285905%2C%20129.23496572685474%5D%2C%0A%20%20%20%20%20%20%20%20%20%20%20%20%20%20%20%20%7B%7D%0A%20%20%20%20%20%20%20%20%20%20%20%20%29.addTo%28map_60697b2043b94a3f9fa264bf5b89ea98%29%3B%0A%20%20%20%20%20%20%20%20%0A%20%20%20%20%0A%20%20%20%20%20%20%20%20%20%20%20%20var%20icon_e5c122ec28364934bfeee2291b4542b0%20%3D%20L.AwesomeMarkers.icon%28%0A%20%20%20%20%20%20%20%20%20%20%20%20%20%20%20%20%7B%22extraClasses%22%3A%20%22fa-rotate-0%22%2C%20%22icon%22%3A%20%22flag%22%2C%20%22iconColor%22%3A%20%22white%22%2C%20%22markerColor%22%3A%20%22blue%22%2C%20%22prefix%22%3A%20%22glyphicon%22%2C%20%22size%22%3A%200.1%7D%0A%20%20%20%20%20%20%20%20%20%20%20%20%29%3B%0A%20%20%20%20%20%20%20%20%20%20%20%20marker_25172f9c3cb14fda9b3e351c44687754.setIcon%28icon_e5c122ec28364934bfeee2291b4542b0%29%3B%0A%20%20%20%20%20%20%20%20%0A%20%20%20%20%0A%20%20%20%20%20%20%20%20var%20popup_f7be4e7400a94546b8f88bc4e4a9cb9b%20%3D%20L.popup%28%7B%22maxWidth%22%3A%20%22100%25%22%7D%29%3B%0A%0A%20%20%20%20%20%20%20%20%0A%20%20%20%20%20%20%20%20%20%20%20%20var%20html_979feb20a2624809926794e4cf9b2d38%20%3D%20%24%28%60%3Cdiv%20id%3D%22html_979feb20a2624809926794e4cf9b2d38%22%20style%3D%22width%3A%20100.0%25%3B%20height%3A%20100.0%25%3B%22%3E%EC%9D%BC%EA%B4%91%EC%9D%B4%EC%B2%9C%EC%83%9D%ED%83%9C%EA%B3%B5%EC%9B%90%3C/div%3E%60%29%5B0%5D%3B%0A%20%20%20%20%20%20%20%20%20%20%20%20popup_f7be4e7400a94546b8f88bc4e4a9cb9b.setContent%28html_979feb20a2624809926794e4cf9b2d38%29%3B%0A%20%20%20%20%20%20%20%20%0A%0A%20%20%20%20%20%20%20%20marker_25172f9c3cb14fda9b3e351c44687754.bindPopup%28popup_f7be4e7400a94546b8f88bc4e4a9cb9b%29%0A%20%20%20%20%20%20%20%20%3B%0A%0A%20%20%20%20%20%20%20%20%0A%20%20%20%20%0A%3C/script%3E onload=\"this.contentDocument.open();this.contentDocument.write(    decodeURIComponent(this.getAttribute('data-html')));this.contentDocument.close();\" allowfullscreen webkitallowfullscreen mozallowfullscreen></iframe></div></div>"
      ],
      "text/plain": [
       "<folium.folium.Map at 0x1beecafac08>"
      ]
     },
     "execution_count": 53,
     "metadata": {},
     "output_type": "execute_result"
    }
   ],
   "source": [
    "m"
   ]
  }
 ],
 "metadata": {
  "hide_input": false,
  "kernelspec": {
   "display_name": "Python 3",
   "language": "python",
   "name": "python3"
  },
  "language_info": {
   "codemirror_mode": {
    "name": "ipython",
    "version": 3
   },
   "file_extension": ".py",
   "mimetype": "text/x-python",
   "name": "python",
   "nbconvert_exporter": "python",
   "pygments_lexer": "ipython3",
   "version": "3.7.6"
  },
  "toc": {
   "base_numbering": 1,
   "nav_menu": {},
   "number_sections": true,
   "sideBar": true,
   "skip_h1_title": false,
   "title_cell": "Table of Contents",
   "title_sidebar": "Contents",
   "toc_cell": false,
   "toc_position": {},
   "toc_section_display": true,
   "toc_window_display": false
  },
  "varInspector": {
   "cols": {
    "lenName": 16,
    "lenType": 16,
    "lenVar": 40
   },
   "kernels_config": {
    "python": {
     "delete_cmd_postfix": "",
     "delete_cmd_prefix": "del ",
     "library": "var_list.py",
     "varRefreshCmd": "print(var_dic_list())"
    },
    "r": {
     "delete_cmd_postfix": ") ",
     "delete_cmd_prefix": "rm(",
     "library": "var_list.r",
     "varRefreshCmd": "cat(var_dic_list()) "
    }
   },
   "types_to_exclude": [
    "module",
    "function",
    "builtin_function_or_method",
    "instance",
    "_Feature"
   ],
   "window_display": false
  }
 },
 "nbformat": 4,
 "nbformat_minor": 5
}
