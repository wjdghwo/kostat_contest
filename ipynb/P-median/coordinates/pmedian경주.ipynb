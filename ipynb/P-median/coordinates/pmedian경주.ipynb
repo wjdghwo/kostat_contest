{
 "cells": [
  {
   "cell_type": "code",
   "execution_count": 1,
   "metadata": {
    "ExecuteTime": {
     "end_time": "2021-07-24T11:07:40.760198Z",
     "start_time": "2021-07-24T11:07:40.754196Z"
    }
   },
   "outputs": [],
   "source": [
    "#!pip install folium\n",
    "#!pip install pyproj"
   ]
  },
  {
   "cell_type": "code",
   "execution_count": 2,
   "metadata": {
    "ExecuteTime": {
     "end_time": "2021-07-24T11:07:42.618338Z",
     "start_time": "2021-07-24T11:07:40.764198Z"
    }
   },
   "outputs": [],
   "source": [
    "import pandas as pd\n",
    "import folium\n",
    "import math\n",
    "\n",
    "from itertools import combinations\n",
    "from pyproj import Proj, transform\n",
    "from tqdm import tqdm\n",
    "\n",
    "import warnings\n",
    "warnings.filterwarnings('ignore')"
   ]
  },
  {
   "cell_type": "markdown",
   "metadata": {},
   "source": [
    "### 데이터 다운 및 전처리"
   ]
  },
  {
   "cell_type": "code",
   "execution_count": 3,
   "metadata": {
    "ExecuteTime": {
     "end_time": "2021-07-24T11:07:44.576488Z",
     "start_time": "2021-07-24T11:07:42.621341Z"
    }
   },
   "outputs": [
    {
     "data": {
      "text/html": [
       "<div>\n",
       "<style scoped>\n",
       "    .dataframe tbody tr th:only-of-type {\n",
       "        vertical-align: middle;\n",
       "    }\n",
       "\n",
       "    .dataframe tbody tr th {\n",
       "        vertical-align: top;\n",
       "    }\n",
       "\n",
       "    .dataframe thead th {\n",
       "        text-align: right;\n",
       "    }\n",
       "</style>\n",
       "<table border=\"1\" class=\"dataframe\">\n",
       "  <thead>\n",
       "    <tr style=\"text-align: right;\">\n",
       "      <th></th>\n",
       "      <th>이름</th>\n",
       "      <th>위도</th>\n",
       "      <th>경도</th>\n",
       "    </tr>\n",
       "  </thead>\n",
       "  <tbody>\n",
       "    <tr>\n",
       "      <th>0</th>\n",
       "      <td>북성로 노상주차장</td>\n",
       "      <td>35.847224</td>\n",
       "      <td>129.215349</td>\n",
       "    </tr>\n",
       "    <tr>\n",
       "      <th>1</th>\n",
       "      <td>시외버스터미널 노상주차장</td>\n",
       "      <td>35.839648</td>\n",
       "      <td>129.203010</td>\n",
       "    </tr>\n",
       "    <tr>\n",
       "      <th>2</th>\n",
       "      <td>시청 노상주차장</td>\n",
       "      <td>35.856266</td>\n",
       "      <td>129.225735</td>\n",
       "    </tr>\n",
       "    <tr>\n",
       "      <th>3</th>\n",
       "      <td>시외버스터미널 노상주차장</td>\n",
       "      <td>35.840799</td>\n",
       "      <td>129.203396</td>\n",
       "    </tr>\n",
       "    <tr>\n",
       "      <th>4</th>\n",
       "      <td>동문로 노상주차장</td>\n",
       "      <td>35.845753</td>\n",
       "      <td>129.214507</td>\n",
       "    </tr>\n",
       "  </tbody>\n",
       "</table>\n",
       "</div>"
      ],
      "text/plain": [
       "              이름         위도          경도\n",
       "0      북성로 노상주차장  35.847224  129.215349\n",
       "1  시외버스터미널 노상주차장  35.839648  129.203010\n",
       "2       시청 노상주차장  35.856266  129.225735\n",
       "3  시외버스터미널 노상주차장  35.840799  129.203396\n",
       "4      동문로 노상주차장  35.845753  129.214507"
      ]
     },
     "execution_count": 3,
     "metadata": {},
     "output_type": "execute_result"
    }
   ],
   "source": [
    "Gyeongju = pd.read_excel('경주시예상좌표.xlsx')\n",
    "Gyeongju = Gyeongju[['대구분명칭', '위도', '경도']]\n",
    "Gyeongju.columns = ['이름', '위도', '경도']\n",
    "Gyeongju.head()"
   ]
  },
  {
   "cell_type": "code",
   "execution_count": 4,
   "metadata": {
    "ExecuteTime": {
     "end_time": "2021-07-24T11:07:44.640494Z",
     "start_time": "2021-07-24T11:07:44.579488Z"
    }
   },
   "outputs": [
    {
     "data": {
      "text/html": [
       "<div>\n",
       "<style scoped>\n",
       "    .dataframe tbody tr th:only-of-type {\n",
       "        vertical-align: middle;\n",
       "    }\n",
       "\n",
       "    .dataframe tbody tr th {\n",
       "        vertical-align: top;\n",
       "    }\n",
       "\n",
       "    .dataframe thead th {\n",
       "        text-align: right;\n",
       "    }\n",
       "</style>\n",
       "<table border=\"1\" class=\"dataframe\">\n",
       "  <thead>\n",
       "    <tr style=\"text-align: right;\">\n",
       "      <th></th>\n",
       "      <th>이름</th>\n",
       "      <th>위도</th>\n",
       "      <th>경도</th>\n",
       "    </tr>\n",
       "  </thead>\n",
       "  <tbody>\n",
       "    <tr>\n",
       "      <th>0</th>\n",
       "      <td>오션힐즈편의점</td>\n",
       "      <td>35.664234</td>\n",
       "      <td>129.405007</td>\n",
       "    </tr>\n",
       "    <tr>\n",
       "      <th>1</th>\n",
       "      <td>CU 경주석계공단점</td>\n",
       "      <td>35.664296</td>\n",
       "      <td>129.305564</td>\n",
       "    </tr>\n",
       "    <tr>\n",
       "      <th>2</th>\n",
       "      <td>이마트24 경주양남비치점</td>\n",
       "      <td>35.666837</td>\n",
       "      <td>129.459148</td>\n",
       "    </tr>\n",
       "    <tr>\n",
       "      <th>3</th>\n",
       "      <td>이마트24 경주석계관문점</td>\n",
       "      <td>35.669607</td>\n",
       "      <td>129.301811</td>\n",
       "    </tr>\n",
       "    <tr>\n",
       "      <th>4</th>\n",
       "      <td>이마트24 경주문산공단점</td>\n",
       "      <td>35.671310</td>\n",
       "      <td>129.323321</td>\n",
       "    </tr>\n",
       "  </tbody>\n",
       "</table>\n",
       "</div>"
      ],
      "text/plain": [
       "              이름         위도          경도\n",
       "0        오션힐즈편의점  35.664234  129.405007\n",
       "1     CU 경주석계공단점  35.664296  129.305564\n",
       "2  이마트24 경주양남비치점  35.666837  129.459148\n",
       "3  이마트24 경주석계관문점  35.669607  129.301811\n",
       "4  이마트24 경주문산공단점  35.671310  129.323321"
      ]
     },
     "execution_count": 4,
     "metadata": {},
     "output_type": "execute_result"
    }
   ],
   "source": [
    "market = pd.read_excel('경주_편의점.xlsx')\n",
    "market.head()"
   ]
  },
  {
   "cell_type": "markdown",
   "metadata": {},
   "source": [
    "### 위,경도 좌표변환"
   ]
  },
  {
   "cell_type": "code",
   "execution_count": 5,
   "metadata": {
    "ExecuteTime": {
     "end_time": "2021-07-24T11:07:44.748502Z",
     "start_time": "2021-07-24T11:07:44.643492Z"
    }
   },
   "outputs": [],
   "source": [
    "proj_UTMK = Proj(init='epsg:5178')\n",
    "proj_WGS84 = Proj(init = 'epsg:4326')"
   ]
  },
  {
   "cell_type": "code",
   "execution_count": 6,
   "metadata": {
    "ExecuteTime": {
     "end_time": "2021-07-24T11:07:49.610871Z",
     "start_time": "2021-07-24T11:07:44.751503Z"
    }
   },
   "outputs": [
    {
     "name": "stderr",
     "output_type": "stream",
     "text": [
      "100%|██████████████████████████████████████████████████████████████████████████████████| 54/54 [00:04<00:00, 11.18it/s]\n"
     ]
    }
   ],
   "source": [
    "for i in  tqdm(range(len(Gyeongju))) :\n",
    "    x1, y1 = transform(proj_WGS84, proj_UTMK, Gyeongju['경도'][i], Gyeongju['위도'][i])\n",
    "    Gyeongju['경도'][i], Gyeongju['위도'][i] = x1, y1"
   ]
  },
  {
   "cell_type": "code",
   "execution_count": 7,
   "metadata": {
    "ExecuteTime": {
     "end_time": "2021-07-24T11:07:49.642876Z",
     "start_time": "2021-07-24T11:07:49.614872Z"
    }
   },
   "outputs": [
    {
     "name": "stdout",
     "output_type": "stream",
     "text": [
      "<class 'pandas.core.frame.DataFrame'>\n",
      "RangeIndex: 270 entries, 0 to 269\n",
      "Data columns (total 3 columns):\n",
      " #   Column  Non-Null Count  Dtype  \n",
      "---  ------  --------------  -----  \n",
      " 0   이름      270 non-null    object \n",
      " 1   위도      270 non-null    float64\n",
      " 2   경도      270 non-null    float64\n",
      "dtypes: float64(2), object(1)\n",
      "memory usage: 6.5+ KB\n"
     ]
    }
   ],
   "source": [
    "market.info()"
   ]
  },
  {
   "cell_type": "code",
   "execution_count": 8,
   "metadata": {
    "ExecuteTime": {
     "end_time": "2021-07-24T11:08:12.914762Z",
     "start_time": "2021-07-24T11:07:49.646874Z"
    }
   },
   "outputs": [
    {
     "name": "stderr",
     "output_type": "stream",
     "text": [
      "100%|████████████████████████████████████████████████████████████████████████████████| 270/270 [00:23<00:00, 11.62it/s]\n"
     ]
    }
   ],
   "source": [
    "for i in  tqdm(range(len(market))) :\n",
    "    x1, y1 = transform(proj_WGS84, proj_UTMK, market['경도'][i], market['위도'][i])\n",
    "    market['경도'][i], market['위도'][i] = x1, y1"
   ]
  },
  {
   "cell_type": "markdown",
   "metadata": {},
   "source": [
    "### F와 L사이의 최단거리 행열 만들기\n",
    "\n",
    "$F_i$ - Gyeongju, 경주시 공영시설 좌표, m = 54\n",
    "\n",
    "$L_j$ - market, 경주시 편의점 좌표, n = 270 \n",
    "\n",
    "$c_{ij}$ - $F_i$와 $L_j$의 최단거리"
   ]
  },
  {
   "cell_type": "code",
   "execution_count": 9,
   "metadata": {
    "ExecuteTime": {
     "end_time": "2021-07-24T11:08:12.930644Z",
     "start_time": "2021-07-24T11:08:12.916644Z"
    }
   },
   "outputs": [],
   "source": [
    "F_list = []\n",
    "L_list = []\n",
    "for i in range(len(Gyeongju)) :\n",
    "    name = 'F_{}'.format(i)\n",
    "    F_list.append(name)\n",
    "for i in range(len(market)) :\n",
    "    name = 'L_{}'.format(i)\n",
    "    L_list.append(name)"
   ]
  },
  {
   "cell_type": "code",
   "execution_count": 10,
   "metadata": {
    "ExecuteTime": {
     "end_time": "2021-07-24T11:08:14.425756Z",
     "start_time": "2021-07-24T11:08:12.933646Z"
    }
   },
   "outputs": [],
   "source": [
    "length_df = pd.DataFrame(columns = F_list, index = L_list)\n",
    "for i in range(len(length_df)) :\n",
    "    for j, col in enumerate(length_df.columns) :\n",
    "        square_sum = ((Gyeongju['위도'][j] - market['위도'][i]) ** 2) + ((Gyeongju['경도'][j] - market['경도'][i]) ** 2)\n",
    "        distance = math.sqrt(square_sum)\n",
    "        length_df[col][i] = distance"
   ]
  },
  {
   "cell_type": "markdown",
   "metadata": {},
   "source": [
    "###  P-Median"
   ]
  },
  {
   "cell_type": "code",
   "execution_count": 11,
   "metadata": {
    "ExecuteTime": {
     "end_time": "2021-07-24T11:08:20.903249Z",
     "start_time": "2021-07-24T11:08:14.427759Z"
    }
   },
   "outputs": [],
   "source": [
    "char_list = []\n",
    "for p in range(3, 11) :\n",
    "    col_sum = list(length_df.sum(axis = 0))\n",
    "    col_sum_sort = sorted(col_sum)\n",
    "    min_value = col_sum_sort[:3]\n",
    "    \n",
    "    min_index = []\n",
    "    for value in min_value :\n",
    "        min_index.append(col_sum.index(value))\n",
    "    \n",
    "    col_sum_tuple = []\n",
    "    for i in range(len(col_sum)) :\n",
    "        tup = (i, col_sum[i])\n",
    "        col_sum_tuple.append(tup)\n",
    "    \n",
    "    col_sum_tuple.sort(key = lambda x: x[1])\n",
    "    col_sum_tuple = col_sum_tuple[:2*p]\n",
    "    \n",
    "    p_list_set = [col_sum_tuple[j:j+p] for j in range(p)]\n",
    "    \n",
    "    min_sum_list = []\n",
    "    for k in range(len(p_list_set)) :\n",
    "        tup_check = []\n",
    "        for tt in p_list_set[k] :\n",
    "            tup_check.append(f'F_{tt[0]}')\n",
    "        check_df = length_df[tup_check]\n",
    "        check_df['min'] = 0\n",
    "        for l in range(len(check_df)) :\n",
    "            check_df['min'][l] = min(check_df.iloc[l][:-1])\n",
    "        min_sum_value = sum(check_df['min'])\n",
    "        min_sum_list.append(min_sum_value)\n",
    "    \n",
    "    final_index = min_sum_list.index(min(min_sum_list))\n",
    "    final_set = p_list_set[final_index]\n",
    "    \n",
    "    final_set.sort(key = lambda x : x[0])\n",
    "    \n",
    "    final_idx = [tp[0] for tp in final_set]\n",
    "    final_Gyeongju = Gyeongju.iloc[final_idx, :]\n",
    "    \n",
    "    final_Gyeongju.reset_index(drop = True, inplace = True)\n",
    "    char_list.append(char for char in final_Gyeongju['이름'])"
   ]
  },
  {
   "cell_type": "code",
   "execution_count": 12,
   "metadata": {
    "ExecuteTime": {
     "end_time": "2021-07-24T11:08:20.919251Z",
     "start_time": "2021-07-24T11:08:20.905251Z"
    }
   },
   "outputs": [],
   "source": [
    "final_kk = []\n",
    "for ch in char_list :\n",
    "    final_kk += ch"
   ]
  },
  {
   "cell_type": "code",
   "execution_count": 13,
   "metadata": {
    "ExecuteTime": {
     "end_time": "2021-07-24T11:08:20.935252Z",
     "start_time": "2021-07-24T11:08:20.922252Z"
    }
   },
   "outputs": [
    {
     "data": {
      "text/plain": [
       "제2공영주차장         9\n",
       "북정로 노상주차장       8\n",
       "북성로 노상주차장       6\n",
       "팔우정 노상주차장       6\n",
       "동문로 노상주차장       5\n",
       "중앙로 노상주차장       4\n",
       "중심상가주차장         4\n",
       "태종로 노상주차장       3\n",
       "시청사주차장          3\n",
       "성동시장공영주차장       2\n",
       "시청 노상주차장        1\n",
       "경주문화원앞 노상주차장    1\n",
       "dtype: int64"
      ]
     },
     "execution_count": 13,
     "metadata": {},
     "output_type": "execute_result"
    }
   ],
   "source": [
    "pd.Series(final_kk).value_counts()"
   ]
  },
  {
   "cell_type": "code",
   "execution_count": 28,
   "metadata": {
    "ExecuteTime": {
     "end_time": "2021-07-24T11:09:23.932897Z",
     "start_time": "2021-07-24T11:09:23.926556Z"
    }
   },
   "outputs": [],
   "source": [
    "check_index = pd.Series(final_kk).value_counts().index[:4]"
   ]
  },
  {
   "cell_type": "code",
   "execution_count": 29,
   "metadata": {
    "ExecuteTime": {
     "end_time": "2021-07-24T11:09:24.107570Z",
     "start_time": "2021-07-24T11:09:24.093568Z"
    }
   },
   "outputs": [],
   "source": [
    "Gyeongju_index = []\n",
    "for check in check_index :\n",
    "    for i in range(len(Gyeongju)) :\n",
    "        if Gyeongju['이름'][i] == check :\n",
    "            Gyeongju_index.append(i)\n",
    "            break"
   ]
  },
  {
   "cell_type": "code",
   "execution_count": 30,
   "metadata": {
    "ExecuteTime": {
     "end_time": "2021-07-24T11:09:24.279582Z",
     "start_time": "2021-07-24T11:09:24.265585Z"
    }
   },
   "outputs": [
    {
     "data": {
      "text/plain": [
       "[27, 17, 0, 12]"
      ]
     },
     "execution_count": 30,
     "metadata": {},
     "output_type": "execute_result"
    }
   ],
   "source": [
    "Gyeongju_index"
   ]
  },
  {
   "cell_type": "code",
   "execution_count": 31,
   "metadata": {
    "ExecuteTime": {
     "end_time": "2021-07-24T11:09:24.468595Z",
     "start_time": "2021-07-24T11:09:24.440599Z"
    }
   },
   "outputs": [
    {
     "data": {
      "text/html": [
       "<div>\n",
       "<style scoped>\n",
       "    .dataframe tbody tr th:only-of-type {\n",
       "        vertical-align: middle;\n",
       "    }\n",
       "\n",
       "    .dataframe tbody tr th {\n",
       "        vertical-align: top;\n",
       "    }\n",
       "\n",
       "    .dataframe thead th {\n",
       "        text-align: right;\n",
       "    }\n",
       "</style>\n",
       "<table border=\"1\" class=\"dataframe\">\n",
       "  <thead>\n",
       "    <tr style=\"text-align: right;\">\n",
       "      <th></th>\n",
       "      <th>이름</th>\n",
       "      <th>위도</th>\n",
       "      <th>경도</th>\n",
       "    </tr>\n",
       "  </thead>\n",
       "  <tbody>\n",
       "    <tr>\n",
       "      <th>0</th>\n",
       "      <td>제2공영주차장</td>\n",
       "      <td>1.761678e+06</td>\n",
       "      <td>1.155234e+06</td>\n",
       "    </tr>\n",
       "    <tr>\n",
       "      <th>1</th>\n",
       "      <td>북정로 노상주차장</td>\n",
       "      <td>1.761803e+06</td>\n",
       "      <td>1.155082e+06</td>\n",
       "    </tr>\n",
       "    <tr>\n",
       "      <th>2</th>\n",
       "      <td>북성로 노상주차장</td>\n",
       "      <td>1.762242e+06</td>\n",
       "      <td>1.155099e+06</td>\n",
       "    </tr>\n",
       "    <tr>\n",
       "      <th>3</th>\n",
       "      <td>팔우정 노상주차장</td>\n",
       "      <td>1.761793e+06</td>\n",
       "      <td>1.155190e+06</td>\n",
       "    </tr>\n",
       "  </tbody>\n",
       "</table>\n",
       "</div>"
      ],
      "text/plain": [
       "          이름            위도            경도\n",
       "0    제2공영주차장  1.761678e+06  1.155234e+06\n",
       "1  북정로 노상주차장  1.761803e+06  1.155082e+06\n",
       "2  북성로 노상주차장  1.762242e+06  1.155099e+06\n",
       "3  팔우정 노상주차장  1.761793e+06  1.155190e+06"
      ]
     },
     "execution_count": 31,
     "metadata": {},
     "output_type": "execute_result"
    }
   ],
   "source": [
    "Gyeongju_sub = Gyeongju.iloc[Gyeongju_index, :]\n",
    "Gyeongju_sub.reset_index(drop = True, inplace = True)\n",
    "Gyeongju_sub"
   ]
  },
  {
   "cell_type": "markdown",
   "metadata": {},
   "source": [
    "### 시장데이터 및 최종공영시설 좌표 위경도 변환"
   ]
  },
  {
   "cell_type": "code",
   "execution_count": 32,
   "metadata": {
    "ExecuteTime": {
     "end_time": "2021-07-24T11:09:24.771619Z",
     "start_time": "2021-07-24T11:09:24.734618Z"
    }
   },
   "outputs": [],
   "source": [
    "Gyeongju_sijang = pd.read_excel('경주시장.xlsx')\n",
    "Gyeongju_sijang.drop(['Unnamed: 0'], axis = 1, inplace = True)"
   ]
  },
  {
   "cell_type": "code",
   "execution_count": 33,
   "metadata": {
    "ExecuteTime": {
     "end_time": "2021-07-24T11:09:24.914630Z",
     "start_time": "2021-07-24T11:09:24.903631Z"
    }
   },
   "outputs": [],
   "source": [
    "Gyeongju_sijang = Gyeongju_sijang[['시장명', '위도', '경도']]"
   ]
  },
  {
   "cell_type": "code",
   "execution_count": 34,
   "metadata": {
    "ExecuteTime": {
     "end_time": "2021-07-24T11:09:25.073644Z",
     "start_time": "2021-07-24T11:09:25.049645Z"
    }
   },
   "outputs": [
    {
     "data": {
      "text/html": [
       "<div>\n",
       "<style scoped>\n",
       "    .dataframe tbody tr th:only-of-type {\n",
       "        vertical-align: middle;\n",
       "    }\n",
       "\n",
       "    .dataframe tbody tr th {\n",
       "        vertical-align: top;\n",
       "    }\n",
       "\n",
       "    .dataframe thead th {\n",
       "        text-align: right;\n",
       "    }\n",
       "</style>\n",
       "<table border=\"1\" class=\"dataframe\">\n",
       "  <thead>\n",
       "    <tr style=\"text-align: right;\">\n",
       "      <th></th>\n",
       "      <th>시장명</th>\n",
       "      <th>위도</th>\n",
       "      <th>경도</th>\n",
       "    </tr>\n",
       "  </thead>\n",
       "  <tbody>\n",
       "    <tr>\n",
       "      <th>0</th>\n",
       "      <td>건천시장</td>\n",
       "      <td>1762224.781</td>\n",
       "      <td>1145157.267</td>\n",
       "    </tr>\n",
       "    <tr>\n",
       "      <th>1</th>\n",
       "      <td>외동시장</td>\n",
       "      <td>1747751.553</td>\n",
       "      <td>1165383.951</td>\n",
       "    </tr>\n",
       "    <tr>\n",
       "      <th>2</th>\n",
       "      <td>양남시장</td>\n",
       "      <td>1743601.330</td>\n",
       "      <td>1177911.095</td>\n",
       "    </tr>\n",
       "    <tr>\n",
       "      <th>3</th>\n",
       "      <td>감포시장</td>\n",
       "      <td>1757951.668</td>\n",
       "      <td>1181086.004</td>\n",
       "    </tr>\n",
       "    <tr>\n",
       "      <th>4</th>\n",
       "      <td>산내시장</td>\n",
       "      <td>1752070.531</td>\n",
       "      <td>1140006.141</td>\n",
       "    </tr>\n",
       "    <tr>\n",
       "      <th>5</th>\n",
       "      <td>불국시장</td>\n",
       "      <td>1754453.038</td>\n",
       "      <td>1162998.331</td>\n",
       "    </tr>\n",
       "    <tr>\n",
       "      <th>6</th>\n",
       "      <td>불국사상가시장</td>\n",
       "      <td>1755659.466</td>\n",
       "      <td>1165345.034</td>\n",
       "    </tr>\n",
       "  </tbody>\n",
       "</table>\n",
       "</div>"
      ],
      "text/plain": [
       "       시장명           위도           경도\n",
       "0     건천시장  1762224.781  1145157.267\n",
       "1     외동시장  1747751.553  1165383.951\n",
       "2     양남시장  1743601.330  1177911.095\n",
       "3     감포시장  1757951.668  1181086.004\n",
       "4     산내시장  1752070.531  1140006.141\n",
       "5     불국시장  1754453.038  1162998.331\n",
       "6  불국사상가시장  1755659.466  1165345.034"
      ]
     },
     "execution_count": 34,
     "metadata": {},
     "output_type": "execute_result"
    }
   ],
   "source": [
    "Gyeongju_sijang"
   ]
  },
  {
   "cell_type": "code",
   "execution_count": 35,
   "metadata": {
    "ExecuteTime": {
     "end_time": "2021-07-24T11:09:25.881704Z",
     "start_time": "2021-07-24T11:09:25.202655Z"
    }
   },
   "outputs": [
    {
     "name": "stderr",
     "output_type": "stream",
     "text": [
      "100%|████████████████████████████████████████████████████████████████████████████████████| 7/7 [00:00<00:00, 10.57it/s]\n"
     ]
    }
   ],
   "source": [
    "for i in  tqdm(range(len(Gyeongju_sijang))) :\n",
    "    x1, y1 = transform(proj_UTMK, proj_WGS84, Gyeongju_sijang['경도'][i], Gyeongju_sijang['위도'][i])\n",
    "    Gyeongju_sijang['경도'][i], Gyeongju_sijang['위도'][i] = x1, y1"
   ]
  },
  {
   "cell_type": "code",
   "execution_count": 43,
   "metadata": {
    "ExecuteTime": {
     "end_time": "2021-07-24T11:09:51.487652Z",
     "start_time": "2021-07-24T11:09:51.108623Z"
    }
   },
   "outputs": [
    {
     "name": "stderr",
     "output_type": "stream",
     "text": [
      "100%|████████████████████████████████████████████████████████████████████████████████████| 4/4 [00:00<00:00, 11.08it/s]\n"
     ]
    }
   ],
   "source": [
    "for i in  tqdm(range(len(Gyeongju_sub))) :\n",
    "    x1, y1 = transform(proj_UTMK, proj_WGS84, Gyeongju_sub['경도'][i], Gyeongju_sub['위도'][i])\n",
    "    Gyeongju_sub['경도'][i], Gyeongju_sub['위도'][i] = x1, y1"
   ]
  },
  {
   "cell_type": "code",
   "execution_count": 44,
   "metadata": {
    "ExecuteTime": {
     "end_time": "2021-07-24T11:09:51.999689Z",
     "start_time": "2021-07-24T11:09:51.979690Z"
    }
   },
   "outputs": [],
   "source": [
    "m = folium.Map(location = [35.856371579014926, 129.2247815402173], zoom_start = 10)"
   ]
  },
  {
   "cell_type": "code",
   "execution_count": 45,
   "metadata": {
    "ExecuteTime": {
     "end_time": "2021-07-24T11:09:52.175702Z",
     "start_time": "2021-07-24T11:09:52.165703Z"
    }
   },
   "outputs": [],
   "source": [
    "#m.save('map.html')\n",
    "# m"
   ]
  },
  {
   "cell_type": "code",
   "execution_count": 46,
   "metadata": {
    "ExecuteTime": {
     "end_time": "2021-07-24T11:09:52.351718Z",
     "start_time": "2021-07-24T11:09:52.329717Z"
    }
   },
   "outputs": [],
   "source": [
    "for i in range(len(Gyeongju_sijang)) :\n",
    "    long = Gyeongju_sijang['위도'][i]\n",
    "    lat = Gyeongju_sijang['경도'][i]\n",
    "    name = Gyeongju_sijang['시장명'][i]\n",
    "    folium.Marker(location = [long, lat],\n",
    "                  popup = name,\n",
    "                 icon = folium.Icon(color = 'yellow',\n",
    "                                    icon = 'star',\n",
    "                                    size = 0.1)).add_to(m)"
   ]
  },
  {
   "cell_type": "code",
   "execution_count": 47,
   "metadata": {
    "ExecuteTime": {
     "end_time": "2021-07-24T11:09:53.005765Z",
     "start_time": "2021-07-24T11:09:52.987766Z"
    },
    "scrolled": false
   },
   "outputs": [],
   "source": [
    "for i in range(len(Gyeongju_sub)) :\n",
    "    long = Gyeongju_sub['위도'][i]\n",
    "    lat = Gyeongju_sub['경도'][i]\n",
    "    name = Gyeongju_sub['이름'][i]\n",
    "    folium.Marker(location = [long, lat],\n",
    "                  popup = name,\n",
    "                 icon = folium.Icon(color = 'blue',\n",
    "                                    icon = 'flag',\n",
    "                                    size = 0.1)).add_to(m)"
   ]
  },
  {
   "cell_type": "code",
   "execution_count": 48,
   "metadata": {
    "ExecuteTime": {
     "end_time": "2021-07-24T11:09:53.547812Z",
     "start_time": "2021-07-24T11:09:53.511807Z"
    },
    "scrolled": true
   },
   "outputs": [
    {
     "data": {
      "text/html": [
       "<div style=\"width:100%;\"><div style=\"position:relative;width:100%;height:0;padding-bottom:60%;\"><span style=\"color:#565656\">Make this Notebook Trusted to load map: File -> Trust Notebook</span><iframe src=\"about:blank\" style=\"position:absolute;width:100%;height:100%;left:0;top:0;border:none !important;\" data-html=%3C%21DOCTYPE%20html%3E%0A%3Chead%3E%20%20%20%20%0A%20%20%20%20%3Cmeta%20http-equiv%3D%22content-type%22%20content%3D%22text/html%3B%20charset%3DUTF-8%22%20/%3E%0A%20%20%20%20%0A%20%20%20%20%20%20%20%20%3Cscript%3E%0A%20%20%20%20%20%20%20%20%20%20%20%20L_NO_TOUCH%20%3D%20false%3B%0A%20%20%20%20%20%20%20%20%20%20%20%20L_DISABLE_3D%20%3D%20false%3B%0A%20%20%20%20%20%20%20%20%3C/script%3E%0A%20%20%20%20%0A%20%20%20%20%3Cstyle%3Ehtml%2C%20body%20%7Bwidth%3A%20100%25%3Bheight%3A%20100%25%3Bmargin%3A%200%3Bpadding%3A%200%3B%7D%3C/style%3E%0A%20%20%20%20%3Cstyle%3E%23map%20%7Bposition%3Aabsolute%3Btop%3A0%3Bbottom%3A0%3Bright%3A0%3Bleft%3A0%3B%7D%3C/style%3E%0A%20%20%20%20%3Cscript%20src%3D%22https%3A//cdn.jsdelivr.net/npm/leaflet%401.6.0/dist/leaflet.js%22%3E%3C/script%3E%0A%20%20%20%20%3Cscript%20src%3D%22https%3A//code.jquery.com/jquery-1.12.4.min.js%22%3E%3C/script%3E%0A%20%20%20%20%3Cscript%20src%3D%22https%3A//maxcdn.bootstrapcdn.com/bootstrap/3.2.0/js/bootstrap.min.js%22%3E%3C/script%3E%0A%20%20%20%20%3Cscript%20src%3D%22https%3A//cdnjs.cloudflare.com/ajax/libs/Leaflet.awesome-markers/2.0.2/leaflet.awesome-markers.js%22%3E%3C/script%3E%0A%20%20%20%20%3Clink%20rel%3D%22stylesheet%22%20href%3D%22https%3A//cdn.jsdelivr.net/npm/leaflet%401.6.0/dist/leaflet.css%22/%3E%0A%20%20%20%20%3Clink%20rel%3D%22stylesheet%22%20href%3D%22https%3A//maxcdn.bootstrapcdn.com/bootstrap/3.2.0/css/bootstrap.min.css%22/%3E%0A%20%20%20%20%3Clink%20rel%3D%22stylesheet%22%20href%3D%22https%3A//maxcdn.bootstrapcdn.com/bootstrap/3.2.0/css/bootstrap-theme.min.css%22/%3E%0A%20%20%20%20%3Clink%20rel%3D%22stylesheet%22%20href%3D%22https%3A//maxcdn.bootstrapcdn.com/font-awesome/4.6.3/css/font-awesome.min.css%22/%3E%0A%20%20%20%20%3Clink%20rel%3D%22stylesheet%22%20href%3D%22https%3A//cdnjs.cloudflare.com/ajax/libs/Leaflet.awesome-markers/2.0.2/leaflet.awesome-markers.css%22/%3E%0A%20%20%20%20%3Clink%20rel%3D%22stylesheet%22%20href%3D%22https%3A//cdn.jsdelivr.net/gh/python-visualization/folium/folium/templates/leaflet.awesome.rotate.min.css%22/%3E%0A%20%20%20%20%0A%20%20%20%20%20%20%20%20%20%20%20%20%3Cmeta%20name%3D%22viewport%22%20content%3D%22width%3Ddevice-width%2C%0A%20%20%20%20%20%20%20%20%20%20%20%20%20%20%20%20initial-scale%3D1.0%2C%20maximum-scale%3D1.0%2C%20user-scalable%3Dno%22%20/%3E%0A%20%20%20%20%20%20%20%20%20%20%20%20%3Cstyle%3E%0A%20%20%20%20%20%20%20%20%20%20%20%20%20%20%20%20%23map_6c199abf72fe494cb26922661f1d5d1b%20%7B%0A%20%20%20%20%20%20%20%20%20%20%20%20%20%20%20%20%20%20%20%20position%3A%20relative%3B%0A%20%20%20%20%20%20%20%20%20%20%20%20%20%20%20%20%20%20%20%20width%3A%20100.0%25%3B%0A%20%20%20%20%20%20%20%20%20%20%20%20%20%20%20%20%20%20%20%20height%3A%20100.0%25%3B%0A%20%20%20%20%20%20%20%20%20%20%20%20%20%20%20%20%20%20%20%20left%3A%200.0%25%3B%0A%20%20%20%20%20%20%20%20%20%20%20%20%20%20%20%20%20%20%20%20top%3A%200.0%25%3B%0A%20%20%20%20%20%20%20%20%20%20%20%20%20%20%20%20%7D%0A%20%20%20%20%20%20%20%20%20%20%20%20%3C/style%3E%0A%20%20%20%20%20%20%20%20%0A%3C/head%3E%0A%3Cbody%3E%20%20%20%20%0A%20%20%20%20%0A%20%20%20%20%20%20%20%20%20%20%20%20%3Cdiv%20class%3D%22folium-map%22%20id%3D%22map_6c199abf72fe494cb26922661f1d5d1b%22%20%3E%3C/div%3E%0A%20%20%20%20%20%20%20%20%0A%3C/body%3E%0A%3Cscript%3E%20%20%20%20%0A%20%20%20%20%0A%20%20%20%20%20%20%20%20%20%20%20%20var%20map_6c199abf72fe494cb26922661f1d5d1b%20%3D%20L.map%28%0A%20%20%20%20%20%20%20%20%20%20%20%20%20%20%20%20%22map_6c199abf72fe494cb26922661f1d5d1b%22%2C%0A%20%20%20%20%20%20%20%20%20%20%20%20%20%20%20%20%7B%0A%20%20%20%20%20%20%20%20%20%20%20%20%20%20%20%20%20%20%20%20center%3A%20%5B35.856371579014926%2C%20129.2247815402173%5D%2C%0A%20%20%20%20%20%20%20%20%20%20%20%20%20%20%20%20%20%20%20%20crs%3A%20L.CRS.EPSG3857%2C%0A%20%20%20%20%20%20%20%20%20%20%20%20%20%20%20%20%20%20%20%20zoom%3A%2010%2C%0A%20%20%20%20%20%20%20%20%20%20%20%20%20%20%20%20%20%20%20%20zoomControl%3A%20true%2C%0A%20%20%20%20%20%20%20%20%20%20%20%20%20%20%20%20%20%20%20%20preferCanvas%3A%20false%2C%0A%20%20%20%20%20%20%20%20%20%20%20%20%20%20%20%20%7D%0A%20%20%20%20%20%20%20%20%20%20%20%20%29%3B%0A%0A%20%20%20%20%20%20%20%20%20%20%20%20%0A%0A%20%20%20%20%20%20%20%20%0A%20%20%20%20%0A%20%20%20%20%20%20%20%20%20%20%20%20var%20tile_layer_5cbd45d2a6834e9eb9ade9b3ee3506a6%20%3D%20L.tileLayer%28%0A%20%20%20%20%20%20%20%20%20%20%20%20%20%20%20%20%22https%3A//%7Bs%7D.tile.openstreetmap.org/%7Bz%7D/%7Bx%7D/%7By%7D.png%22%2C%0A%20%20%20%20%20%20%20%20%20%20%20%20%20%20%20%20%7B%22attribution%22%3A%20%22Data%20by%20%5Cu0026copy%3B%20%5Cu003ca%20href%3D%5C%22http%3A//openstreetmap.org%5C%22%5Cu003eOpenStreetMap%5Cu003c/a%5Cu003e%2C%20under%20%5Cu003ca%20href%3D%5C%22http%3A//www.openstreetmap.org/copyright%5C%22%5Cu003eODbL%5Cu003c/a%5Cu003e.%22%2C%20%22detectRetina%22%3A%20false%2C%20%22maxNativeZoom%22%3A%2018%2C%20%22maxZoom%22%3A%2018%2C%20%22minZoom%22%3A%200%2C%20%22noWrap%22%3A%20false%2C%20%22opacity%22%3A%201%2C%20%22subdomains%22%3A%20%22abc%22%2C%20%22tms%22%3A%20false%7D%0A%20%20%20%20%20%20%20%20%20%20%20%20%29.addTo%28map_6c199abf72fe494cb26922661f1d5d1b%29%3B%0A%20%20%20%20%20%20%20%20%0A%20%20%20%20%0A%20%20%20%20%20%20%20%20%20%20%20%20var%20marker_1e2df7a1212d4ef4948e36c597cbf0aa%20%3D%20L.marker%28%0A%20%20%20%20%20%20%20%20%20%20%20%20%20%20%20%20%5B35.84858996537426%2C%20129.10530002836882%5D%2C%0A%20%20%20%20%20%20%20%20%20%20%20%20%20%20%20%20%7B%7D%0A%20%20%20%20%20%20%20%20%20%20%20%20%29.addTo%28map_6c199abf72fe494cb26922661f1d5d1b%29%3B%0A%20%20%20%20%20%20%20%20%0A%20%20%20%20%0A%20%20%20%20%20%20%20%20%20%20%20%20var%20icon_397eb57c006d45f5adce792b88763920%20%3D%20L.AwesomeMarkers.icon%28%0A%20%20%20%20%20%20%20%20%20%20%20%20%20%20%20%20%7B%22extraClasses%22%3A%20%22fa-rotate-0%22%2C%20%22icon%22%3A%20%22star%22%2C%20%22iconColor%22%3A%20%22white%22%2C%20%22markerColor%22%3A%20%22yellow%22%2C%20%22prefix%22%3A%20%22glyphicon%22%2C%20%22size%22%3A%200.1%7D%0A%20%20%20%20%20%20%20%20%20%20%20%20%29%3B%0A%20%20%20%20%20%20%20%20%20%20%20%20marker_1e2df7a1212d4ef4948e36c597cbf0aa.setIcon%28icon_397eb57c006d45f5adce792b88763920%29%3B%0A%20%20%20%20%20%20%20%20%0A%20%20%20%20%0A%20%20%20%20%20%20%20%20var%20popup_7a09b30095674f678548f23bc4477cfa%20%3D%20L.popup%28%7B%22maxWidth%22%3A%20%22100%25%22%7D%29%3B%0A%0A%20%20%20%20%20%20%20%20%0A%20%20%20%20%20%20%20%20%20%20%20%20var%20html_74e154c0719d44febd5b9f6cb608053c%20%3D%20%24%28%60%3Cdiv%20id%3D%22html_74e154c0719d44febd5b9f6cb608053c%22%20style%3D%22width%3A%20100.0%25%3B%20height%3A%20100.0%25%3B%22%3E%EA%B1%B4%EC%B2%9C%EC%8B%9C%EC%9E%A5%3C/div%3E%60%29%5B0%5D%3B%0A%20%20%20%20%20%20%20%20%20%20%20%20popup_7a09b30095674f678548f23bc4477cfa.setContent%28html_74e154c0719d44febd5b9f6cb608053c%29%3B%0A%20%20%20%20%20%20%20%20%0A%0A%20%20%20%20%20%20%20%20marker_1e2df7a1212d4ef4948e36c597cbf0aa.bindPopup%28popup_7a09b30095674f678548f23bc4477cfa%29%0A%20%20%20%20%20%20%20%20%3B%0A%0A%20%20%20%20%20%20%20%20%0A%20%20%20%20%0A%20%20%20%20%0A%20%20%20%20%20%20%20%20%20%20%20%20var%20marker_6a16f86356034786ba305be6d9bbb892%20%3D%20L.marker%28%0A%20%20%20%20%20%20%20%20%20%20%20%20%20%20%20%20%5B35.71495996388867%2C%20129.32620003273684%5D%2C%0A%20%20%20%20%20%20%20%20%20%20%20%20%20%20%20%20%7B%7D%0A%20%20%20%20%20%20%20%20%20%20%20%20%29.addTo%28map_6c199abf72fe494cb26922661f1d5d1b%29%3B%0A%20%20%20%20%20%20%20%20%0A%20%20%20%20%0A%20%20%20%20%20%20%20%20%20%20%20%20var%20icon_0b1cc44c8c0e4baca17a11bf5b6ca016%20%3D%20L.AwesomeMarkers.icon%28%0A%20%20%20%20%20%20%20%20%20%20%20%20%20%20%20%20%7B%22extraClasses%22%3A%20%22fa-rotate-0%22%2C%20%22icon%22%3A%20%22star%22%2C%20%22iconColor%22%3A%20%22white%22%2C%20%22markerColor%22%3A%20%22yellow%22%2C%20%22prefix%22%3A%20%22glyphicon%22%2C%20%22size%22%3A%200.1%7D%0A%20%20%20%20%20%20%20%20%20%20%20%20%29%3B%0A%20%20%20%20%20%20%20%20%20%20%20%20marker_6a16f86356034786ba305be6d9bbb892.setIcon%28icon_0b1cc44c8c0e4baca17a11bf5b6ca016%29%3B%0A%20%20%20%20%20%20%20%20%0A%20%20%20%20%0A%20%20%20%20%20%20%20%20var%20popup_077beb1a0d4a4efc87f5e94dce730f8c%20%3D%20L.popup%28%7B%22maxWidth%22%3A%20%22100%25%22%7D%29%3B%0A%0A%20%20%20%20%20%20%20%20%0A%20%20%20%20%20%20%20%20%20%20%20%20var%20html_d04eb766e8994487990f9c0b8ad7e5e2%20%3D%20%24%28%60%3Cdiv%20id%3D%22html_d04eb766e8994487990f9c0b8ad7e5e2%22%20style%3D%22width%3A%20100.0%25%3B%20height%3A%20100.0%25%3B%22%3E%EC%99%B8%EB%8F%99%EC%8B%9C%EC%9E%A5%3C/div%3E%60%29%5B0%5D%3B%0A%20%20%20%20%20%20%20%20%20%20%20%20popup_077beb1a0d4a4efc87f5e94dce730f8c.setContent%28html_d04eb766e8994487990f9c0b8ad7e5e2%29%3B%0A%20%20%20%20%20%20%20%20%0A%0A%20%20%20%20%20%20%20%20marker_6a16f86356034786ba305be6d9bbb892.bindPopup%28popup_077beb1a0d4a4efc87f5e94dce730f8c%29%0A%20%20%20%20%20%20%20%20%3B%0A%0A%20%20%20%20%20%20%20%20%0A%20%20%20%20%0A%20%20%20%20%0A%20%20%20%20%20%20%20%20%20%20%20%20var%20marker_1d41dd14971b49d289626befd855212f%20%3D%20L.marker%28%0A%20%20%20%20%20%20%20%20%20%20%20%20%20%20%20%20%5B35.675379962396626%2C%20129.46370003049623%5D%2C%0A%20%20%20%20%20%20%20%20%20%20%20%20%20%20%20%20%7B%7D%0A%20%20%20%20%20%20%20%20%20%20%20%20%29.addTo%28map_6c199abf72fe494cb26922661f1d5d1b%29%3B%0A%20%20%20%20%20%20%20%20%0A%20%20%20%20%0A%20%20%20%20%20%20%20%20%20%20%20%20var%20icon_5f8f1777eb5a43979f98170463c47226%20%3D%20L.AwesomeMarkers.icon%28%0A%20%20%20%20%20%20%20%20%20%20%20%20%20%20%20%20%7B%22extraClasses%22%3A%20%22fa-rotate-0%22%2C%20%22icon%22%3A%20%22star%22%2C%20%22iconColor%22%3A%20%22white%22%2C%20%22markerColor%22%3A%20%22yellow%22%2C%20%22prefix%22%3A%20%22glyphicon%22%2C%20%22size%22%3A%200.1%7D%0A%20%20%20%20%20%20%20%20%20%20%20%20%29%3B%0A%20%20%20%20%20%20%20%20%20%20%20%20marker_1d41dd14971b49d289626befd855212f.setIcon%28icon_5f8f1777eb5a43979f98170463c47226%29%3B%0A%20%20%20%20%20%20%20%20%0A%20%20%20%20%0A%20%20%20%20%20%20%20%20var%20popup_9fcb257f975740c99fb317c449d8d8e4%20%3D%20L.popup%28%7B%22maxWidth%22%3A%20%22100%25%22%7D%29%3B%0A%0A%20%20%20%20%20%20%20%20%0A%20%20%20%20%20%20%20%20%20%20%20%20var%20html_4f66021175594bfb89f21bb2bfdc2910%20%3D%20%24%28%60%3Cdiv%20id%3D%22html_4f66021175594bfb89f21bb2bfdc2910%22%20style%3D%22width%3A%20100.0%25%3B%20height%3A%20100.0%25%3B%22%3E%EC%96%91%EB%82%A8%EC%8B%9C%EC%9E%A5%3C/div%3E%60%29%5B0%5D%3B%0A%20%20%20%20%20%20%20%20%20%20%20%20popup_9fcb257f975740c99fb317c449d8d8e4.setContent%28html_4f66021175594bfb89f21bb2bfdc2910%29%3B%0A%20%20%20%20%20%20%20%20%0A%0A%20%20%20%20%20%20%20%20marker_1d41dd14971b49d289626befd855212f.bindPopup%28popup_9fcb257f975740c99fb317c449d8d8e4%29%0A%20%20%20%20%20%20%20%20%3B%0A%0A%20%20%20%20%20%20%20%20%0A%20%20%20%20%0A%20%20%20%20%0A%20%20%20%20%20%20%20%20%20%20%20%20var%20marker_06b29f369f1046909998d3f323868e32%20%3D%20L.marker%28%0A%20%20%20%20%20%20%20%20%20%20%20%20%20%20%20%20%5B35.80410995810103%2C%20129.50200002428124%5D%2C%0A%20%20%20%20%20%20%20%20%20%20%20%20%20%20%20%20%7B%7D%0A%20%20%20%20%20%20%20%20%20%20%20%20%29.addTo%28map_6c199abf72fe494cb26922661f1d5d1b%29%3B%0A%20%20%20%20%20%20%20%20%0A%20%20%20%20%0A%20%20%20%20%20%20%20%20%20%20%20%20var%20icon_77bc68b97aeb4e089ce420634f15fc26%20%3D%20L.AwesomeMarkers.icon%28%0A%20%20%20%20%20%20%20%20%20%20%20%20%20%20%20%20%7B%22extraClasses%22%3A%20%22fa-rotate-0%22%2C%20%22icon%22%3A%20%22star%22%2C%20%22iconColor%22%3A%20%22white%22%2C%20%22markerColor%22%3A%20%22yellow%22%2C%20%22prefix%22%3A%20%22glyphicon%22%2C%20%22size%22%3A%200.1%7D%0A%20%20%20%20%20%20%20%20%20%20%20%20%29%3B%0A%20%20%20%20%20%20%20%20%20%20%20%20marker_06b29f369f1046909998d3f323868e32.setIcon%28icon_77bc68b97aeb4e089ce420634f15fc26%29%3B%0A%20%20%20%20%20%20%20%20%0A%20%20%20%20%0A%20%20%20%20%20%20%20%20var%20popup_8bf4a4797e9c472d8408c728bbe815b9%20%3D%20L.popup%28%7B%22maxWidth%22%3A%20%22100%25%22%7D%29%3B%0A%0A%20%20%20%20%20%20%20%20%0A%20%20%20%20%20%20%20%20%20%20%20%20var%20html_0d0bdafab9f54039b14c3df5ae6c654d%20%3D%20%24%28%60%3Cdiv%20id%3D%22html_0d0bdafab9f54039b14c3df5ae6c654d%22%20style%3D%22width%3A%20100.0%25%3B%20height%3A%20100.0%25%3B%22%3E%EA%B0%90%ED%8F%AC%EC%8B%9C%EC%9E%A5%3C/div%3E%60%29%5B0%5D%3B%0A%20%20%20%20%20%20%20%20%20%20%20%20popup_8bf4a4797e9c472d8408c728bbe815b9.setContent%28html_0d0bdafab9f54039b14c3df5ae6c654d%29%3B%0A%20%20%20%20%20%20%20%20%0A%0A%20%20%20%20%20%20%20%20marker_06b29f369f1046909998d3f323868e32.bindPopup%28popup_8bf4a4797e9c472d8408c728bbe815b9%29%0A%20%20%20%20%20%20%20%20%3B%0A%0A%20%20%20%20%20%20%20%20%0A%20%20%20%20%0A%20%20%20%20%0A%20%20%20%20%20%20%20%20%20%20%20%20var%20marker_f630fe18443a4d33a295dbb5c2168042%20%3D%20L.marker%28%0A%20%20%20%20%20%20%20%20%20%20%20%20%20%20%20%20%5B35.757819963691375%2C%20129.04650003051248%5D%2C%0A%20%20%20%20%20%20%20%20%20%20%20%20%20%20%20%20%7B%7D%0A%20%20%20%20%20%20%20%20%20%20%20%20%29.addTo%28map_6c199abf72fe494cb26922661f1d5d1b%29%3B%0A%20%20%20%20%20%20%20%20%0A%20%20%20%20%0A%20%20%20%20%20%20%20%20%20%20%20%20var%20icon_6b1c2ff6a2ea4d22abd1d85fc3cba5ee%20%3D%20L.AwesomeMarkers.icon%28%0A%20%20%20%20%20%20%20%20%20%20%20%20%20%20%20%20%7B%22extraClasses%22%3A%20%22fa-rotate-0%22%2C%20%22icon%22%3A%20%22star%22%2C%20%22iconColor%22%3A%20%22white%22%2C%20%22markerColor%22%3A%20%22yellow%22%2C%20%22prefix%22%3A%20%22glyphicon%22%2C%20%22size%22%3A%200.1%7D%0A%20%20%20%20%20%20%20%20%20%20%20%20%29%3B%0A%20%20%20%20%20%20%20%20%20%20%20%20marker_f630fe18443a4d33a295dbb5c2168042.setIcon%28icon_6b1c2ff6a2ea4d22abd1d85fc3cba5ee%29%3B%0A%20%20%20%20%20%20%20%20%0A%20%20%20%20%0A%20%20%20%20%20%20%20%20var%20popup_0ce17f28901a438fba6a6c09a362c3a4%20%3D%20L.popup%28%7B%22maxWidth%22%3A%20%22100%25%22%7D%29%3B%0A%0A%20%20%20%20%20%20%20%20%0A%20%20%20%20%20%20%20%20%20%20%20%20var%20html_5bda0ced52dc48b9ba36149c8c370cc8%20%3D%20%24%28%60%3Cdiv%20id%3D%22html_5bda0ced52dc48b9ba36149c8c370cc8%22%20style%3D%22width%3A%20100.0%25%3B%20height%3A%20100.0%25%3B%22%3E%EC%82%B0%EB%82%B4%EC%8B%9C%EC%9E%A5%3C/div%3E%60%29%5B0%5D%3B%0A%20%20%20%20%20%20%20%20%20%20%20%20popup_0ce17f28901a438fba6a6c09a362c3a4.setContent%28html_5bda0ced52dc48b9ba36149c8c370cc8%29%3B%0A%20%20%20%20%20%20%20%20%0A%0A%20%20%20%20%20%20%20%20marker_f630fe18443a4d33a295dbb5c2168042.bindPopup%28popup_0ce17f28901a438fba6a6c09a362c3a4%29%0A%20%20%20%20%20%20%20%20%3B%0A%0A%20%20%20%20%20%20%20%20%0A%20%20%20%20%0A%20%20%20%20%0A%20%20%20%20%20%20%20%20%20%20%20%20var%20marker_1cfa4eda23164cc1901b0d9656a01e0f%20%3D%20L.marker%28%0A%20%20%20%20%20%20%20%20%20%20%20%20%20%20%20%20%5B35.77574996470176%2C%20129.30120002561583%5D%2C%0A%20%20%20%20%20%20%20%20%20%20%20%20%20%20%20%20%7B%7D%0A%20%20%20%20%20%20%20%20%20%20%20%20%29.addTo%28map_6c199abf72fe494cb26922661f1d5d1b%29%3B%0A%20%20%20%20%20%20%20%20%0A%20%20%20%20%0A%20%20%20%20%20%20%20%20%20%20%20%20var%20icon_cf7bf6969bfa49b28f0b84417829aa2d%20%3D%20L.AwesomeMarkers.icon%28%0A%20%20%20%20%20%20%20%20%20%20%20%20%20%20%20%20%7B%22extraClasses%22%3A%20%22fa-rotate-0%22%2C%20%22icon%22%3A%20%22star%22%2C%20%22iconColor%22%3A%20%22white%22%2C%20%22markerColor%22%3A%20%22yellow%22%2C%20%22prefix%22%3A%20%22glyphicon%22%2C%20%22size%22%3A%200.1%7D%0A%20%20%20%20%20%20%20%20%20%20%20%20%29%3B%0A%20%20%20%20%20%20%20%20%20%20%20%20marker_1cfa4eda23164cc1901b0d9656a01e0f.setIcon%28icon_cf7bf6969bfa49b28f0b84417829aa2d%29%3B%0A%20%20%20%20%20%20%20%20%0A%20%20%20%20%0A%20%20%20%20%20%20%20%20var%20popup_01d3fdacb6a1427abf2d637473d7f6b0%20%3D%20L.popup%28%7B%22maxWidth%22%3A%20%22100%25%22%7D%29%3B%0A%0A%20%20%20%20%20%20%20%20%0A%20%20%20%20%20%20%20%20%20%20%20%20var%20html_ed414784f89949409bd8e31e36b007fd%20%3D%20%24%28%60%3Cdiv%20id%3D%22html_ed414784f89949409bd8e31e36b007fd%22%20style%3D%22width%3A%20100.0%25%3B%20height%3A%20100.0%25%3B%22%3E%EB%B6%88%EA%B5%AD%EC%8B%9C%EC%9E%A5%3C/div%3E%60%29%5B0%5D%3B%0A%20%20%20%20%20%20%20%20%20%20%20%20popup_01d3fdacb6a1427abf2d637473d7f6b0.setContent%28html_ed414784f89949409bd8e31e36b007fd%29%3B%0A%20%20%20%20%20%20%20%20%0A%0A%20%20%20%20%20%20%20%20marker_1cfa4eda23164cc1901b0d9656a01e0f.bindPopup%28popup_01d3fdacb6a1427abf2d637473d7f6b0%29%0A%20%20%20%20%20%20%20%20%3B%0A%0A%20%20%20%20%20%20%20%20%0A%20%20%20%20%0A%20%20%20%20%0A%20%20%20%20%20%20%20%20%20%20%20%20var%20marker_69ce39683e8b4f71952e1867f2716b54%20%3D%20L.marker%28%0A%20%20%20%20%20%20%20%20%20%20%20%20%20%20%20%20%5B35.786229958045446%2C%20129.32740003345512%5D%2C%0A%20%20%20%20%20%20%20%20%20%20%20%20%20%20%20%20%7B%7D%0A%20%20%20%20%20%20%20%20%20%20%20%20%29.addTo%28map_6c199abf72fe494cb26922661f1d5d1b%29%3B%0A%20%20%20%20%20%20%20%20%0A%20%20%20%20%0A%20%20%20%20%20%20%20%20%20%20%20%20var%20icon_22e203528e094ff29ce232b6fe04e610%20%3D%20L.AwesomeMarkers.icon%28%0A%20%20%20%20%20%20%20%20%20%20%20%20%20%20%20%20%7B%22extraClasses%22%3A%20%22fa-rotate-0%22%2C%20%22icon%22%3A%20%22star%22%2C%20%22iconColor%22%3A%20%22white%22%2C%20%22markerColor%22%3A%20%22yellow%22%2C%20%22prefix%22%3A%20%22glyphicon%22%2C%20%22size%22%3A%200.1%7D%0A%20%20%20%20%20%20%20%20%20%20%20%20%29%3B%0A%20%20%20%20%20%20%20%20%20%20%20%20marker_69ce39683e8b4f71952e1867f2716b54.setIcon%28icon_22e203528e094ff29ce232b6fe04e610%29%3B%0A%20%20%20%20%20%20%20%20%0A%20%20%20%20%0A%20%20%20%20%20%20%20%20var%20popup_df4b5c8cdff64f21bf456fa6b13ae82a%20%3D%20L.popup%28%7B%22maxWidth%22%3A%20%22100%25%22%7D%29%3B%0A%0A%20%20%20%20%20%20%20%20%0A%20%20%20%20%20%20%20%20%20%20%20%20var%20html_bf2d81961a46484c95d5b2c5b88c610f%20%3D%20%24%28%60%3Cdiv%20id%3D%22html_bf2d81961a46484c95d5b2c5b88c610f%22%20style%3D%22width%3A%20100.0%25%3B%20height%3A%20100.0%25%3B%22%3E%EB%B6%88%EA%B5%AD%EC%82%AC%EC%83%81%EA%B0%80%EC%8B%9C%EC%9E%A5%3C/div%3E%60%29%5B0%5D%3B%0A%20%20%20%20%20%20%20%20%20%20%20%20popup_df4b5c8cdff64f21bf456fa6b13ae82a.setContent%28html_bf2d81961a46484c95d5b2c5b88c610f%29%3B%0A%20%20%20%20%20%20%20%20%0A%0A%20%20%20%20%20%20%20%20marker_69ce39683e8b4f71952e1867f2716b54.bindPopup%28popup_df4b5c8cdff64f21bf456fa6b13ae82a%29%0A%20%20%20%20%20%20%20%20%3B%0A%0A%20%20%20%20%20%20%20%20%0A%20%20%20%20%0A%20%20%20%20%0A%20%20%20%20%20%20%20%20%20%20%20%20var%20marker_fa4645958c9146ad86ead60cc9b4d627%20%3D%20L.marker%28%0A%20%20%20%20%20%20%20%20%20%20%20%20%20%20%20%20%5B35.84212026192849%2C%20129.21673172834585%5D%2C%0A%20%20%20%20%20%20%20%20%20%20%20%20%20%20%20%20%7B%7D%0A%20%20%20%20%20%20%20%20%20%20%20%20%29.addTo%28map_6c199abf72fe494cb26922661f1d5d1b%29%3B%0A%20%20%20%20%20%20%20%20%0A%20%20%20%20%0A%20%20%20%20%20%20%20%20%20%20%20%20var%20icon_ecf0ce1c5ba5470daf05d9f0d5ab7144%20%3D%20L.AwesomeMarkers.icon%28%0A%20%20%20%20%20%20%20%20%20%20%20%20%20%20%20%20%7B%22extraClasses%22%3A%20%22fa-rotate-0%22%2C%20%22icon%22%3A%20%22flag%22%2C%20%22iconColor%22%3A%20%22white%22%2C%20%22markerColor%22%3A%20%22blue%22%2C%20%22prefix%22%3A%20%22glyphicon%22%2C%20%22size%22%3A%200.1%7D%0A%20%20%20%20%20%20%20%20%20%20%20%20%29%3B%0A%20%20%20%20%20%20%20%20%20%20%20%20marker_fa4645958c9146ad86ead60cc9b4d627.setIcon%28icon_ecf0ce1c5ba5470daf05d9f0d5ab7144%29%3B%0A%20%20%20%20%20%20%20%20%0A%20%20%20%20%0A%20%20%20%20%20%20%20%20var%20popup_4c5aa8e631dc47c897fd34ddc7d59c32%20%3D%20L.popup%28%7B%22maxWidth%22%3A%20%22100%25%22%7D%29%3B%0A%0A%20%20%20%20%20%20%20%20%0A%20%20%20%20%20%20%20%20%20%20%20%20var%20html_407eccfcd1ac46408e0981336d8a8c21%20%3D%20%24%28%60%3Cdiv%20id%3D%22html_407eccfcd1ac46408e0981336d8a8c21%22%20style%3D%22width%3A%20100.0%25%3B%20height%3A%20100.0%25%3B%22%3E%EC%A0%9C2%EA%B3%B5%EC%98%81%EC%A3%BC%EC%B0%A8%EC%9E%A5%3C/div%3E%60%29%5B0%5D%3B%0A%20%20%20%20%20%20%20%20%20%20%20%20popup_4c5aa8e631dc47c897fd34ddc7d59c32.setContent%28html_407eccfcd1ac46408e0981336d8a8c21%29%3B%0A%20%20%20%20%20%20%20%20%0A%0A%20%20%20%20%20%20%20%20marker_fa4645958c9146ad86ead60cc9b4d627.bindPopup%28popup_4c5aa8e631dc47c897fd34ddc7d59c32%29%0A%20%20%20%20%20%20%20%20%3B%0A%0A%20%20%20%20%20%20%20%20%0A%20%20%20%20%0A%20%20%20%20%0A%20%20%20%20%20%20%20%20%20%20%20%20var%20marker_66941692b54c47c38af17b2bfb55b9e2%20%3D%20L.marker%28%0A%20%20%20%20%20%20%20%20%20%20%20%20%20%20%20%20%5B35.8432677619247%2C%20129.21507972834866%5D%2C%0A%20%20%20%20%20%20%20%20%20%20%20%20%20%20%20%20%7B%7D%0A%20%20%20%20%20%20%20%20%20%20%20%20%29.addTo%28map_6c199abf72fe494cb26922661f1d5d1b%29%3B%0A%20%20%20%20%20%20%20%20%0A%20%20%20%20%0A%20%20%20%20%20%20%20%20%20%20%20%20var%20icon_f9c47be1778246688158955325546395%20%3D%20L.AwesomeMarkers.icon%28%0A%20%20%20%20%20%20%20%20%20%20%20%20%20%20%20%20%7B%22extraClasses%22%3A%20%22fa-rotate-0%22%2C%20%22icon%22%3A%20%22flag%22%2C%20%22iconColor%22%3A%20%22white%22%2C%20%22markerColor%22%3A%20%22blue%22%2C%20%22prefix%22%3A%20%22glyphicon%22%2C%20%22size%22%3A%200.1%7D%0A%20%20%20%20%20%20%20%20%20%20%20%20%29%3B%0A%20%20%20%20%20%20%20%20%20%20%20%20marker_66941692b54c47c38af17b2bfb55b9e2.setIcon%28icon_f9c47be1778246688158955325546395%29%3B%0A%20%20%20%20%20%20%20%20%0A%20%20%20%20%0A%20%20%20%20%20%20%20%20var%20popup_cd821a8c432545b48af52cfc8c5b192a%20%3D%20L.popup%28%7B%22maxWidth%22%3A%20%22100%25%22%7D%29%3B%0A%0A%20%20%20%20%20%20%20%20%0A%20%20%20%20%20%20%20%20%20%20%20%20var%20html_7841ef133724446e9c4e691de8a1829a%20%3D%20%24%28%60%3Cdiv%20id%3D%22html_7841ef133724446e9c4e691de8a1829a%22%20style%3D%22width%3A%20100.0%25%3B%20height%3A%20100.0%25%3B%22%3E%EB%B6%81%EC%A0%95%EB%A1%9C%20%EB%85%B8%EC%83%81%EC%A3%BC%EC%B0%A8%EC%9E%A5%3C/div%3E%60%29%5B0%5D%3B%0A%20%20%20%20%20%20%20%20%20%20%20%20popup_cd821a8c432545b48af52cfc8c5b192a.setContent%28html_7841ef133724446e9c4e691de8a1829a%29%3B%0A%20%20%20%20%20%20%20%20%0A%0A%20%20%20%20%20%20%20%20marker_66941692b54c47c38af17b2bfb55b9e2.bindPopup%28popup_cd821a8c432545b48af52cfc8c5b192a%29%0A%20%20%20%20%20%20%20%20%3B%0A%0A%20%20%20%20%20%20%20%20%0A%20%20%20%20%0A%20%20%20%20%0A%20%20%20%20%20%20%20%20%20%20%20%20var%20marker_69a884a905964c1092ded91bcc33d233%20%3D%20L.marker%28%0A%20%20%20%20%20%20%20%20%20%20%20%20%20%20%20%20%5B35.84722378191916%2C%20129.21534922835906%5D%2C%0A%20%20%20%20%20%20%20%20%20%20%20%20%20%20%20%20%7B%7D%0A%20%20%20%20%20%20%20%20%20%20%20%20%29.addTo%28map_6c199abf72fe494cb26922661f1d5d1b%29%3B%0A%20%20%20%20%20%20%20%20%0A%20%20%20%20%0A%20%20%20%20%20%20%20%20%20%20%20%20var%20icon_0e7e580fbcf044dfbf472c6228835e69%20%3D%20L.AwesomeMarkers.icon%28%0A%20%20%20%20%20%20%20%20%20%20%20%20%20%20%20%20%7B%22extraClasses%22%3A%20%22fa-rotate-0%22%2C%20%22icon%22%3A%20%22flag%22%2C%20%22iconColor%22%3A%20%22white%22%2C%20%22markerColor%22%3A%20%22blue%22%2C%20%22prefix%22%3A%20%22glyphicon%22%2C%20%22size%22%3A%200.1%7D%0A%20%20%20%20%20%20%20%20%20%20%20%20%29%3B%0A%20%20%20%20%20%20%20%20%20%20%20%20marker_69a884a905964c1092ded91bcc33d233.setIcon%28icon_0e7e580fbcf044dfbf472c6228835e69%29%3B%0A%20%20%20%20%20%20%20%20%0A%20%20%20%20%0A%20%20%20%20%20%20%20%20var%20popup_8791bedbf9074921ac088d9271f23207%20%3D%20L.popup%28%7B%22maxWidth%22%3A%20%22100%25%22%7D%29%3B%0A%0A%20%20%20%20%20%20%20%20%0A%20%20%20%20%20%20%20%20%20%20%20%20var%20html_8a1cb6ba53884cc7908056bedd559855%20%3D%20%24%28%60%3Cdiv%20id%3D%22html_8a1cb6ba53884cc7908056bedd559855%22%20style%3D%22width%3A%20100.0%25%3B%20height%3A%20100.0%25%3B%22%3E%EB%B6%81%EC%84%B1%EB%A1%9C%20%EB%85%B8%EC%83%81%EC%A3%BC%EC%B0%A8%EC%9E%A5%3C/div%3E%60%29%5B0%5D%3B%0A%20%20%20%20%20%20%20%20%20%20%20%20popup_8791bedbf9074921ac088d9271f23207.setContent%28html_8a1cb6ba53884cc7908056bedd559855%29%3B%0A%20%20%20%20%20%20%20%20%0A%0A%20%20%20%20%20%20%20%20marker_69a884a905964c1092ded91bcc33d233.bindPopup%28popup_8791bedbf9074921ac088d9271f23207%29%0A%20%20%20%20%20%20%20%20%3B%0A%0A%20%20%20%20%20%20%20%20%0A%20%20%20%20%0A%20%20%20%20%0A%20%20%20%20%20%20%20%20%20%20%20%20var%20marker_861d3b42a76d4722a981cfe16c4f3b1d%20%3D%20L.marker%28%0A%20%20%20%20%20%20%20%20%20%20%20%20%20%20%20%20%5B35.843166161926334%2C%20129.21627192834856%5D%2C%0A%20%20%20%20%20%20%20%20%20%20%20%20%20%20%20%20%7B%7D%0A%20%20%20%20%20%20%20%20%20%20%20%20%29.addTo%28map_6c199abf72fe494cb26922661f1d5d1b%29%3B%0A%20%20%20%20%20%20%20%20%0A%20%20%20%20%0A%20%20%20%20%20%20%20%20%20%20%20%20var%20icon_d0fcea3b9a964b029acd3101597777bc%20%3D%20L.AwesomeMarkers.icon%28%0A%20%20%20%20%20%20%20%20%20%20%20%20%20%20%20%20%7B%22extraClasses%22%3A%20%22fa-rotate-0%22%2C%20%22icon%22%3A%20%22flag%22%2C%20%22iconColor%22%3A%20%22white%22%2C%20%22markerColor%22%3A%20%22blue%22%2C%20%22prefix%22%3A%20%22glyphicon%22%2C%20%22size%22%3A%200.1%7D%0A%20%20%20%20%20%20%20%20%20%20%20%20%29%3B%0A%20%20%20%20%20%20%20%20%20%20%20%20marker_861d3b42a76d4722a981cfe16c4f3b1d.setIcon%28icon_d0fcea3b9a964b029acd3101597777bc%29%3B%0A%20%20%20%20%20%20%20%20%0A%20%20%20%20%0A%20%20%20%20%20%20%20%20var%20popup_ef31def06d2c45338d433e7f5bbb9364%20%3D%20L.popup%28%7B%22maxWidth%22%3A%20%22100%25%22%7D%29%3B%0A%0A%20%20%20%20%20%20%20%20%0A%20%20%20%20%20%20%20%20%20%20%20%20var%20html_9b89233c20ea4083a57970489628b568%20%3D%20%24%28%60%3Cdiv%20id%3D%22html_9b89233c20ea4083a57970489628b568%22%20style%3D%22width%3A%20100.0%25%3B%20height%3A%20100.0%25%3B%22%3E%ED%8C%94%EC%9A%B0%EC%A0%95%20%EB%85%B8%EC%83%81%EC%A3%BC%EC%B0%A8%EC%9E%A5%3C/div%3E%60%29%5B0%5D%3B%0A%20%20%20%20%20%20%20%20%20%20%20%20popup_ef31def06d2c45338d433e7f5bbb9364.setContent%28html_9b89233c20ea4083a57970489628b568%29%3B%0A%20%20%20%20%20%20%20%20%0A%0A%20%20%20%20%20%20%20%20marker_861d3b42a76d4722a981cfe16c4f3b1d.bindPopup%28popup_ef31def06d2c45338d433e7f5bbb9364%29%0A%20%20%20%20%20%20%20%20%3B%0A%0A%20%20%20%20%20%20%20%20%0A%20%20%20%20%0A%3C/script%3E onload=\"this.contentDocument.open();this.contentDocument.write(    decodeURIComponent(this.getAttribute('data-html')));this.contentDocument.close();\" allowfullscreen webkitallowfullscreen mozallowfullscreen></iframe></div></div>"
      ],
      "text/plain": [
       "<folium.folium.Map at 0x22edc111188>"
      ]
     },
     "execution_count": 48,
     "metadata": {},
     "output_type": "execute_result"
    }
   ],
   "source": [
    "m"
   ]
  },
  {
   "cell_type": "markdown",
   "metadata": {},
   "source": [
    "위기 시장들간의 거리는 멀지만 주변시설이 많다는 점과 경주시 중심에 위치하여 이용자가 많을것으로 고려되어 해당지역에 전통시장 드라이브스루를 설치하게 되면 이용률이 증가할 것이다. 또한 해당지역에 드라이브스루를 설치함과 동시에 위기시장에서 물품을 납품받아 시설을 운영하면 상생효과를 볼 수 있을 것이다."
   ]
  }
 ],
 "metadata": {
  "hide_input": false,
  "kernelspec": {
   "display_name": "Python 3",
   "language": "python",
   "name": "python3"
  },
  "language_info": {
   "codemirror_mode": {
    "name": "ipython",
    "version": 3
   },
   "file_extension": ".py",
   "mimetype": "text/x-python",
   "name": "python",
   "nbconvert_exporter": "python",
   "pygments_lexer": "ipython3",
   "version": "3.7.6"
  },
  "toc": {
   "base_numbering": 1,
   "nav_menu": {},
   "number_sections": true,
   "sideBar": true,
   "skip_h1_title": false,
   "title_cell": "Table of Contents",
   "title_sidebar": "Contents",
   "toc_cell": false,
   "toc_position": {},
   "toc_section_display": true,
   "toc_window_display": false
  },
  "varInspector": {
   "cols": {
    "lenName": 16,
    "lenType": 16,
    "lenVar": 40
   },
   "kernels_config": {
    "python": {
     "delete_cmd_postfix": "",
     "delete_cmd_prefix": "del ",
     "library": "var_list.py",
     "varRefreshCmd": "print(var_dic_list())"
    },
    "r": {
     "delete_cmd_postfix": ") ",
     "delete_cmd_prefix": "rm(",
     "library": "var_list.r",
     "varRefreshCmd": "cat(var_dic_list()) "
    }
   },
   "types_to_exclude": [
    "module",
    "function",
    "builtin_function_or_method",
    "instance",
    "_Feature"
   ],
   "window_display": false
  }
 },
 "nbformat": 4,
 "nbformat_minor": 5
}
