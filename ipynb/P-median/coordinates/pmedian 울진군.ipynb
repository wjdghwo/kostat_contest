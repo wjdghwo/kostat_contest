{
 "cells": [
  {
   "cell_type": "code",
   "execution_count": 1,
   "metadata": {
    "ExecuteTime": {
     "end_time": "2021-07-24T10:50:33.856406Z",
     "start_time": "2021-07-24T10:50:32.323289Z"
    }
   },
   "outputs": [],
   "source": [
    "import pandas as pd\n",
    "import folium\n",
    "import math\n",
    "\n",
    "from itertools import combinations\n",
    "from pyproj import Proj, transform\n",
    "from tqdm import tqdm\n",
    "\n",
    "import warnings\n",
    "warnings.filterwarnings('ignore')"
   ]
  },
  {
   "cell_type": "markdown",
   "metadata": {},
   "source": [
    "### 데이터 다운 및 전처리"
   ]
  },
  {
   "cell_type": "code",
   "execution_count": 2,
   "metadata": {
    "ExecuteTime": {
     "end_time": "2021-07-24T10:50:35.758551Z",
     "start_time": "2021-07-24T10:50:33.859409Z"
    }
   },
   "outputs": [
    {
     "data": {
      "text/html": [
       "<div>\n",
       "<style scoped>\n",
       "    .dataframe tbody tr th:only-of-type {\n",
       "        vertical-align: middle;\n",
       "    }\n",
       "\n",
       "    .dataframe tbody tr th {\n",
       "        vertical-align: top;\n",
       "    }\n",
       "\n",
       "    .dataframe thead th {\n",
       "        text-align: right;\n",
       "    }\n",
       "</style>\n",
       "<table border=\"1\" class=\"dataframe\">\n",
       "  <thead>\n",
       "    <tr style=\"text-align: right;\">\n",
       "      <th></th>\n",
       "      <th>이름</th>\n",
       "      <th>위도</th>\n",
       "      <th>경도</th>\n",
       "    </tr>\n",
       "  </thead>\n",
       "  <tbody>\n",
       "    <tr>\n",
       "      <th>0</th>\n",
       "      <td>평해버스정류장앞 공영주차장</td>\n",
       "      <td>36.725568</td>\n",
       "      <td>129.441761</td>\n",
       "    </tr>\n",
       "    <tr>\n",
       "      <th>1</th>\n",
       "      <td>평해읍사무소 옆 공영주차장</td>\n",
       "      <td>36.728031</td>\n",
       "      <td>129.441030</td>\n",
       "    </tr>\n",
       "    <tr>\n",
       "      <th>2</th>\n",
       "      <td>북면사무소(광장) 공영주차장</td>\n",
       "      <td>37.104865</td>\n",
       "      <td>129.373088</td>\n",
       "    </tr>\n",
       "    <tr>\n",
       "      <th>3</th>\n",
       "      <td>죽변한전사택입구 공영주차장</td>\n",
       "      <td>37.064148</td>\n",
       "      <td>129.419173</td>\n",
       "    </tr>\n",
       "    <tr>\n",
       "      <th>4</th>\n",
       "      <td>구산4리(안잘미)마을주차장</td>\n",
       "      <td>36.943468</td>\n",
       "      <td>129.367039</td>\n",
       "    </tr>\n",
       "  </tbody>\n",
       "</table>\n",
       "</div>"
      ],
      "text/plain": [
       "                이름         위도          경도\n",
       "0   평해버스정류장앞 공영주차장  36.725568  129.441761\n",
       "1   평해읍사무소 옆 공영주차장  36.728031  129.441030\n",
       "2  북면사무소(광장) 공영주차장  37.104865  129.373088\n",
       "3   죽변한전사택입구 공영주차장  37.064148  129.419173\n",
       "4   구산4리(안잘미)마을주차장  36.943468  129.367039"
      ]
     },
     "execution_count": 2,
     "metadata": {},
     "output_type": "execute_result"
    }
   ],
   "source": [
    "uljin = pd.read_excel('울진군예상좌표.xlsx')\n",
    "uljin = uljin[['대구분명칭', '위도', '경도']]\n",
    "uljin.columns = ['이름', '위도', '경도']\n",
    "uljin.head()"
   ]
  },
  {
   "cell_type": "code",
   "execution_count": 3,
   "metadata": {
    "ExecuteTime": {
     "end_time": "2021-07-24T10:50:35.790554Z",
     "start_time": "2021-07-24T10:50:35.761553Z"
    }
   },
   "outputs": [
    {
     "data": {
      "text/html": [
       "<div>\n",
       "<style scoped>\n",
       "    .dataframe tbody tr th:only-of-type {\n",
       "        vertical-align: middle;\n",
       "    }\n",
       "\n",
       "    .dataframe tbody tr th {\n",
       "        vertical-align: top;\n",
       "    }\n",
       "\n",
       "    .dataframe thead th {\n",
       "        text-align: right;\n",
       "    }\n",
       "</style>\n",
       "<table border=\"1\" class=\"dataframe\">\n",
       "  <thead>\n",
       "    <tr style=\"text-align: right;\">\n",
       "      <th></th>\n",
       "      <th>이름</th>\n",
       "      <th>위도</th>\n",
       "      <th>경도</th>\n",
       "    </tr>\n",
       "  </thead>\n",
       "  <tbody>\n",
       "    <tr>\n",
       "      <th>0</th>\n",
       "      <td>GS25 울진북면점</td>\n",
       "      <td>37.103837</td>\n",
       "      <td>129.374583</td>\n",
       "    </tr>\n",
       "    <tr>\n",
       "      <th>1</th>\n",
       "      <td>미니스톱 울진부구점</td>\n",
       "      <td>37.103012</td>\n",
       "      <td>129.374073</td>\n",
       "    </tr>\n",
       "    <tr>\n",
       "      <th>2</th>\n",
       "      <td>세븐일레븐 울진케이블카점</td>\n",
       "      <td>36.968704</td>\n",
       "      <td>129.401089</td>\n",
       "    </tr>\n",
       "    <tr>\n",
       "      <th>3</th>\n",
       "      <td>CU 북면점</td>\n",
       "      <td>37.104796</td>\n",
       "      <td>129.374379</td>\n",
       "    </tr>\n",
       "    <tr>\n",
       "      <th>4</th>\n",
       "      <td>미니스톱 울진북면점</td>\n",
       "      <td>37.100954</td>\n",
       "      <td>129.369387</td>\n",
       "    </tr>\n",
       "  </tbody>\n",
       "</table>\n",
       "</div>"
      ],
      "text/plain": [
       "              이름         위도          경도\n",
       "0     GS25 울진북면점  37.103837  129.374583\n",
       "1     미니스톱 울진부구점  37.103012  129.374073\n",
       "2  세븐일레븐 울진케이블카점  36.968704  129.401089\n",
       "3         CU 북면점  37.104796  129.374379\n",
       "4     미니스톱 울진북면점  37.100954  129.369387"
      ]
     },
     "execution_count": 3,
     "metadata": {},
     "output_type": "execute_result"
    }
   ],
   "source": [
    "market = pd.read_csv('울진_편의점.csv', header = None)\n",
    "market.columns = ['경도', '위도', '이름']\n",
    "market = market[['이름', '위도', '경도']]\n",
    "market.head()"
   ]
  },
  {
   "cell_type": "markdown",
   "metadata": {},
   "source": [
    "### 위, 경도 좌표변환"
   ]
  },
  {
   "cell_type": "code",
   "execution_count": 4,
   "metadata": {
    "ExecuteTime": {
     "end_time": "2021-07-24T10:50:47.443440Z",
     "start_time": "2021-07-24T10:50:35.793556Z"
    }
   },
   "outputs": [],
   "source": [
    "proj_UTMK = Proj(init='epsg:5178')\n",
    "proj_WGS84 = Proj(init = 'epsg:4326')\n",
    "\n",
    "for i in  range(len(uljin)) :\n",
    "    x1, y1 = transform(proj_WGS84, proj_UTMK, uljin['경도'][i], uljin['위도'][i])\n",
    "    uljin['경도'][i], uljin['위도'][i] = x1, y1\n",
    "    \n",
    "for i in  range(len(market)) :\n",
    "    x1, y1 = transform(proj_WGS84, proj_UTMK, market['경도'][i], market['위도'][i])\n",
    "    market['경도'][i], market['위도'][i] = x1, y1  "
   ]
  },
  {
   "cell_type": "markdown",
   "metadata": {},
   "source": [
    "### F와 L사이의 최단거리 행열 만들기\n",
    "\n",
    "$F_i$ - uljin, 울진군 공영시설 좌표, m = 50  \n",
    "$L_j$ - market, 울진군 편의점 좌표, n = 86  \n",
    "$c_{ij}$ - $F_i$와 $L_j$의 최단거리"
   ]
  },
  {
   "cell_type": "code",
   "execution_count": 5,
   "metadata": {
    "ExecuteTime": {
     "end_time": "2021-07-24T10:50:47.459442Z",
     "start_time": "2021-07-24T10:50:47.446440Z"
    }
   },
   "outputs": [],
   "source": [
    "F_list = []\n",
    "L_list = []\n",
    "for i in range(len(uljin)) :\n",
    "    name = 'F_{}'.format(i)\n",
    "    F_list.append(name)\n",
    "for i in range(len(market)) :\n",
    "    name = 'L_{}'.format(i)\n",
    "    L_list.append(name)"
   ]
  },
  {
   "cell_type": "code",
   "execution_count": 6,
   "metadata": {
    "ExecuteTime": {
     "end_time": "2021-07-24T10:50:47.923476Z",
     "start_time": "2021-07-24T10:50:47.462442Z"
    }
   },
   "outputs": [],
   "source": [
    "length_df = pd.DataFrame(columns = F_list, index = L_list)\n",
    "for i in range(len(length_df)) :\n",
    "    for j, col in enumerate(length_df.columns) :\n",
    "        square_sum = ((uljin['위도'][j] - market['위도'][i]) ** 2) + ((uljin['경도'][j] - market['경도'][i]) ** 2)\n",
    "        distance = math.sqrt(square_sum)\n",
    "        length_df[col][i] = distance"
   ]
  },
  {
   "cell_type": "markdown",
   "metadata": {},
   "source": [
    "### P-Median"
   ]
  },
  {
   "cell_type": "code",
   "execution_count": 7,
   "metadata": {
    "ExecuteTime": {
     "end_time": "2021-07-24T10:50:50.035637Z",
     "start_time": "2021-07-24T10:50:47.926476Z"
    }
   },
   "outputs": [],
   "source": [
    "char_list = []\n",
    "for p in range(3, 11) :\n",
    "    col_sum = list(length_df.sum(axis = 0))\n",
    "    col_sum_sort = sorted(col_sum)\n",
    "    min_value = col_sum_sort[:3]\n",
    "    \n",
    "    min_index = []\n",
    "    for value in min_value :\n",
    "        min_index.append(col_sum.index(value))\n",
    "    \n",
    "    col_sum_tuple = []\n",
    "    for i in range(len(col_sum)) :\n",
    "        tup = (i, col_sum[i])\n",
    "        col_sum_tuple.append(tup)\n",
    "    \n",
    "    col_sum_tuple.sort(key = lambda x: x[1])\n",
    "    col_sum_tuple = col_sum_tuple[:2*p]\n",
    "    \n",
    "    p_list_set = [col_sum_tuple[j:j+p] for j in range(p)]\n",
    "    \n",
    "    min_sum_list = []\n",
    "    for k in range(len(p_list_set)) :\n",
    "        tup_check = []\n",
    "        for tt in p_list_set[k] :\n",
    "            tup_check.append(f'F_{tt[0]}')\n",
    "        check_df = length_df[tup_check]\n",
    "        check_df['min'] = 0\n",
    "        for l in range(len(check_df)) :\n",
    "            check_df['min'][l] = min(check_df.iloc[l][:-1])\n",
    "        min_sum_value = sum(check_df['min'])\n",
    "        min_sum_list.append(min_sum_value)\n",
    "    \n",
    "    final_index = min_sum_list.index(min(min_sum_list))\n",
    "    final_set = p_list_set[final_index]\n",
    "    \n",
    "    final_set.sort(key = lambda x : x[0])\n",
    "    \n",
    "    final_idx = [tp[0] for tp in final_set]\n",
    "    final_uljin = uljin.iloc[final_idx, :]\n",
    "    \n",
    "    final_uljin.reset_index(drop = True, inplace = True)\n",
    "    char_list.append(char for char in final_uljin['이름'])"
   ]
  },
  {
   "cell_type": "code",
   "execution_count": 8,
   "metadata": {
    "ExecuteTime": {
     "end_time": "2021-07-24T10:50:50.051638Z",
     "start_time": "2021-07-24T10:50:50.039639Z"
    }
   },
   "outputs": [],
   "source": [
    "final_kk = []\n",
    "for ch in char_list :\n",
    "    final_kk += ch"
   ]
  },
  {
   "cell_type": "code",
   "execution_count": 9,
   "metadata": {
    "ExecuteTime": {
     "end_time": "2021-07-24T10:50:50.067639Z",
     "start_time": "2021-07-24T10:50:50.055640Z"
    }
   },
   "outputs": [
    {
     "data": {
      "text/plain": [
       "엑스포공원 공영주차장           4\n",
       "연지공원                  4\n",
       "2호관사앞  공영주차장          4\n",
       "연호공원 공영주차장            4\n",
       "민물고기연구센터 공영주차장        4\n",
       "울진종합운동장               4\n",
       "성류굴종합운동장 공영주차장        3\n",
       "근남농협 왕피천변 공영주차장       3\n",
       "울진시장 공영주차장            3\n",
       "울진등기소 앞 공영주차장         3\n",
       "성류굴 공영주차장             2\n",
       "남사고유적지 공영주차장          2\n",
       "울진향교앞 공영주차장           2\n",
       "울진군청 공영주차장            2\n",
       "신성슈퍼앞(성심한의원) 공영주차장    2\n",
       "구문화원 공영주차장            2\n",
       "남대천변 공영주차장            2\n",
       "구산4리(안잘미)마을주차장        1\n",
       "망양공원                  1\n",
       "dtype: int64"
      ]
     },
     "execution_count": 9,
     "metadata": {},
     "output_type": "execute_result"
    }
   ],
   "source": [
    "pd.Series(final_kk).value_counts()"
   ]
  },
  {
   "cell_type": "code",
   "execution_count": 10,
   "metadata": {
    "ExecuteTime": {
     "end_time": "2021-07-24T10:50:50.083641Z",
     "start_time": "2021-07-24T10:50:50.071641Z"
    }
   },
   "outputs": [],
   "source": [
    "check_index = pd.Series(final_kk).value_counts().index[:6]"
   ]
  },
  {
   "cell_type": "code",
   "execution_count": 11,
   "metadata": {
    "ExecuteTime": {
     "end_time": "2021-07-24T10:50:50.115642Z",
     "start_time": "2021-07-24T10:50:50.086642Z"
    }
   },
   "outputs": [],
   "source": [
    "uljin_index = []\n",
    "for check in check_index :\n",
    "    for i in range(len(uljin)) :\n",
    "        if uljin['이름'][i] == check :\n",
    "            uljin_index.append(i)\n",
    "            break"
   ]
  },
  {
   "cell_type": "code",
   "execution_count": 12,
   "metadata": {
    "ExecuteTime": {
     "end_time": "2021-07-24T10:50:50.131645Z",
     "start_time": "2021-07-24T10:50:50.117644Z"
    }
   },
   "outputs": [
    {
     "data": {
      "text/plain": [
       "[16, 49, 15, 36, 29, 30]"
      ]
     },
     "execution_count": 12,
     "metadata": {},
     "output_type": "execute_result"
    }
   ],
   "source": [
    "uljin_index"
   ]
  },
  {
   "cell_type": "code",
   "execution_count": 13,
   "metadata": {
    "ExecuteTime": {
     "end_time": "2021-07-24T10:50:50.163647Z",
     "start_time": "2021-07-24T10:50:50.134645Z"
    }
   },
   "outputs": [
    {
     "data": {
      "text/html": [
       "<div>\n",
       "<style scoped>\n",
       "    .dataframe tbody tr th:only-of-type {\n",
       "        vertical-align: middle;\n",
       "    }\n",
       "\n",
       "    .dataframe tbody tr th {\n",
       "        vertical-align: top;\n",
       "    }\n",
       "\n",
       "    .dataframe thead th {\n",
       "        text-align: right;\n",
       "    }\n",
       "</style>\n",
       "<table border=\"1\" class=\"dataframe\">\n",
       "  <thead>\n",
       "    <tr style=\"text-align: right;\">\n",
       "      <th></th>\n",
       "      <th>이름</th>\n",
       "      <th>위도</th>\n",
       "      <th>경도</th>\n",
       "    </tr>\n",
       "  </thead>\n",
       "  <tbody>\n",
       "    <tr>\n",
       "      <th>0</th>\n",
       "      <td>엑스포공원 공영주차장</td>\n",
       "      <td>1.886969e+06</td>\n",
       "      <td>1.169421e+06</td>\n",
       "    </tr>\n",
       "    <tr>\n",
       "      <th>1</th>\n",
       "      <td>연지공원</td>\n",
       "      <td>1.889860e+06</td>\n",
       "      <td>1.169851e+06</td>\n",
       "    </tr>\n",
       "    <tr>\n",
       "      <th>2</th>\n",
       "      <td>2호관사앞  공영주차장</td>\n",
       "      <td>1.890135e+06</td>\n",
       "      <td>1.169529e+06</td>\n",
       "    </tr>\n",
       "    <tr>\n",
       "      <th>3</th>\n",
       "      <td>연호공원 공영주차장</td>\n",
       "      <td>1.889860e+06</td>\n",
       "      <td>1.169851e+06</td>\n",
       "    </tr>\n",
       "    <tr>\n",
       "      <th>4</th>\n",
       "      <td>민물고기연구센터 공영주차장</td>\n",
       "      <td>1.886697e+06</td>\n",
       "      <td>1.167637e+06</td>\n",
       "    </tr>\n",
       "    <tr>\n",
       "      <th>5</th>\n",
       "      <td>울진종합운동장</td>\n",
       "      <td>1.889860e+06</td>\n",
       "      <td>1.169851e+06</td>\n",
       "    </tr>\n",
       "  </tbody>\n",
       "</table>\n",
       "</div>"
      ],
      "text/plain": [
       "               이름            위도            경도\n",
       "0     엑스포공원 공영주차장  1.886969e+06  1.169421e+06\n",
       "1            연지공원  1.889860e+06  1.169851e+06\n",
       "2    2호관사앞  공영주차장  1.890135e+06  1.169529e+06\n",
       "3      연호공원 공영주차장  1.889860e+06  1.169851e+06\n",
       "4  민물고기연구센터 공영주차장  1.886697e+06  1.167637e+06\n",
       "5         울진종합운동장  1.889860e+06  1.169851e+06"
      ]
     },
     "execution_count": 13,
     "metadata": {},
     "output_type": "execute_result"
    }
   ],
   "source": [
    "uljin_sub = uljin.iloc[uljin_index, :]\n",
    "uljin_sub.reset_index(drop = True, inplace = True)\n",
    "uljin_sub"
   ]
  },
  {
   "cell_type": "markdown",
   "metadata": {},
   "source": [
    "### 시장데이터 및 최종공영시설 좌표 위경도 변환"
   ]
  },
  {
   "cell_type": "code",
   "execution_count": 14,
   "metadata": {
    "ExecuteTime": {
     "end_time": "2021-07-24T10:50:50.226651Z",
     "start_time": "2021-07-24T10:50:50.166649Z"
    }
   },
   "outputs": [
    {
     "data": {
      "text/html": [
       "<div>\n",
       "<style scoped>\n",
       "    .dataframe tbody tr th:only-of-type {\n",
       "        vertical-align: middle;\n",
       "    }\n",
       "\n",
       "    .dataframe tbody tr th {\n",
       "        vertical-align: top;\n",
       "    }\n",
       "\n",
       "    .dataframe thead th {\n",
       "        text-align: right;\n",
       "    }\n",
       "</style>\n",
       "<table border=\"1\" class=\"dataframe\">\n",
       "  <thead>\n",
       "    <tr style=\"text-align: right;\">\n",
       "      <th></th>\n",
       "      <th>시장명</th>\n",
       "      <th>위도</th>\n",
       "      <th>경도</th>\n",
       "    </tr>\n",
       "  </thead>\n",
       "  <tbody>\n",
       "    <tr>\n",
       "      <th>0</th>\n",
       "      <td>척산 공설시장</td>\n",
       "      <td>1868071.119</td>\n",
       "      <td>1174306.722</td>\n",
       "    </tr>\n",
       "    <tr>\n",
       "      <th>1</th>\n",
       "      <td>척산시장</td>\n",
       "      <td>1868002.894</td>\n",
       "      <td>1174281.336</td>\n",
       "    </tr>\n",
       "    <tr>\n",
       "      <th>2</th>\n",
       "      <td>평해시장</td>\n",
       "      <td>1860173.407</td>\n",
       "      <td>1173628.035</td>\n",
       "    </tr>\n",
       "    <tr>\n",
       "      <th>3</th>\n",
       "      <td>평해 공설시장</td>\n",
       "      <td>1860147.527</td>\n",
       "      <td>1173610.691</td>\n",
       "    </tr>\n",
       "    <tr>\n",
       "      <th>4</th>\n",
       "      <td>매화 공설시장</td>\n",
       "      <td>1880457.937</td>\n",
       "      <td>1167725.051</td>\n",
       "    </tr>\n",
       "    <tr>\n",
       "      <th>5</th>\n",
       "      <td>매화시장</td>\n",
       "      <td>1880382.140</td>\n",
       "      <td>1167708.721</td>\n",
       "    </tr>\n",
       "    <tr>\n",
       "      <th>6</th>\n",
       "      <td>흥부시장</td>\n",
       "      <td>1901893.361</td>\n",
       "      <td>1166838.829</td>\n",
       "    </tr>\n",
       "    <tr>\n",
       "      <th>7</th>\n",
       "      <td>흥부 공설시장</td>\n",
       "      <td>1901893.009</td>\n",
       "      <td>1166821.055</td>\n",
       "    </tr>\n",
       "    <tr>\n",
       "      <th>8</th>\n",
       "      <td>죽변시장</td>\n",
       "      <td>1897023.843</td>\n",
       "      <td>1171107.094</td>\n",
       "    </tr>\n",
       "    <tr>\n",
       "      <th>9</th>\n",
       "      <td>죽변 공설시장</td>\n",
       "      <td>1897031.610</td>\n",
       "      <td>1171106.937</td>\n",
       "    </tr>\n",
       "    <tr>\n",
       "      <th>10</th>\n",
       "      <td>후포시장</td>\n",
       "      <td>1854781.687</td>\n",
       "      <td>1173916.184</td>\n",
       "    </tr>\n",
       "    <tr>\n",
       "      <th>11</th>\n",
       "      <td>후포 공설시장</td>\n",
       "      <td>1854797.604</td>\n",
       "      <td>1173880.101</td>\n",
       "    </tr>\n",
       "    <tr>\n",
       "      <th>12</th>\n",
       "      <td>울진바지게시장</td>\n",
       "      <td>1889548.738</td>\n",
       "      <td>1169477.548</td>\n",
       "    </tr>\n",
       "    <tr>\n",
       "      <th>13</th>\n",
       "      <td>울진 공설시장</td>\n",
       "      <td>1889594.981</td>\n",
       "      <td>1169458.816</td>\n",
       "    </tr>\n",
       "  </tbody>\n",
       "</table>\n",
       "</div>"
      ],
      "text/plain": [
       "        시장명           위도           경도\n",
       "0   척산 공설시장  1868071.119  1174306.722\n",
       "1      척산시장  1868002.894  1174281.336\n",
       "2      평해시장  1860173.407  1173628.035\n",
       "3   평해 공설시장  1860147.527  1173610.691\n",
       "4   매화 공설시장  1880457.937  1167725.051\n",
       "5      매화시장  1880382.140  1167708.721\n",
       "6      흥부시장  1901893.361  1166838.829\n",
       "7   흥부 공설시장  1901893.009  1166821.055\n",
       "8      죽변시장  1897023.843  1171107.094\n",
       "9   죽변 공설시장  1897031.610  1171106.937\n",
       "10     후포시장  1854781.687  1173916.184\n",
       "11  후포 공설시장  1854797.604  1173880.101\n",
       "12  울진바지게시장  1889548.738  1169477.548\n",
       "13  울진 공설시장  1889594.981  1169458.816"
      ]
     },
     "execution_count": 14,
     "metadata": {},
     "output_type": "execute_result"
    }
   ],
   "source": [
    "uljin_sijang = pd.read_excel('울진시장.xlsx')\n",
    "uljin_sijang.drop(['Unnamed: 0'], axis = 1, inplace = True)\n",
    "\n",
    "uljin_sijang = uljin_sijang[['시장명', '위도', '경도']]\n",
    "uljin_sijang"
   ]
  },
  {
   "cell_type": "code",
   "execution_count": 15,
   "metadata": {
    "ExecuteTime": {
     "end_time": "2021-07-24T10:50:51.967783Z",
     "start_time": "2021-07-24T10:50:50.229653Z"
    }
   },
   "outputs": [],
   "source": [
    "for i in  range(len(uljin_sijang)) :\n",
    "    x1, y1 = transform(proj_UTMK, proj_WGS84, uljin_sijang['경도'][i], uljin_sijang['위도'][i])\n",
    "    uljin_sijang['경도'][i], uljin_sijang['위도'][i] = x1, y1\n",
    "    \n",
    "for i in  range(len(uljin_sub)) :\n",
    "    x1, y1 = transform(proj_UTMK, proj_WGS84, uljin_sub['경도'][i], uljin_sub['위도'][i])\n",
    "    uljin_sub['경도'][i], uljin_sub['위도'][i] = x1, y1"
   ]
  },
  {
   "cell_type": "code",
   "execution_count": 16,
   "metadata": {
    "ExecuteTime": {
     "end_time": "2021-07-24T10:50:51.999787Z",
     "start_time": "2021-07-24T10:50:51.969785Z"
    }
   },
   "outputs": [],
   "source": [
    "m = folium.Map(location = [36.85, 129.4004195], zoom_start = 10)"
   ]
  },
  {
   "cell_type": "code",
   "execution_count": 17,
   "metadata": {
    "ExecuteTime": {
     "end_time": "2021-07-24T10:50:52.015793Z",
     "start_time": "2021-07-24T10:50:52.001786Z"
    }
   },
   "outputs": [],
   "source": [
    "for i in range(len(uljin_sijang)) :\n",
    "    long = uljin_sijang['위도'][i]\n",
    "    lat = uljin_sijang['경도'][i]\n",
    "    name = uljin_sijang['시장명'][i]\n",
    "    folium.Marker(location = [long, lat],\n",
    "                  popup = name,\n",
    "                 icon = folium.Icon(color = 'yellow',\n",
    "                                    icon = 'star',\n",
    "                                    size = 0.1)).add_to(m)"
   ]
  },
  {
   "cell_type": "code",
   "execution_count": 18,
   "metadata": {
    "ExecuteTime": {
     "end_time": "2021-07-24T10:50:52.031789Z",
     "start_time": "2021-07-24T10:50:52.017788Z"
    }
   },
   "outputs": [],
   "source": [
    "for i in range(len(uljin_sub)) :\n",
    "    long = uljin_sub['위도'][i]\n",
    "    lat = uljin_sub['경도'][i]\n",
    "    name = uljin_sub['이름'][i]\n",
    "    folium.Marker(location = [long, lat],\n",
    "                  popup = name,\n",
    "                 icon = folium.Icon(color = 'blue',\n",
    "                                    icon = 'flag',\n",
    "                                    size = 0.1)).add_to(m)"
   ]
  },
  {
   "cell_type": "code",
   "execution_count": 20,
   "metadata": {
    "ExecuteTime": {
     "end_time": "2021-07-24T10:51:08.097014Z",
     "start_time": "2021-07-24T10:51:08.052009Z"
    }
   },
   "outputs": [
    {
     "data": {
      "text/html": [
       "<div style=\"width:100%;\"><div style=\"position:relative;width:100%;height:0;padding-bottom:60%;\"><span style=\"color:#565656\">Make this Notebook Trusted to load map: File -> Trust Notebook</span><iframe src=\"about:blank\" style=\"position:absolute;width:100%;height:100%;left:0;top:0;border:none !important;\" data-html=%3C%21DOCTYPE%20html%3E%0A%3Chead%3E%20%20%20%20%0A%20%20%20%20%3Cmeta%20http-equiv%3D%22content-type%22%20content%3D%22text/html%3B%20charset%3DUTF-8%22%20/%3E%0A%20%20%20%20%0A%20%20%20%20%20%20%20%20%3Cscript%3E%0A%20%20%20%20%20%20%20%20%20%20%20%20L_NO_TOUCH%20%3D%20false%3B%0A%20%20%20%20%20%20%20%20%20%20%20%20L_DISABLE_3D%20%3D%20false%3B%0A%20%20%20%20%20%20%20%20%3C/script%3E%0A%20%20%20%20%0A%20%20%20%20%3Cstyle%3Ehtml%2C%20body%20%7Bwidth%3A%20100%25%3Bheight%3A%20100%25%3Bmargin%3A%200%3Bpadding%3A%200%3B%7D%3C/style%3E%0A%20%20%20%20%3Cstyle%3E%23map%20%7Bposition%3Aabsolute%3Btop%3A0%3Bbottom%3A0%3Bright%3A0%3Bleft%3A0%3B%7D%3C/style%3E%0A%20%20%20%20%3Cscript%20src%3D%22https%3A//cdn.jsdelivr.net/npm/leaflet%401.6.0/dist/leaflet.js%22%3E%3C/script%3E%0A%20%20%20%20%3Cscript%20src%3D%22https%3A//code.jquery.com/jquery-1.12.4.min.js%22%3E%3C/script%3E%0A%20%20%20%20%3Cscript%20src%3D%22https%3A//maxcdn.bootstrapcdn.com/bootstrap/3.2.0/js/bootstrap.min.js%22%3E%3C/script%3E%0A%20%20%20%20%3Cscript%20src%3D%22https%3A//cdnjs.cloudflare.com/ajax/libs/Leaflet.awesome-markers/2.0.2/leaflet.awesome-markers.js%22%3E%3C/script%3E%0A%20%20%20%20%3Clink%20rel%3D%22stylesheet%22%20href%3D%22https%3A//cdn.jsdelivr.net/npm/leaflet%401.6.0/dist/leaflet.css%22/%3E%0A%20%20%20%20%3Clink%20rel%3D%22stylesheet%22%20href%3D%22https%3A//maxcdn.bootstrapcdn.com/bootstrap/3.2.0/css/bootstrap.min.css%22/%3E%0A%20%20%20%20%3Clink%20rel%3D%22stylesheet%22%20href%3D%22https%3A//maxcdn.bootstrapcdn.com/bootstrap/3.2.0/css/bootstrap-theme.min.css%22/%3E%0A%20%20%20%20%3Clink%20rel%3D%22stylesheet%22%20href%3D%22https%3A//maxcdn.bootstrapcdn.com/font-awesome/4.6.3/css/font-awesome.min.css%22/%3E%0A%20%20%20%20%3Clink%20rel%3D%22stylesheet%22%20href%3D%22https%3A//cdnjs.cloudflare.com/ajax/libs/Leaflet.awesome-markers/2.0.2/leaflet.awesome-markers.css%22/%3E%0A%20%20%20%20%3Clink%20rel%3D%22stylesheet%22%20href%3D%22https%3A//cdn.jsdelivr.net/gh/python-visualization/folium/folium/templates/leaflet.awesome.rotate.min.css%22/%3E%0A%20%20%20%20%0A%20%20%20%20%20%20%20%20%20%20%20%20%3Cmeta%20name%3D%22viewport%22%20content%3D%22width%3Ddevice-width%2C%0A%20%20%20%20%20%20%20%20%20%20%20%20%20%20%20%20initial-scale%3D1.0%2C%20maximum-scale%3D1.0%2C%20user-scalable%3Dno%22%20/%3E%0A%20%20%20%20%20%20%20%20%20%20%20%20%3Cstyle%3E%0A%20%20%20%20%20%20%20%20%20%20%20%20%20%20%20%20%23map_0e4ab3d7fff248e6abc08770798a1a9a%20%7B%0A%20%20%20%20%20%20%20%20%20%20%20%20%20%20%20%20%20%20%20%20position%3A%20relative%3B%0A%20%20%20%20%20%20%20%20%20%20%20%20%20%20%20%20%20%20%20%20width%3A%20100.0%25%3B%0A%20%20%20%20%20%20%20%20%20%20%20%20%20%20%20%20%20%20%20%20height%3A%20100.0%25%3B%0A%20%20%20%20%20%20%20%20%20%20%20%20%20%20%20%20%20%20%20%20left%3A%200.0%25%3B%0A%20%20%20%20%20%20%20%20%20%20%20%20%20%20%20%20%20%20%20%20top%3A%200.0%25%3B%0A%20%20%20%20%20%20%20%20%20%20%20%20%20%20%20%20%7D%0A%20%20%20%20%20%20%20%20%20%20%20%20%3C/style%3E%0A%20%20%20%20%20%20%20%20%0A%3C/head%3E%0A%3Cbody%3E%20%20%20%20%0A%20%20%20%20%0A%20%20%20%20%20%20%20%20%20%20%20%20%3Cdiv%20class%3D%22folium-map%22%20id%3D%22map_0e4ab3d7fff248e6abc08770798a1a9a%22%20%3E%3C/div%3E%0A%20%20%20%20%20%20%20%20%0A%3C/body%3E%0A%3Cscript%3E%20%20%20%20%0A%20%20%20%20%0A%20%20%20%20%20%20%20%20%20%20%20%20var%20map_0e4ab3d7fff248e6abc08770798a1a9a%20%3D%20L.map%28%0A%20%20%20%20%20%20%20%20%20%20%20%20%20%20%20%20%22map_0e4ab3d7fff248e6abc08770798a1a9a%22%2C%0A%20%20%20%20%20%20%20%20%20%20%20%20%20%20%20%20%7B%0A%20%20%20%20%20%20%20%20%20%20%20%20%20%20%20%20%20%20%20%20center%3A%20%5B36.85%2C%20129.4004195%5D%2C%0A%20%20%20%20%20%20%20%20%20%20%20%20%20%20%20%20%20%20%20%20crs%3A%20L.CRS.EPSG3857%2C%0A%20%20%20%20%20%20%20%20%20%20%20%20%20%20%20%20%20%20%20%20zoom%3A%2010%2C%0A%20%20%20%20%20%20%20%20%20%20%20%20%20%20%20%20%20%20%20%20zoomControl%3A%20true%2C%0A%20%20%20%20%20%20%20%20%20%20%20%20%20%20%20%20%20%20%20%20preferCanvas%3A%20false%2C%0A%20%20%20%20%20%20%20%20%20%20%20%20%20%20%20%20%7D%0A%20%20%20%20%20%20%20%20%20%20%20%20%29%3B%0A%0A%20%20%20%20%20%20%20%20%20%20%20%20%0A%0A%20%20%20%20%20%20%20%20%0A%20%20%20%20%0A%20%20%20%20%20%20%20%20%20%20%20%20var%20tile_layer_2653f7dfa7a64560ad9071f5e83a5d81%20%3D%20L.tileLayer%28%0A%20%20%20%20%20%20%20%20%20%20%20%20%20%20%20%20%22https%3A//%7Bs%7D.tile.openstreetmap.org/%7Bz%7D/%7Bx%7D/%7By%7D.png%22%2C%0A%20%20%20%20%20%20%20%20%20%20%20%20%20%20%20%20%7B%22attribution%22%3A%20%22Data%20by%20%5Cu0026copy%3B%20%5Cu003ca%20href%3D%5C%22http%3A//openstreetmap.org%5C%22%5Cu003eOpenStreetMap%5Cu003c/a%5Cu003e%2C%20under%20%5Cu003ca%20href%3D%5C%22http%3A//www.openstreetmap.org/copyright%5C%22%5Cu003eODbL%5Cu003c/a%5Cu003e.%22%2C%20%22detectRetina%22%3A%20false%2C%20%22maxNativeZoom%22%3A%2018%2C%20%22maxZoom%22%3A%2018%2C%20%22minZoom%22%3A%200%2C%20%22noWrap%22%3A%20false%2C%20%22opacity%22%3A%201%2C%20%22subdomains%22%3A%20%22abc%22%2C%20%22tms%22%3A%20false%7D%0A%20%20%20%20%20%20%20%20%20%20%20%20%29.addTo%28map_0e4ab3d7fff248e6abc08770798a1a9a%29%3B%0A%20%20%20%20%20%20%20%20%0A%20%20%20%20%0A%20%20%20%20%20%20%20%20%20%20%20%20var%20marker_3c0ba251037f4e99a835ee925c5fd4b7%20%3D%20L.marker%28%0A%20%20%20%20%20%20%20%20%20%20%20%20%20%20%20%20%5B36.79753995761369%2C%20129.45160003434583%5D%2C%0A%20%20%20%20%20%20%20%20%20%20%20%20%20%20%20%20%7B%7D%0A%20%20%20%20%20%20%20%20%20%20%20%20%29.addTo%28map_0e4ab3d7fff248e6abc08770798a1a9a%29%3B%0A%20%20%20%20%20%20%20%20%0A%20%20%20%20%0A%20%20%20%20%20%20%20%20%20%20%20%20var%20icon_e27478ba71c3495fbdbd1ba3cce36146%20%3D%20L.AwesomeMarkers.icon%28%0A%20%20%20%20%20%20%20%20%20%20%20%20%20%20%20%20%7B%22extraClasses%22%3A%20%22fa-rotate-0%22%2C%20%22icon%22%3A%20%22star%22%2C%20%22iconColor%22%3A%20%22white%22%2C%20%22markerColor%22%3A%20%22yellow%22%2C%20%22prefix%22%3A%20%22glyphicon%22%2C%20%22size%22%3A%200.1%7D%0A%20%20%20%20%20%20%20%20%20%20%20%20%29%3B%0A%20%20%20%20%20%20%20%20%20%20%20%20marker_3c0ba251037f4e99a835ee925c5fd4b7.setIcon%28icon_e27478ba71c3495fbdbd1ba3cce36146%29%3B%0A%20%20%20%20%20%20%20%20%0A%20%20%20%20%0A%20%20%20%20%20%20%20%20var%20popup_b60990ae48714cdc9836aa531216e21e%20%3D%20L.popup%28%7B%22maxWidth%22%3A%20%22100%25%22%7D%29%3B%0A%0A%20%20%20%20%20%20%20%20%0A%20%20%20%20%20%20%20%20%20%20%20%20var%20html_fae8da61735e4171a7f225781f2625e7%20%3D%20%24%28%60%3Cdiv%20id%3D%22html_fae8da61735e4171a7f225781f2625e7%22%20style%3D%22width%3A%20100.0%25%3B%20height%3A%20100.0%25%3B%22%3E%EC%B2%99%EC%82%B0%20%EA%B3%B5%EC%84%A4%EC%8B%9C%EC%9E%A5%3C/div%3E%60%29%5B0%5D%3B%0A%20%20%20%20%20%20%20%20%20%20%20%20popup_b60990ae48714cdc9836aa531216e21e.setContent%28html_fae8da61735e4171a7f225781f2625e7%29%3B%0A%20%20%20%20%20%20%20%20%0A%0A%20%20%20%20%20%20%20%20marker_3c0ba251037f4e99a835ee925c5fd4b7.bindPopup%28popup_b60990ae48714cdc9836aa531216e21e%29%0A%20%20%20%20%20%20%20%20%3B%0A%0A%20%20%20%20%20%20%20%20%0A%20%20%20%20%0A%20%20%20%20%0A%20%20%20%20%20%20%20%20%20%20%20%20var%20marker_baa7ba81dcbe4a19b71391a223a0add1%20%3D%20L.marker%28%0A%20%20%20%20%20%20%20%20%20%20%20%20%20%20%20%20%5B36.79692996026969%2C%20129.4513000344601%5D%2C%0A%20%20%20%20%20%20%20%20%20%20%20%20%20%20%20%20%7B%7D%0A%20%20%20%20%20%20%20%20%20%20%20%20%29.addTo%28map_0e4ab3d7fff248e6abc08770798a1a9a%29%3B%0A%20%20%20%20%20%20%20%20%0A%20%20%20%20%0A%20%20%20%20%20%20%20%20%20%20%20%20var%20icon_8e39cd39c25041d59a837a25b16787c8%20%3D%20L.AwesomeMarkers.icon%28%0A%20%20%20%20%20%20%20%20%20%20%20%20%20%20%20%20%7B%22extraClasses%22%3A%20%22fa-rotate-0%22%2C%20%22icon%22%3A%20%22star%22%2C%20%22iconColor%22%3A%20%22white%22%2C%20%22markerColor%22%3A%20%22yellow%22%2C%20%22prefix%22%3A%20%22glyphicon%22%2C%20%22size%22%3A%200.1%7D%0A%20%20%20%20%20%20%20%20%20%20%20%20%29%3B%0A%20%20%20%20%20%20%20%20%20%20%20%20marker_baa7ba81dcbe4a19b71391a223a0add1.setIcon%28icon_8e39cd39c25041d59a837a25b16787c8%29%3B%0A%20%20%20%20%20%20%20%20%0A%20%20%20%20%0A%20%20%20%20%20%20%20%20var%20popup_c565126914c64230937254600e130e3b%20%3D%20L.popup%28%7B%22maxWidth%22%3A%20%22100%25%22%7D%29%3B%0A%0A%20%20%20%20%20%20%20%20%0A%20%20%20%20%20%20%20%20%20%20%20%20var%20html_0214888b8d9443719d9bdd5a62de8f55%20%3D%20%24%28%60%3Cdiv%20id%3D%22html_0214888b8d9443719d9bdd5a62de8f55%22%20style%3D%22width%3A%20100.0%25%3B%20height%3A%20100.0%25%3B%22%3E%EC%B2%99%EC%82%B0%EC%8B%9C%EC%9E%A5%3C/div%3E%60%29%5B0%5D%3B%0A%20%20%20%20%20%20%20%20%20%20%20%20popup_c565126914c64230937254600e130e3b.setContent%28html_0214888b8d9443719d9bdd5a62de8f55%29%3B%0A%20%20%20%20%20%20%20%20%0A%0A%20%20%20%20%20%20%20%20marker_baa7ba81dcbe4a19b71391a223a0add1.bindPopup%28popup_c565126914c64230937254600e130e3b%29%0A%20%20%20%20%20%20%20%20%3B%0A%0A%20%20%20%20%20%20%20%20%0A%20%20%20%20%0A%20%20%20%20%0A%20%20%20%20%20%20%20%20%20%20%20%20var%20marker_e0f4a037579f47caa3742ea67075172e%20%3D%20L.marker%28%0A%20%20%20%20%20%20%20%20%20%20%20%20%20%20%20%20%5B36.726509961964794%2C%20129.44220003264263%5D%2C%0A%20%20%20%20%20%20%20%20%20%20%20%20%20%20%20%20%7B%7D%0A%20%20%20%20%20%20%20%20%20%20%20%20%29.addTo%28map_0e4ab3d7fff248e6abc08770798a1a9a%29%3B%0A%20%20%20%20%20%20%20%20%0A%20%20%20%20%0A%20%20%20%20%20%20%20%20%20%20%20%20var%20icon_24b129fcdf37472a9f9e8e7359a29e17%20%3D%20L.AwesomeMarkers.icon%28%0A%20%20%20%20%20%20%20%20%20%20%20%20%20%20%20%20%7B%22extraClasses%22%3A%20%22fa-rotate-0%22%2C%20%22icon%22%3A%20%22star%22%2C%20%22iconColor%22%3A%20%22white%22%2C%20%22markerColor%22%3A%20%22yellow%22%2C%20%22prefix%22%3A%20%22glyphicon%22%2C%20%22size%22%3A%200.1%7D%0A%20%20%20%20%20%20%20%20%20%20%20%20%29%3B%0A%20%20%20%20%20%20%20%20%20%20%20%20marker_e0f4a037579f47caa3742ea67075172e.setIcon%28icon_24b129fcdf37472a9f9e8e7359a29e17%29%3B%0A%20%20%20%20%20%20%20%20%0A%20%20%20%20%0A%20%20%20%20%20%20%20%20var%20popup_a8f05efd5b9342959801ccc5a791ac57%20%3D%20L.popup%28%7B%22maxWidth%22%3A%20%22100%25%22%7D%29%3B%0A%0A%20%20%20%20%20%20%20%20%0A%20%20%20%20%20%20%20%20%20%20%20%20var%20html_2018fbdbe71741459757222f7fd5dea8%20%3D%20%24%28%60%3Cdiv%20id%3D%22html_2018fbdbe71741459757222f7fd5dea8%22%20style%3D%22width%3A%20100.0%25%3B%20height%3A%20100.0%25%3B%22%3E%ED%8F%89%ED%95%B4%EC%8B%9C%EC%9E%A5%3C/div%3E%60%29%5B0%5D%3B%0A%20%20%20%20%20%20%20%20%20%20%20%20popup_a8f05efd5b9342959801ccc5a791ac57.setContent%28html_2018fbdbe71741459757222f7fd5dea8%29%3B%0A%20%20%20%20%20%20%20%20%0A%0A%20%20%20%20%20%20%20%20marker_e0f4a037579f47caa3742ea67075172e.bindPopup%28popup_a8f05efd5b9342959801ccc5a791ac57%29%0A%20%20%20%20%20%20%20%20%3B%0A%0A%20%20%20%20%20%20%20%20%0A%20%20%20%20%0A%20%20%20%20%0A%20%20%20%20%20%20%20%20%20%20%20%20var%20marker_5f839cf6a25143eca5849aecf90e72df%20%3D%20L.marker%28%0A%20%20%20%20%20%20%20%20%20%20%20%20%20%20%20%20%5B36.72627996456541%2C%20129.4420000334887%5D%2C%0A%20%20%20%20%20%20%20%20%20%20%20%20%20%20%20%20%7B%7D%0A%20%20%20%20%20%20%20%20%20%20%20%20%29.addTo%28map_0e4ab3d7fff248e6abc08770798a1a9a%29%3B%0A%20%20%20%20%20%20%20%20%0A%20%20%20%20%0A%20%20%20%20%20%20%20%20%20%20%20%20var%20icon_55dc5038cd7f41e59a3320eb5614b851%20%3D%20L.AwesomeMarkers.icon%28%0A%20%20%20%20%20%20%20%20%20%20%20%20%20%20%20%20%7B%22extraClasses%22%3A%20%22fa-rotate-0%22%2C%20%22icon%22%3A%20%22star%22%2C%20%22iconColor%22%3A%20%22white%22%2C%20%22markerColor%22%3A%20%22yellow%22%2C%20%22prefix%22%3A%20%22glyphicon%22%2C%20%22size%22%3A%200.1%7D%0A%20%20%20%20%20%20%20%20%20%20%20%20%29%3B%0A%20%20%20%20%20%20%20%20%20%20%20%20marker_5f839cf6a25143eca5849aecf90e72df.setIcon%28icon_55dc5038cd7f41e59a3320eb5614b851%29%3B%0A%20%20%20%20%20%20%20%20%0A%20%20%20%20%0A%20%20%20%20%20%20%20%20var%20popup_6e4b1f1dbdfe4a8bb4e82201ea9898d8%20%3D%20L.popup%28%7B%22maxWidth%22%3A%20%22100%25%22%7D%29%3B%0A%0A%20%20%20%20%20%20%20%20%0A%20%20%20%20%20%20%20%20%20%20%20%20var%20html_6a52033230ce4b27802c85277facc66f%20%3D%20%24%28%60%3Cdiv%20id%3D%22html_6a52033230ce4b27802c85277facc66f%22%20style%3D%22width%3A%20100.0%25%3B%20height%3A%20100.0%25%3B%22%3E%ED%8F%89%ED%95%B4%20%EA%B3%B5%EC%84%A4%EC%8B%9C%EC%9E%A5%3C/div%3E%60%29%5B0%5D%3B%0A%20%20%20%20%20%20%20%20%20%20%20%20popup_6e4b1f1dbdfe4a8bb4e82201ea9898d8.setContent%28html_6a52033230ce4b27802c85277facc66f%29%3B%0A%20%20%20%20%20%20%20%20%0A%0A%20%20%20%20%20%20%20%20marker_5f839cf6a25143eca5849aecf90e72df.bindPopup%28popup_6e4b1f1dbdfe4a8bb4e82201ea9898d8%29%0A%20%20%20%20%20%20%20%20%3B%0A%0A%20%20%20%20%20%20%20%20%0A%20%20%20%20%0A%20%20%20%20%0A%20%20%20%20%20%20%20%20%20%20%20%20var%20marker_f2d7082b662c45f5b050d8c7c8562655%20%3D%20L.marker%28%0A%20%20%20%20%20%20%20%20%20%20%20%20%20%20%20%20%5B36.91032995851413%2C%20129.38060002890433%5D%2C%0A%20%20%20%20%20%20%20%20%20%20%20%20%20%20%20%20%7B%7D%0A%20%20%20%20%20%20%20%20%20%20%20%20%29.addTo%28map_0e4ab3d7fff248e6abc08770798a1a9a%29%3B%0A%20%20%20%20%20%20%20%20%0A%20%20%20%20%0A%20%20%20%20%20%20%20%20%20%20%20%20var%20icon_eb8e409e37184400b6b41950443fac62%20%3D%20L.AwesomeMarkers.icon%28%0A%20%20%20%20%20%20%20%20%20%20%20%20%20%20%20%20%7B%22extraClasses%22%3A%20%22fa-rotate-0%22%2C%20%22icon%22%3A%20%22star%22%2C%20%22iconColor%22%3A%20%22white%22%2C%20%22markerColor%22%3A%20%22yellow%22%2C%20%22prefix%22%3A%20%22glyphicon%22%2C%20%22size%22%3A%200.1%7D%0A%20%20%20%20%20%20%20%20%20%20%20%20%29%3B%0A%20%20%20%20%20%20%20%20%20%20%20%20marker_f2d7082b662c45f5b050d8c7c8562655.setIcon%28icon_eb8e409e37184400b6b41950443fac62%29%3B%0A%20%20%20%20%20%20%20%20%0A%20%20%20%20%0A%20%20%20%20%20%20%20%20var%20popup_1e002899ac954e2fbd34dc1e402c2cc9%20%3D%20L.popup%28%7B%22maxWidth%22%3A%20%22100%25%22%7D%29%3B%0A%0A%20%20%20%20%20%20%20%20%0A%20%20%20%20%20%20%20%20%20%20%20%20var%20html_e9a32ee0c4cc445a87e0087f4abbbe5d%20%3D%20%24%28%60%3Cdiv%20id%3D%22html_e9a32ee0c4cc445a87e0087f4abbbe5d%22%20style%3D%22width%3A%20100.0%25%3B%20height%3A%20100.0%25%3B%22%3E%EB%A7%A4%ED%99%94%20%EA%B3%B5%EC%84%A4%EC%8B%9C%EC%9E%A5%3C/div%3E%60%29%5B0%5D%3B%0A%20%20%20%20%20%20%20%20%20%20%20%20popup_1e002899ac954e2fbd34dc1e402c2cc9.setContent%28html_e9a32ee0c4cc445a87e0087f4abbbe5d%29%3B%0A%20%20%20%20%20%20%20%20%0A%0A%20%20%20%20%20%20%20%20marker_f2d7082b662c45f5b050d8c7c8562655.bindPopup%28popup_1e002899ac954e2fbd34dc1e402c2cc9%29%0A%20%20%20%20%20%20%20%20%3B%0A%0A%20%20%20%20%20%20%20%20%0A%20%20%20%20%0A%20%20%20%20%0A%20%20%20%20%20%20%20%20%20%20%20%20var%20marker_e4e483001c7743e283a09447fdb24dd5%20%3D%20L.marker%28%0A%20%20%20%20%20%20%20%20%20%20%20%20%20%20%20%20%5B36.90964995866912%2C%20129.38040003292554%5D%2C%0A%20%20%20%20%20%20%20%20%20%20%20%20%20%20%20%20%7B%7D%0A%20%20%20%20%20%20%20%20%20%20%20%20%29.addTo%28map_0e4ab3d7fff248e6abc08770798a1a9a%29%3B%0A%20%20%20%20%20%20%20%20%0A%20%20%20%20%0A%20%20%20%20%20%20%20%20%20%20%20%20var%20icon_654052bdd30047ea8ec5b58e6308498a%20%3D%20L.AwesomeMarkers.icon%28%0A%20%20%20%20%20%20%20%20%20%20%20%20%20%20%20%20%7B%22extraClasses%22%3A%20%22fa-rotate-0%22%2C%20%22icon%22%3A%20%22star%22%2C%20%22iconColor%22%3A%20%22white%22%2C%20%22markerColor%22%3A%20%22yellow%22%2C%20%22prefix%22%3A%20%22glyphicon%22%2C%20%22size%22%3A%200.1%7D%0A%20%20%20%20%20%20%20%20%20%20%20%20%29%3B%0A%20%20%20%20%20%20%20%20%20%20%20%20marker_e4e483001c7743e283a09447fdb24dd5.setIcon%28icon_654052bdd30047ea8ec5b58e6308498a%29%3B%0A%20%20%20%20%20%20%20%20%0A%20%20%20%20%0A%20%20%20%20%20%20%20%20var%20popup_2236b2dcf8084bbe9b990a243d39bb91%20%3D%20L.popup%28%7B%22maxWidth%22%3A%20%22100%25%22%7D%29%3B%0A%0A%20%20%20%20%20%20%20%20%0A%20%20%20%20%20%20%20%20%20%20%20%20var%20html_6a8d2ce825734c60b3139d7051e0de94%20%3D%20%24%28%60%3Cdiv%20id%3D%22html_6a8d2ce825734c60b3139d7051e0de94%22%20style%3D%22width%3A%20100.0%25%3B%20height%3A%20100.0%25%3B%22%3E%EB%A7%A4%ED%99%94%EC%8B%9C%EC%9E%A5%3C/div%3E%60%29%5B0%5D%3B%0A%20%20%20%20%20%20%20%20%20%20%20%20popup_2236b2dcf8084bbe9b990a243d39bb91.setContent%28html_6a8d2ce825734c60b3139d7051e0de94%29%3B%0A%20%20%20%20%20%20%20%20%0A%0A%20%20%20%20%20%20%20%20marker_e4e483001c7743e283a09447fdb24dd5.bindPopup%28popup_2236b2dcf8084bbe9b990a243d39bb91%29%0A%20%20%20%20%20%20%20%20%3B%0A%0A%20%20%20%20%20%20%20%20%0A%20%20%20%20%0A%20%20%20%20%0A%20%20%20%20%20%20%20%20%20%20%20%20var%20marker_31cf837adcc54bba8cb60b73645ffda1%20%3D%20L.marker%28%0A%20%20%20%20%20%20%20%20%20%20%20%20%20%20%20%20%5B37.103609964062834%2C%20129.37540003101324%5D%2C%0A%20%20%20%20%20%20%20%20%20%20%20%20%20%20%20%20%7B%7D%0A%20%20%20%20%20%20%20%20%20%20%20%20%29.addTo%28map_0e4ab3d7fff248e6abc08770798a1a9a%29%3B%0A%20%20%20%20%20%20%20%20%0A%20%20%20%20%0A%20%20%20%20%20%20%20%20%20%20%20%20var%20icon_b673ec08903b4f3cb04aa090a092eba8%20%3D%20L.AwesomeMarkers.icon%28%0A%20%20%20%20%20%20%20%20%20%20%20%20%20%20%20%20%7B%22extraClasses%22%3A%20%22fa-rotate-0%22%2C%20%22icon%22%3A%20%22star%22%2C%20%22iconColor%22%3A%20%22white%22%2C%20%22markerColor%22%3A%20%22yellow%22%2C%20%22prefix%22%3A%20%22glyphicon%22%2C%20%22size%22%3A%200.1%7D%0A%20%20%20%20%20%20%20%20%20%20%20%20%29%3B%0A%20%20%20%20%20%20%20%20%20%20%20%20marker_31cf837adcc54bba8cb60b73645ffda1.setIcon%28icon_b673ec08903b4f3cb04aa090a092eba8%29%3B%0A%20%20%20%20%20%20%20%20%0A%20%20%20%20%0A%20%20%20%20%20%20%20%20var%20popup_5f5602c6f7bc4daaaa5fb558c578c771%20%3D%20L.popup%28%7B%22maxWidth%22%3A%20%22100%25%22%7D%29%3B%0A%0A%20%20%20%20%20%20%20%20%0A%20%20%20%20%20%20%20%20%20%20%20%20var%20html_a52f845b689e4a4786ede57eb3e4c31b%20%3D%20%24%28%60%3Cdiv%20id%3D%22html_a52f845b689e4a4786ede57eb3e4c31b%22%20style%3D%22width%3A%20100.0%25%3B%20height%3A%20100.0%25%3B%22%3E%ED%9D%A5%EB%B6%80%EC%8B%9C%EC%9E%A5%3C/div%3E%60%29%5B0%5D%3B%0A%20%20%20%20%20%20%20%20%20%20%20%20popup_5f5602c6f7bc4daaaa5fb558c578c771.setContent%28html_a52f845b689e4a4786ede57eb3e4c31b%29%3B%0A%20%20%20%20%20%20%20%20%0A%0A%20%20%20%20%20%20%20%20marker_31cf837adcc54bba8cb60b73645ffda1.bindPopup%28popup_5f5602c6f7bc4daaaa5fb558c578c771%29%0A%20%20%20%20%20%20%20%20%3B%0A%0A%20%20%20%20%20%20%20%20%0A%20%20%20%20%0A%20%20%20%20%0A%20%20%20%20%20%20%20%20%20%20%20%20var%20marker_eb6bc3f1a83445b89d70358055ce21eb%20%3D%20L.marker%28%0A%20%20%20%20%20%20%20%20%20%20%20%20%20%20%20%20%5B37.103609957798014%2C%20129.37520002842226%5D%2C%0A%20%20%20%20%20%20%20%20%20%20%20%20%20%20%20%20%7B%7D%0A%20%20%20%20%20%20%20%20%20%20%20%20%29.addTo%28map_0e4ab3d7fff248e6abc08770798a1a9a%29%3B%0A%20%20%20%20%20%20%20%20%0A%20%20%20%20%0A%20%20%20%20%20%20%20%20%20%20%20%20var%20icon_e31b8e1cd72a4582beb44109139c6f8e%20%3D%20L.AwesomeMarkers.icon%28%0A%20%20%20%20%20%20%20%20%20%20%20%20%20%20%20%20%7B%22extraClasses%22%3A%20%22fa-rotate-0%22%2C%20%22icon%22%3A%20%22star%22%2C%20%22iconColor%22%3A%20%22white%22%2C%20%22markerColor%22%3A%20%22yellow%22%2C%20%22prefix%22%3A%20%22glyphicon%22%2C%20%22size%22%3A%200.1%7D%0A%20%20%20%20%20%20%20%20%20%20%20%20%29%3B%0A%20%20%20%20%20%20%20%20%20%20%20%20marker_eb6bc3f1a83445b89d70358055ce21eb.setIcon%28icon_e31b8e1cd72a4582beb44109139c6f8e%29%3B%0A%20%20%20%20%20%20%20%20%0A%20%20%20%20%0A%20%20%20%20%20%20%20%20var%20popup_0b33cb77d09746bca0213eb66f868bdd%20%3D%20L.popup%28%7B%22maxWidth%22%3A%20%22100%25%22%7D%29%3B%0A%0A%20%20%20%20%20%20%20%20%0A%20%20%20%20%20%20%20%20%20%20%20%20var%20html_968f3abd4d5c4117b0395f0e042c942a%20%3D%20%24%28%60%3Cdiv%20id%3D%22html_968f3abd4d5c4117b0395f0e042c942a%22%20style%3D%22width%3A%20100.0%25%3B%20height%3A%20100.0%25%3B%22%3E%ED%9D%A5%EB%B6%80%20%EA%B3%B5%EC%84%A4%EC%8B%9C%EC%9E%A5%3C/div%3E%60%29%5B0%5D%3B%0A%20%20%20%20%20%20%20%20%20%20%20%20popup_0b33cb77d09746bca0213eb66f868bdd.setContent%28html_968f3abd4d5c4117b0395f0e042c942a%29%3B%0A%20%20%20%20%20%20%20%20%0A%0A%20%20%20%20%20%20%20%20marker_eb6bc3f1a83445b89d70358055ce21eb.bindPopup%28popup_0b33cb77d09746bca0213eb66f868bdd%29%0A%20%20%20%20%20%20%20%20%3B%0A%0A%20%20%20%20%20%20%20%20%0A%20%20%20%20%0A%20%20%20%20%0A%20%20%20%20%20%20%20%20%20%20%20%20var%20marker_49b7c44e98ed4a72aa17e95155de0a70%20%3D%20L.marker%28%0A%20%20%20%20%20%20%20%20%20%20%20%20%20%20%20%20%5B37.0589699604686%2C%20129.42230003372444%5D%2C%0A%20%20%20%20%20%20%20%20%20%20%20%20%20%20%20%20%7B%7D%0A%20%20%20%20%20%20%20%20%20%20%20%20%29.addTo%28map_0e4ab3d7fff248e6abc08770798a1a9a%29%3B%0A%20%20%20%20%20%20%20%20%0A%20%20%20%20%0A%20%20%20%20%20%20%20%20%20%20%20%20var%20icon_5dffe0ad83c744b1a515aaecfb6d8fdf%20%3D%20L.AwesomeMarkers.icon%28%0A%20%20%20%20%20%20%20%20%20%20%20%20%20%20%20%20%7B%22extraClasses%22%3A%20%22fa-rotate-0%22%2C%20%22icon%22%3A%20%22star%22%2C%20%22iconColor%22%3A%20%22white%22%2C%20%22markerColor%22%3A%20%22yellow%22%2C%20%22prefix%22%3A%20%22glyphicon%22%2C%20%22size%22%3A%200.1%7D%0A%20%20%20%20%20%20%20%20%20%20%20%20%29%3B%0A%20%20%20%20%20%20%20%20%20%20%20%20marker_49b7c44e98ed4a72aa17e95155de0a70.setIcon%28icon_5dffe0ad83c744b1a515aaecfb6d8fdf%29%3B%0A%20%20%20%20%20%20%20%20%0A%20%20%20%20%0A%20%20%20%20%20%20%20%20var%20popup_3d9b0dcc2d514181a69360f82fe41b55%20%3D%20L.popup%28%7B%22maxWidth%22%3A%20%22100%25%22%7D%29%3B%0A%0A%20%20%20%20%20%20%20%20%0A%20%20%20%20%20%20%20%20%20%20%20%20var%20html_7b4c2e27b94042a8a1e82a07c7a968d0%20%3D%20%24%28%60%3Cdiv%20id%3D%22html_7b4c2e27b94042a8a1e82a07c7a968d0%22%20style%3D%22width%3A%20100.0%25%3B%20height%3A%20100.0%25%3B%22%3E%EC%A3%BD%EB%B3%80%EC%8B%9C%EC%9E%A5%3C/div%3E%60%29%5B0%5D%3B%0A%20%20%20%20%20%20%20%20%20%20%20%20popup_3d9b0dcc2d514181a69360f82fe41b55.setContent%28html_7b4c2e27b94042a8a1e82a07c7a968d0%29%3B%0A%20%20%20%20%20%20%20%20%0A%0A%20%20%20%20%20%20%20%20marker_49b7c44e98ed4a72aa17e95155de0a70.bindPopup%28popup_3d9b0dcc2d514181a69360f82fe41b55%29%0A%20%20%20%20%20%20%20%20%3B%0A%0A%20%20%20%20%20%20%20%20%0A%20%20%20%20%0A%20%20%20%20%0A%20%20%20%20%20%20%20%20%20%20%20%20var%20marker_570ced5933b4451e81b0de5e56c98520%20%3D%20L.marker%28%0A%20%20%20%20%20%20%20%20%20%20%20%20%20%20%20%20%5B37.05903996341594%2C%20129.42230003598456%5D%2C%0A%20%20%20%20%20%20%20%20%20%20%20%20%20%20%20%20%7B%7D%0A%20%20%20%20%20%20%20%20%20%20%20%20%29.addTo%28map_0e4ab3d7fff248e6abc08770798a1a9a%29%3B%0A%20%20%20%20%20%20%20%20%0A%20%20%20%20%0A%20%20%20%20%20%20%20%20%20%20%20%20var%20icon_94a9560486684c148e07b6a580eb66a7%20%3D%20L.AwesomeMarkers.icon%28%0A%20%20%20%20%20%20%20%20%20%20%20%20%20%20%20%20%7B%22extraClasses%22%3A%20%22fa-rotate-0%22%2C%20%22icon%22%3A%20%22star%22%2C%20%22iconColor%22%3A%20%22white%22%2C%20%22markerColor%22%3A%20%22yellow%22%2C%20%22prefix%22%3A%20%22glyphicon%22%2C%20%22size%22%3A%200.1%7D%0A%20%20%20%20%20%20%20%20%20%20%20%20%29%3B%0A%20%20%20%20%20%20%20%20%20%20%20%20marker_570ced5933b4451e81b0de5e56c98520.setIcon%28icon_94a9560486684c148e07b6a580eb66a7%29%3B%0A%20%20%20%20%20%20%20%20%0A%20%20%20%20%0A%20%20%20%20%20%20%20%20var%20popup_65620e83273249048a8a41dbd52d4177%20%3D%20L.popup%28%7B%22maxWidth%22%3A%20%22100%25%22%7D%29%3B%0A%0A%20%20%20%20%20%20%20%20%0A%20%20%20%20%20%20%20%20%20%20%20%20var%20html_092077055bdd4b7c9f6474b8c6b06ba5%20%3D%20%24%28%60%3Cdiv%20id%3D%22html_092077055bdd4b7c9f6474b8c6b06ba5%22%20style%3D%22width%3A%20100.0%25%3B%20height%3A%20100.0%25%3B%22%3E%EC%A3%BD%EB%B3%80%20%EA%B3%B5%EC%84%A4%EC%8B%9C%EC%9E%A5%3C/div%3E%60%29%5B0%5D%3B%0A%20%20%20%20%20%20%20%20%20%20%20%20popup_65620e83273249048a8a41dbd52d4177.setContent%28html_092077055bdd4b7c9f6474b8c6b06ba5%29%3B%0A%20%20%20%20%20%20%20%20%0A%0A%20%20%20%20%20%20%20%20marker_570ced5933b4451e81b0de5e56c98520.bindPopup%28popup_65620e83273249048a8a41dbd52d4177%29%0A%20%20%20%20%20%20%20%20%3B%0A%0A%20%20%20%20%20%20%20%20%0A%20%20%20%20%0A%20%20%20%20%0A%20%20%20%20%20%20%20%20%20%20%20%20var%20marker_a56ffbf03f9047da89880bc557eba18c%20%3D%20L.marker%28%0A%20%20%20%20%20%20%20%20%20%20%20%20%20%20%20%20%5B36.6778799581203%2C%20129.44420002565246%5D%2C%0A%20%20%20%20%20%20%20%20%20%20%20%20%20%20%20%20%7B%7D%0A%20%20%20%20%20%20%20%20%20%20%20%20%29.addTo%28map_0e4ab3d7fff248e6abc08770798a1a9a%29%3B%0A%20%20%20%20%20%20%20%20%0A%20%20%20%20%0A%20%20%20%20%20%20%20%20%20%20%20%20var%20icon_28cec85f766f44a5907ce9c3a1169463%20%3D%20L.AwesomeMarkers.icon%28%0A%20%20%20%20%20%20%20%20%20%20%20%20%20%20%20%20%7B%22extraClasses%22%3A%20%22fa-rotate-0%22%2C%20%22icon%22%3A%20%22star%22%2C%20%22iconColor%22%3A%20%22white%22%2C%20%22markerColor%22%3A%20%22yellow%22%2C%20%22prefix%22%3A%20%22glyphicon%22%2C%20%22size%22%3A%200.1%7D%0A%20%20%20%20%20%20%20%20%20%20%20%20%29%3B%0A%20%20%20%20%20%20%20%20%20%20%20%20marker_a56ffbf03f9047da89880bc557eba18c.setIcon%28icon_28cec85f766f44a5907ce9c3a1169463%29%3B%0A%20%20%20%20%20%20%20%20%0A%20%20%20%20%0A%20%20%20%20%20%20%20%20var%20popup_13338cc597ec420191dad0af30921bc3%20%3D%20L.popup%28%7B%22maxWidth%22%3A%20%22100%25%22%7D%29%3B%0A%0A%20%20%20%20%20%20%20%20%0A%20%20%20%20%20%20%20%20%20%20%20%20var%20html_f706dd257cd846dd86f72130d7b51e61%20%3D%20%24%28%60%3Cdiv%20id%3D%22html_f706dd257cd846dd86f72130d7b51e61%22%20style%3D%22width%3A%20100.0%25%3B%20height%3A%20100.0%25%3B%22%3E%ED%9B%84%ED%8F%AC%EC%8B%9C%EC%9E%A5%3C/div%3E%60%29%5B0%5D%3B%0A%20%20%20%20%20%20%20%20%20%20%20%20popup_13338cc597ec420191dad0af30921bc3.setContent%28html_f706dd257cd846dd86f72130d7b51e61%29%3B%0A%20%20%20%20%20%20%20%20%0A%0A%20%20%20%20%20%20%20%20marker_a56ffbf03f9047da89880bc557eba18c.bindPopup%28popup_13338cc597ec420191dad0af30921bc3%29%0A%20%20%20%20%20%20%20%20%3B%0A%0A%20%20%20%20%20%20%20%20%0A%20%20%20%20%0A%20%20%20%20%0A%20%20%20%20%20%20%20%20%20%20%20%20var%20marker_cedc671c86f64a46bfd00353447d0f13%20%3D%20L.marker%28%0A%20%20%20%20%20%20%20%20%20%20%20%20%20%20%20%20%5B36.67802996006243%2C%20129.44380003440818%5D%2C%0A%20%20%20%20%20%20%20%20%20%20%20%20%20%20%20%20%7B%7D%0A%20%20%20%20%20%20%20%20%20%20%20%20%29.addTo%28map_0e4ab3d7fff248e6abc08770798a1a9a%29%3B%0A%20%20%20%20%20%20%20%20%0A%20%20%20%20%0A%20%20%20%20%20%20%20%20%20%20%20%20var%20icon_592d0c72774a41fc988e68ddcc9ede44%20%3D%20L.AwesomeMarkers.icon%28%0A%20%20%20%20%20%20%20%20%20%20%20%20%20%20%20%20%7B%22extraClasses%22%3A%20%22fa-rotate-0%22%2C%20%22icon%22%3A%20%22star%22%2C%20%22iconColor%22%3A%20%22white%22%2C%20%22markerColor%22%3A%20%22yellow%22%2C%20%22prefix%22%3A%20%22glyphicon%22%2C%20%22size%22%3A%200.1%7D%0A%20%20%20%20%20%20%20%20%20%20%20%20%29%3B%0A%20%20%20%20%20%20%20%20%20%20%20%20marker_cedc671c86f64a46bfd00353447d0f13.setIcon%28icon_592d0c72774a41fc988e68ddcc9ede44%29%3B%0A%20%20%20%20%20%20%20%20%0A%20%20%20%20%0A%20%20%20%20%20%20%20%20var%20popup_3492f544e6324ec4be44a1914da214c9%20%3D%20L.popup%28%7B%22maxWidth%22%3A%20%22100%25%22%7D%29%3B%0A%0A%20%20%20%20%20%20%20%20%0A%20%20%20%20%20%20%20%20%20%20%20%20var%20html_054cdf2f70dd47498aeec7119cb36c2a%20%3D%20%24%28%60%3Cdiv%20id%3D%22html_054cdf2f70dd47498aeec7119cb36c2a%22%20style%3D%22width%3A%20100.0%25%3B%20height%3A%20100.0%25%3B%22%3E%ED%9B%84%ED%8F%AC%20%EA%B3%B5%EC%84%A4%EC%8B%9C%EC%9E%A5%3C/div%3E%60%29%5B0%5D%3B%0A%20%20%20%20%20%20%20%20%20%20%20%20popup_3492f544e6324ec4be44a1914da214c9.setContent%28html_054cdf2f70dd47498aeec7119cb36c2a%29%3B%0A%20%20%20%20%20%20%20%20%0A%0A%20%20%20%20%20%20%20%20marker_cedc671c86f64a46bfd00353447d0f13.bindPopup%28popup_3492f544e6324ec4be44a1914da214c9%29%0A%20%20%20%20%20%20%20%20%3B%0A%0A%20%20%20%20%20%20%20%20%0A%20%20%20%20%0A%20%20%20%20%0A%20%20%20%20%20%20%20%20%20%20%20%20var%20marker_6d6ed016757347a5a9ec8f1ebec04b57%20%3D%20L.marker%28%0A%20%20%20%20%20%20%20%20%20%20%20%20%20%20%20%20%5B36.9919199615761%2C%20129.40230003653008%5D%2C%0A%20%20%20%20%20%20%20%20%20%20%20%20%20%20%20%20%7B%7D%0A%20%20%20%20%20%20%20%20%20%20%20%20%29.addTo%28map_0e4ab3d7fff248e6abc08770798a1a9a%29%3B%0A%20%20%20%20%20%20%20%20%0A%20%20%20%20%0A%20%20%20%20%20%20%20%20%20%20%20%20var%20icon_15132408a71241d0a24ff3bc7ca600d9%20%3D%20L.AwesomeMarkers.icon%28%0A%20%20%20%20%20%20%20%20%20%20%20%20%20%20%20%20%7B%22extraClasses%22%3A%20%22fa-rotate-0%22%2C%20%22icon%22%3A%20%22star%22%2C%20%22iconColor%22%3A%20%22white%22%2C%20%22markerColor%22%3A%20%22yellow%22%2C%20%22prefix%22%3A%20%22glyphicon%22%2C%20%22size%22%3A%200.1%7D%0A%20%20%20%20%20%20%20%20%20%20%20%20%29%3B%0A%20%20%20%20%20%20%20%20%20%20%20%20marker_6d6ed016757347a5a9ec8f1ebec04b57.setIcon%28icon_15132408a71241d0a24ff3bc7ca600d9%29%3B%0A%20%20%20%20%20%20%20%20%0A%20%20%20%20%0A%20%20%20%20%20%20%20%20var%20popup_292fcd2388704fb1bb1545c0c2e0e838%20%3D%20L.popup%28%7B%22maxWidth%22%3A%20%22100%25%22%7D%29%3B%0A%0A%20%20%20%20%20%20%20%20%0A%20%20%20%20%20%20%20%20%20%20%20%20var%20html_b1069d7cc21b4b27b5162a5cf29e2503%20%3D%20%24%28%60%3Cdiv%20id%3D%22html_b1069d7cc21b4b27b5162a5cf29e2503%22%20style%3D%22width%3A%20100.0%25%3B%20height%3A%20100.0%25%3B%22%3E%EC%9A%B8%EC%A7%84%EB%B0%94%EC%A7%80%EA%B2%8C%EC%8B%9C%EC%9E%A5%3C/div%3E%60%29%5B0%5D%3B%0A%20%20%20%20%20%20%20%20%20%20%20%20popup_292fcd2388704fb1bb1545c0c2e0e838.setContent%28html_b1069d7cc21b4b27b5162a5cf29e2503%29%3B%0A%20%20%20%20%20%20%20%20%0A%0A%20%20%20%20%20%20%20%20marker_6d6ed016757347a5a9ec8f1ebec04b57.bindPopup%28popup_292fcd2388704fb1bb1545c0c2e0e838%29%0A%20%20%20%20%20%20%20%20%3B%0A%0A%20%20%20%20%20%20%20%20%0A%20%20%20%20%0A%20%20%20%20%0A%20%20%20%20%20%20%20%20%20%20%20%20var%20marker_76343fedc1dd45caabcc150facf7f67b%20%3D%20L.marker%28%0A%20%20%20%20%20%20%20%20%20%20%20%20%20%20%20%20%5B36.99233995759678%2C%20129.4021000336863%5D%2C%0A%20%20%20%20%20%20%20%20%20%20%20%20%20%20%20%20%7B%7D%0A%20%20%20%20%20%20%20%20%20%20%20%20%29.addTo%28map_0e4ab3d7fff248e6abc08770798a1a9a%29%3B%0A%20%20%20%20%20%20%20%20%0A%20%20%20%20%0A%20%20%20%20%20%20%20%20%20%20%20%20var%20icon_66dcd5d17de946b4a70e1aa71813c8ec%20%3D%20L.AwesomeMarkers.icon%28%0A%20%20%20%20%20%20%20%20%20%20%20%20%20%20%20%20%7B%22extraClasses%22%3A%20%22fa-rotate-0%22%2C%20%22icon%22%3A%20%22star%22%2C%20%22iconColor%22%3A%20%22white%22%2C%20%22markerColor%22%3A%20%22yellow%22%2C%20%22prefix%22%3A%20%22glyphicon%22%2C%20%22size%22%3A%200.1%7D%0A%20%20%20%20%20%20%20%20%20%20%20%20%29%3B%0A%20%20%20%20%20%20%20%20%20%20%20%20marker_76343fedc1dd45caabcc150facf7f67b.setIcon%28icon_66dcd5d17de946b4a70e1aa71813c8ec%29%3B%0A%20%20%20%20%20%20%20%20%0A%20%20%20%20%0A%20%20%20%20%20%20%20%20var%20popup_3c13da6d2f7d406c8cfc046705aa9463%20%3D%20L.popup%28%7B%22maxWidth%22%3A%20%22100%25%22%7D%29%3B%0A%0A%20%20%20%20%20%20%20%20%0A%20%20%20%20%20%20%20%20%20%20%20%20var%20html_e6a2f7c82aa64dcfbe86d8a8e38e8028%20%3D%20%24%28%60%3Cdiv%20id%3D%22html_e6a2f7c82aa64dcfbe86d8a8e38e8028%22%20style%3D%22width%3A%20100.0%25%3B%20height%3A%20100.0%25%3B%22%3E%EC%9A%B8%EC%A7%84%20%EA%B3%B5%EC%84%A4%EC%8B%9C%EC%9E%A5%3C/div%3E%60%29%5B0%5D%3B%0A%20%20%20%20%20%20%20%20%20%20%20%20popup_3c13da6d2f7d406c8cfc046705aa9463.setContent%28html_e6a2f7c82aa64dcfbe86d8a8e38e8028%29%3B%0A%20%20%20%20%20%20%20%20%0A%0A%20%20%20%20%20%20%20%20marker_76343fedc1dd45caabcc150facf7f67b.bindPopup%28popup_3c13da6d2f7d406c8cfc046705aa9463%29%0A%20%20%20%20%20%20%20%20%3B%0A%0A%20%20%20%20%20%20%20%20%0A%20%20%20%20%0A%20%20%20%20%0A%20%20%20%20%20%20%20%20%20%20%20%20var%20marker_61be6da63d4a4b93b732cd9995869600%20%3D%20L.marker%28%0A%20%20%20%20%20%20%20%20%20%20%20%20%20%20%20%20%5B36.96868596067809%2C%20129.4010840313257%5D%2C%0A%20%20%20%20%20%20%20%20%20%20%20%20%20%20%20%20%7B%7D%0A%20%20%20%20%20%20%20%20%20%20%20%20%29.addTo%28map_0e4ab3d7fff248e6abc08770798a1a9a%29%3B%0A%20%20%20%20%20%20%20%20%0A%20%20%20%20%0A%20%20%20%20%20%20%20%20%20%20%20%20var%20icon_74191fba0e8848be861bd1bbe6b49d50%20%3D%20L.AwesomeMarkers.icon%28%0A%20%20%20%20%20%20%20%20%20%20%20%20%20%20%20%20%7B%22extraClasses%22%3A%20%22fa-rotate-0%22%2C%20%22icon%22%3A%20%22flag%22%2C%20%22iconColor%22%3A%20%22white%22%2C%20%22markerColor%22%3A%20%22blue%22%2C%20%22prefix%22%3A%20%22glyphicon%22%2C%20%22size%22%3A%200.1%7D%0A%20%20%20%20%20%20%20%20%20%20%20%20%29%3B%0A%20%20%20%20%20%20%20%20%20%20%20%20marker_61be6da63d4a4b93b732cd9995869600.setIcon%28icon_74191fba0e8848be861bd1bbe6b49d50%29%3B%0A%20%20%20%20%20%20%20%20%0A%20%20%20%20%0A%20%20%20%20%20%20%20%20var%20popup_2e681c92bd8f44c39cfbabdcd481408f%20%3D%20L.popup%28%7B%22maxWidth%22%3A%20%22100%25%22%7D%29%3B%0A%0A%20%20%20%20%20%20%20%20%0A%20%20%20%20%20%20%20%20%20%20%20%20var%20html_61d524bd462b4b6e8c0fa849f94d8433%20%3D%20%24%28%60%3Cdiv%20id%3D%22html_61d524bd462b4b6e8c0fa849f94d8433%22%20style%3D%22width%3A%20100.0%25%3B%20height%3A%20100.0%25%3B%22%3E%EC%97%91%EC%8A%A4%ED%8F%AC%EA%B3%B5%EC%9B%90%20%EA%B3%B5%EC%98%81%EC%A3%BC%EC%B0%A8%EC%9E%A5%3C/div%3E%60%29%5B0%5D%3B%0A%20%20%20%20%20%20%20%20%20%20%20%20popup_2e681c92bd8f44c39cfbabdcd481408f.setContent%28html_61d524bd462b4b6e8c0fa849f94d8433%29%3B%0A%20%20%20%20%20%20%20%20%0A%0A%20%20%20%20%20%20%20%20marker_61be6da63d4a4b93b732cd9995869600.bindPopup%28popup_2e681c92bd8f44c39cfbabdcd481408f%29%0A%20%20%20%20%20%20%20%20%3B%0A%0A%20%20%20%20%20%20%20%20%0A%20%20%20%20%0A%20%20%20%20%0A%20%20%20%20%20%20%20%20%20%20%20%20var%20marker_1171286ae13c4f8b90dc47663db9a100%20%3D%20L.marker%28%0A%20%20%20%20%20%20%20%20%20%20%20%20%20%20%20%20%5B36.994653530655285%2C%20129.40655933139496%5D%2C%0A%20%20%20%20%20%20%20%20%20%20%20%20%20%20%20%20%7B%7D%0A%20%20%20%20%20%20%20%20%20%20%20%20%29.addTo%28map_0e4ab3d7fff248e6abc08770798a1a9a%29%3B%0A%20%20%20%20%20%20%20%20%0A%20%20%20%20%0A%20%20%20%20%20%20%20%20%20%20%20%20var%20icon_cb8c2d5b8dd14f1cba5e3c9010b9f3d1%20%3D%20L.AwesomeMarkers.icon%28%0A%20%20%20%20%20%20%20%20%20%20%20%20%20%20%20%20%7B%22extraClasses%22%3A%20%22fa-rotate-0%22%2C%20%22icon%22%3A%20%22flag%22%2C%20%22iconColor%22%3A%20%22white%22%2C%20%22markerColor%22%3A%20%22blue%22%2C%20%22prefix%22%3A%20%22glyphicon%22%2C%20%22size%22%3A%200.1%7D%0A%20%20%20%20%20%20%20%20%20%20%20%20%29%3B%0A%20%20%20%20%20%20%20%20%20%20%20%20marker_1171286ae13c4f8b90dc47663db9a100.setIcon%28icon_cb8c2d5b8dd14f1cba5e3c9010b9f3d1%29%3B%0A%20%20%20%20%20%20%20%20%0A%20%20%20%20%0A%20%20%20%20%20%20%20%20var%20popup_726fcf16de3045b48ab1a2d3ada5d462%20%3D%20L.popup%28%7B%22maxWidth%22%3A%20%22100%25%22%7D%29%3B%0A%0A%20%20%20%20%20%20%20%20%0A%20%20%20%20%20%20%20%20%20%20%20%20var%20html_b0d2f69d6d9047f38f9b3d691a0e1c89%20%3D%20%24%28%60%3Cdiv%20id%3D%22html_b0d2f69d6d9047f38f9b3d691a0e1c89%22%20style%3D%22width%3A%20100.0%25%3B%20height%3A%20100.0%25%3B%22%3E%EC%97%B0%EC%A7%80%EA%B3%B5%EC%9B%90%3C/div%3E%60%29%5B0%5D%3B%0A%20%20%20%20%20%20%20%20%20%20%20%20popup_726fcf16de3045b48ab1a2d3ada5d462.setContent%28html_b0d2f69d6d9047f38f9b3d691a0e1c89%29%3B%0A%20%20%20%20%20%20%20%20%0A%0A%20%20%20%20%20%20%20%20marker_1171286ae13c4f8b90dc47663db9a100.bindPopup%28popup_726fcf16de3045b48ab1a2d3ada5d462%29%0A%20%20%20%20%20%20%20%20%3B%0A%0A%20%20%20%20%20%20%20%20%0A%20%20%20%20%0A%20%20%20%20%0A%20%20%20%20%20%20%20%20%20%20%20%20var%20marker_b51f202cd3fd403f88f8f78103955cb2%20%3D%20L.marker%28%0A%20%20%20%20%20%20%20%20%20%20%20%20%20%20%20%20%5B36.99718906064834%2C%20129.4030050314009%5D%2C%0A%20%20%20%20%20%20%20%20%20%20%20%20%20%20%20%20%7B%7D%0A%20%20%20%20%20%20%20%20%20%20%20%20%29.addTo%28map_0e4ab3d7fff248e6abc08770798a1a9a%29%3B%0A%20%20%20%20%20%20%20%20%0A%20%20%20%20%0A%20%20%20%20%20%20%20%20%20%20%20%20var%20icon_071e182c2fb248e58a0bcae09717e8f9%20%3D%20L.AwesomeMarkers.icon%28%0A%20%20%20%20%20%20%20%20%20%20%20%20%20%20%20%20%7B%22extraClasses%22%3A%20%22fa-rotate-0%22%2C%20%22icon%22%3A%20%22flag%22%2C%20%22iconColor%22%3A%20%22white%22%2C%20%22markerColor%22%3A%20%22blue%22%2C%20%22prefix%22%3A%20%22glyphicon%22%2C%20%22size%22%3A%200.1%7D%0A%20%20%20%20%20%20%20%20%20%20%20%20%29%3B%0A%20%20%20%20%20%20%20%20%20%20%20%20marker_b51f202cd3fd403f88f8f78103955cb2.setIcon%28icon_071e182c2fb248e58a0bcae09717e8f9%29%3B%0A%20%20%20%20%20%20%20%20%0A%20%20%20%20%0A%20%20%20%20%20%20%20%20var%20popup_12054b603e0c477380465f1fa9633489%20%3D%20L.popup%28%7B%22maxWidth%22%3A%20%22100%25%22%7D%29%3B%0A%0A%20%20%20%20%20%20%20%20%0A%20%20%20%20%20%20%20%20%20%20%20%20var%20html_20f5a978d2e741bfbd7ae391026ae57b%20%3D%20%24%28%60%3Cdiv%20id%3D%22html_20f5a978d2e741bfbd7ae391026ae57b%22%20style%3D%22width%3A%20100.0%25%3B%20height%3A%20100.0%25%3B%22%3E2%ED%98%B8%EA%B4%80%EC%82%AC%EC%95%9E%20%20%EA%B3%B5%EC%98%81%EC%A3%BC%EC%B0%A8%EC%9E%A5%3C/div%3E%60%29%5B0%5D%3B%0A%20%20%20%20%20%20%20%20%20%20%20%20popup_12054b603e0c477380465f1fa9633489.setContent%28html_20f5a978d2e741bfbd7ae391026ae57b%29%3B%0A%20%20%20%20%20%20%20%20%0A%0A%20%20%20%20%20%20%20%20marker_b51f202cd3fd403f88f8f78103955cb2.bindPopup%28popup_12054b603e0c477380465f1fa9633489%29%0A%20%20%20%20%20%20%20%20%3B%0A%0A%20%20%20%20%20%20%20%20%0A%20%20%20%20%0A%20%20%20%20%0A%20%20%20%20%20%20%20%20%20%20%20%20var%20marker_ec1c6ed0e53743618f277ab53491dd19%20%3D%20L.marker%28%0A%20%20%20%20%20%20%20%20%20%20%20%20%20%20%20%20%5B36.99465396065527%2C%20129.40655903139498%5D%2C%0A%20%20%20%20%20%20%20%20%20%20%20%20%20%20%20%20%7B%7D%0A%20%20%20%20%20%20%20%20%20%20%20%20%29.addTo%28map_0e4ab3d7fff248e6abc08770798a1a9a%29%3B%0A%20%20%20%20%20%20%20%20%0A%20%20%20%20%0A%20%20%20%20%20%20%20%20%20%20%20%20var%20icon_d3af841cea3d435dbb81d7e5d578e773%20%3D%20L.AwesomeMarkers.icon%28%0A%20%20%20%20%20%20%20%20%20%20%20%20%20%20%20%20%7B%22extraClasses%22%3A%20%22fa-rotate-0%22%2C%20%22icon%22%3A%20%22flag%22%2C%20%22iconColor%22%3A%20%22white%22%2C%20%22markerColor%22%3A%20%22blue%22%2C%20%22prefix%22%3A%20%22glyphicon%22%2C%20%22size%22%3A%200.1%7D%0A%20%20%20%20%20%20%20%20%20%20%20%20%29%3B%0A%20%20%20%20%20%20%20%20%20%20%20%20marker_ec1c6ed0e53743618f277ab53491dd19.setIcon%28icon_d3af841cea3d435dbb81d7e5d578e773%29%3B%0A%20%20%20%20%20%20%20%20%0A%20%20%20%20%0A%20%20%20%20%20%20%20%20var%20popup_91405d1795e84d2c81f98b2a8d8c9389%20%3D%20L.popup%28%7B%22maxWidth%22%3A%20%22100%25%22%7D%29%3B%0A%0A%20%20%20%20%20%20%20%20%0A%20%20%20%20%20%20%20%20%20%20%20%20var%20html_a0075cf1151146678202e0f80d49e264%20%3D%20%24%28%60%3Cdiv%20id%3D%22html_a0075cf1151146678202e0f80d49e264%22%20style%3D%22width%3A%20100.0%25%3B%20height%3A%20100.0%25%3B%22%3E%EC%97%B0%ED%98%B8%EA%B3%B5%EC%9B%90%20%EA%B3%B5%EC%98%81%EC%A3%BC%EC%B0%A8%EC%9E%A5%3C/div%3E%60%29%5B0%5D%3B%0A%20%20%20%20%20%20%20%20%20%20%20%20popup_91405d1795e84d2c81f98b2a8d8c9389.setContent%28html_a0075cf1151146678202e0f80d49e264%29%3B%0A%20%20%20%20%20%20%20%20%0A%0A%20%20%20%20%20%20%20%20marker_ec1c6ed0e53743618f277ab53491dd19.bindPopup%28popup_91405d1795e84d2c81f98b2a8d8c9389%29%0A%20%20%20%20%20%20%20%20%3B%0A%0A%20%20%20%20%20%20%20%20%0A%20%20%20%20%0A%20%20%20%20%0A%20%20%20%20%20%20%20%20%20%20%20%20var%20marker_01855ad0eb724d578f19b1852747c75f%20%3D%20L.marker%28%0A%20%20%20%20%20%20%20%20%20%20%20%20%20%20%20%20%5B36.96655396065716%2C%20129.38098903131598%5D%2C%0A%20%20%20%20%20%20%20%20%20%20%20%20%20%20%20%20%7B%7D%0A%20%20%20%20%20%20%20%20%20%20%20%20%29.addTo%28map_0e4ab3d7fff248e6abc08770798a1a9a%29%3B%0A%20%20%20%20%20%20%20%20%0A%20%20%20%20%0A%20%20%20%20%20%20%20%20%20%20%20%20var%20icon_bd6343f65a53477f9b2389a0401b4432%20%3D%20L.AwesomeMarkers.icon%28%0A%20%20%20%20%20%20%20%20%20%20%20%20%20%20%20%20%7B%22extraClasses%22%3A%20%22fa-rotate-0%22%2C%20%22icon%22%3A%20%22flag%22%2C%20%22iconColor%22%3A%20%22white%22%2C%20%22markerColor%22%3A%20%22blue%22%2C%20%22prefix%22%3A%20%22glyphicon%22%2C%20%22size%22%3A%200.1%7D%0A%20%20%20%20%20%20%20%20%20%20%20%20%29%3B%0A%20%20%20%20%20%20%20%20%20%20%20%20marker_01855ad0eb724d578f19b1852747c75f.setIcon%28icon_bd6343f65a53477f9b2389a0401b4432%29%3B%0A%20%20%20%20%20%20%20%20%0A%20%20%20%20%0A%20%20%20%20%20%20%20%20var%20popup_ee42035c71dc4a6e904ea83b73bad045%20%3D%20L.popup%28%7B%22maxWidth%22%3A%20%22100%25%22%7D%29%3B%0A%0A%20%20%20%20%20%20%20%20%0A%20%20%20%20%20%20%20%20%20%20%20%20var%20html_8eae57830938409e9d9b8dd44c6510d0%20%3D%20%24%28%60%3Cdiv%20id%3D%22html_8eae57830938409e9d9b8dd44c6510d0%22%20style%3D%22width%3A%20100.0%25%3B%20height%3A%20100.0%25%3B%22%3E%EB%AF%BC%EB%AC%BC%EA%B3%A0%EA%B8%B0%EC%97%B0%EA%B5%AC%EC%84%BC%ED%84%B0%20%EA%B3%B5%EC%98%81%EC%A3%BC%EC%B0%A8%EC%9E%A5%3C/div%3E%60%29%5B0%5D%3B%0A%20%20%20%20%20%20%20%20%20%20%20%20popup_ee42035c71dc4a6e904ea83b73bad045.setContent%28html_8eae57830938409e9d9b8dd44c6510d0%29%3B%0A%20%20%20%20%20%20%20%20%0A%0A%20%20%20%20%20%20%20%20marker_01855ad0eb724d578f19b1852747c75f.bindPopup%28popup_ee42035c71dc4a6e904ea83b73bad045%29%0A%20%20%20%20%20%20%20%20%3B%0A%0A%20%20%20%20%20%20%20%20%0A%20%20%20%20%0A%20%20%20%20%0A%20%20%20%20%20%20%20%20%20%20%20%20var%20marker_49db9b4e02af4d9093d673ddd8be1d5a%20%3D%20L.marker%28%0A%20%20%20%20%20%20%20%20%20%20%20%20%20%20%20%20%5B36.99465356065528%2C%20129.406559331395%5D%2C%0A%20%20%20%20%20%20%20%20%20%20%20%20%20%20%20%20%7B%7D%0A%20%20%20%20%20%20%20%20%20%20%20%20%29.addTo%28map_0e4ab3d7fff248e6abc08770798a1a9a%29%3B%0A%20%20%20%20%20%20%20%20%0A%20%20%20%20%0A%20%20%20%20%20%20%20%20%20%20%20%20var%20icon_01f42c97f3fd48ef8a7245f832206777%20%3D%20L.AwesomeMarkers.icon%28%0A%20%20%20%20%20%20%20%20%20%20%20%20%20%20%20%20%7B%22extraClasses%22%3A%20%22fa-rotate-0%22%2C%20%22icon%22%3A%20%22flag%22%2C%20%22iconColor%22%3A%20%22white%22%2C%20%22markerColor%22%3A%20%22blue%22%2C%20%22prefix%22%3A%20%22glyphicon%22%2C%20%22size%22%3A%200.1%7D%0A%20%20%20%20%20%20%20%20%20%20%20%20%29%3B%0A%20%20%20%20%20%20%20%20%20%20%20%20marker_49db9b4e02af4d9093d673ddd8be1d5a.setIcon%28icon_01f42c97f3fd48ef8a7245f832206777%29%3B%0A%20%20%20%20%20%20%20%20%0A%20%20%20%20%0A%20%20%20%20%20%20%20%20var%20popup_8afceb2d5a3c4aba8904e5d37b9d1335%20%3D%20L.popup%28%7B%22maxWidth%22%3A%20%22100%25%22%7D%29%3B%0A%0A%20%20%20%20%20%20%20%20%0A%20%20%20%20%20%20%20%20%20%20%20%20var%20html_a480869213fc402fab404497ae870fbf%20%3D%20%24%28%60%3Cdiv%20id%3D%22html_a480869213fc402fab404497ae870fbf%22%20style%3D%22width%3A%20100.0%25%3B%20height%3A%20100.0%25%3B%22%3E%EC%9A%B8%EC%A7%84%EC%A2%85%ED%95%A9%EC%9A%B4%EB%8F%99%EC%9E%A5%3C/div%3E%60%29%5B0%5D%3B%0A%20%20%20%20%20%20%20%20%20%20%20%20popup_8afceb2d5a3c4aba8904e5d37b9d1335.setContent%28html_a480869213fc402fab404497ae870fbf%29%3B%0A%20%20%20%20%20%20%20%20%0A%0A%20%20%20%20%20%20%20%20marker_49db9b4e02af4d9093d673ddd8be1d5a.bindPopup%28popup_8afceb2d5a3c4aba8904e5d37b9d1335%29%0A%20%20%20%20%20%20%20%20%3B%0A%0A%20%20%20%20%20%20%20%20%0A%20%20%20%20%0A%3C/script%3E onload=\"this.contentDocument.open();this.contentDocument.write(    decodeURIComponent(this.getAttribute('data-html')));this.contentDocument.close();\" allowfullscreen webkitallowfullscreen mozallowfullscreen></iframe></div></div>"
      ],
      "text/plain": [
       "<folium.folium.Map at 0x2435e098f08>"
      ]
     },
     "execution_count": 20,
     "metadata": {},
     "output_type": "execute_result"
    }
   ],
   "source": [
    "m"
   ]
  },
  {
   "cell_type": "code",
   "execution_count": null,
   "metadata": {},
   "outputs": [],
   "source": []
  }
 ],
 "metadata": {
  "hide_input": false,
  "kernelspec": {
   "display_name": "Python 3",
   "language": "python",
   "name": "python3"
  },
  "language_info": {
   "codemirror_mode": {
    "name": "ipython",
    "version": 3
   },
   "file_extension": ".py",
   "mimetype": "text/x-python",
   "name": "python",
   "nbconvert_exporter": "python",
   "pygments_lexer": "ipython3",
   "version": "3.7.6"
  },
  "toc": {
   "base_numbering": 1,
   "nav_menu": {},
   "number_sections": true,
   "sideBar": true,
   "skip_h1_title": false,
   "title_cell": "Table of Contents",
   "title_sidebar": "Contents",
   "toc_cell": false,
   "toc_position": {},
   "toc_section_display": true,
   "toc_window_display": false
  },
  "varInspector": {
   "cols": {
    "lenName": 16,
    "lenType": 16,
    "lenVar": 40
   },
   "kernels_config": {
    "python": {
     "delete_cmd_postfix": "",
     "delete_cmd_prefix": "del ",
     "library": "var_list.py",
     "varRefreshCmd": "print(var_dic_list())"
    },
    "r": {
     "delete_cmd_postfix": ") ",
     "delete_cmd_prefix": "rm(",
     "library": "var_list.r",
     "varRefreshCmd": "cat(var_dic_list()) "
    }
   },
   "types_to_exclude": [
    "module",
    "function",
    "builtin_function_or_method",
    "instance",
    "_Feature"
   ],
   "window_display": false
  }
 },
 "nbformat": 4,
 "nbformat_minor": 4
}
